{
  "nbformat": 4,
  "nbformat_minor": 0,
  "metadata": {
    "kernelspec": {
      "display_name": "Python 3",
      "language": "python",
      "name": "python3"
    },
    "language_info": {
      "codemirror_mode": {
        "name": "ipython",
        "version": 3
      },
      "file_extension": ".py",
      "mimetype": "text/x-python",
      "name": "python",
      "nbconvert_exporter": "python",
      "pygments_lexer": "ipython3",
      "version": "3.7.4"
    },
    "colab": {
      "name": "TWITEER_ML UTS.ipynb",
      "provenance": []
    }
  },
  "cells": [
    {
      "cell_type": "markdown",
      "metadata": {
        "id": "sZqgEu_79RrF"
      },
      "source": [
        "### Libraries"
      ]
    },
    {
      "cell_type": "code",
      "metadata": {
        "colab": {
          "base_uri": "https://localhost:8080/"
        },
        "id": "LcTBY5yo9RrF",
        "outputId": "9e53cee0-dddd-42b2-fe19-4fb13c6c64bc"
      },
      "source": [
        "import pandas as pd\n",
        "import numpy as np\n",
        "import seaborn as sns\n",
        "import matplotlib.pyplot as plt\n",
        "\n",
        "import tweepy\n",
        "import csv\n",
        "import os\n",
        "import pandas as pd\n",
        "\n",
        "import numpy as np \n",
        "import pandas as pd\n",
        "import matplotlib.pyplot as plt\n",
        "import seaborn as sns\n",
        "import re\n",
        "import spacy\n",
        "from sklearn.model_selection import train_test_split\n",
        "import nltk\n",
        "nltk.download('stopwords')\n",
        "nltk.download('wordnet')\n",
        "from nltk.tokenize import RegexpTokenizer, WhitespaceTokenizer\n",
        "from nltk.stem import WordNetLemmatizer\n",
        "from nltk.corpus import stopwords\n",
        "import string\n",
        "from string import punctuation\n",
        "import collections\n",
        "from collections import Counter\n",
        "from sklearn.feature_extraction.text import CountVectorizer, TfidfVectorizer\n",
        "import en_core_web_sm\n",
        "\n",
        "from sklearn.feature_extraction.text import CountVectorizer, TfidfTransformer\n",
        "from sklearn.metrics.pairwise import cosine_similarity\n",
        "\n",
        "from sklearn.metrics import jaccard_score"
      ],
      "execution_count": 119,
      "outputs": [
        {
          "output_type": "stream",
          "text": [
            "[nltk_data] Downloading package stopwords to /root/nltk_data...\n",
            "[nltk_data]   Package stopwords is already up-to-date!\n",
            "[nltk_data] Downloading package wordnet to /root/nltk_data...\n",
            "[nltk_data]   Package wordnet is already up-to-date!\n"
          ],
          "name": "stdout"
        }
      ]
    },
    {
      "cell_type": "code",
      "metadata": {
        "id": "-qBP_wR24560"
      },
      "source": [
        "consumer_key = 'ehVT0RhXW6AmfESk0KELKx8E0'\n",
        "consumer_secret = 'vCodO28e6hYSv0zxPbk9ltUSZvEHoB4PBSC6ttKHVaeIMNY596' \n",
        "access_token = '1090548436712091650-gMtb94dVouNribwt0i4be3d2RrUOvI' \n",
        "access_secret = 'wdC6C4Zvfv0eiZhgF30bP4YSzBKeDgDJja52OJdfHEC0m'\n",
        "\n",
        "# membuat object authentication ke API Twitter\n",
        "auth = tweepy.OAuthHandler(consumer_key, consumer_secret)\n",
        "# mensetting access token and secret key\n",
        "auth.set_access_token(access_token, access_secret)\n",
        "# melakukan authentication ke Twitter API\n",
        "api = tweepy.API(auth)"
      ],
      "execution_count": 120,
      "outputs": []
    },
    {
      "cell_type": "code",
      "metadata": {
        "colab": {
          "base_uri": "https://localhost:8080/"
        },
        "id": "rPbCZz_w461x",
        "outputId": "ae34f03e-d247-4e51-ecb6-a8676db85498"
      },
      "source": [
        "#Mengumpulkan cuitan dengan #CPNS2020\n",
        "tweets_data = []\n",
        "api = tweepy.API(auth, wait_on_rate_limit=True)\n",
        "for tweet in tweepy.Cursor(api.search,q=\"CPNS2019\",since=\"2020-11-1\").items(1000):\n",
        "    tweets_data.append([tweet.author.screen_name,\n",
        "                        tweet.lang,\n",
        "                        tweet.created_at,\n",
        "                        tweet.favorite_count,\n",
        "                        tweet.retweet_count,\n",
        "                        tweet.text,\n",
        "                        tweet.user.location])\n",
        "print(tweets_data)"
      ],
      "execution_count": 121,
      "outputs": [
        {
          "output_type": "stream",
          "text": [
            "[['MasArdy55351211', 'in', datetime.datetime(2020, 11, 28, 12, 13, 56), 0, 0, '@BKDTegalKab @PemkabTegal @umiazizah60 Progres penetapan NIP CPNS2019 gmna min?😇', ''], ['Roy_Ritonga', 'in', datetime.datetime(2020, 11, 28, 10, 33, 7), 0, 69, 'RT @BKNgoid: #SobatBKN, Mimin mau ingetin buat kalian kalau hari ini adalah batas akhir pemberkasan online #CPNS2019 di portal https://t.co…', 'Medan, Sumatera Utara'], ['zahrafryna', 'in', datetime.datetime(2020, 11, 28, 9, 11, 4), 0, 2180, 'RT @p3kcpns: -- THREAD KUMPULAN BUKU CPNS DPF GRATIS --\\n\\nOke kali ini berhubung jelang CPNS 2019, mau kembali berbagi file soal, materi ata…', 'Yogyakarta, Indonesia'], ['p3kcpns', 'in', datetime.datetime(2020, 11, 28, 3, 57, 36), 0, 2180, 'RT @p3kcpns: -- THREAD KUMPULAN BUKU CPNS DPF GRATIS --\\n\\nOke kali ini berhubung jelang CPNS 2019, mau kembali berbagi file soal, materi ata…', 'Indihiang, Indonesia'], ['gue_widagdo', 'in', datetime.datetime(2020, 11, 27, 22, 59, 55), 2, 0, 'H+10 Alhamdulillah terpantau 100%acc next step berikutnya semoga tetap dimudahkan ya Rob..sambil menunggu&amp;bergabung… https://t.co/RZB5muZ3Wj', ''], ['updatecpns_com', 'in', datetime.datetime(2020, 11, 27, 13, 40, 43), 2, 0, 'Update Pertek dan Penetapan NIP #CPNS2019.\\nHingga hari ini Jumat (27/11/2020) telah terbit Pertek dan Penetapan NIP… https://t.co/yYYAcMu58Y', ''], ['NarumiPuspa', 'in', datetime.datetime(2020, 11, 26, 16, 20, 35), 0, 31, 'RT @abiridwan2173: In the middle of difficulty lies opportunity.\\n\\nFormasi kosong #CPNS2019 dpt diajukan lg tahun 2021 oleh K/L/D.\\n\\nPeluang…', 'Negara, Bali, Indonesia'], ['heruedi', 'in', datetime.datetime(2020, 11, 26, 16, 13, 23), 0, 31, 'RT @abiridwan2173: In the middle of difficulty lies opportunity.\\n\\nFormasi kosong #CPNS2019 dpt diajukan lg tahun 2021 oleh K/L/D.\\n\\nPeluang…', ''], ['dicky_febrian22', 'in', datetime.datetime(2020, 11, 26, 7, 15, 4), 0, 172, 'RT @athfalludin: Sekedar berbagi informasi bagi kawan2 pejuang CPNS, ini cara untuk mengcompress foto.\\nSemoga dapat membantu\\n#CPNS2019 #cpn…', 'Indonesia DKI jakarta'], ['mchaerulumam', 'in', datetime.datetime(2020, 11, 26, 0, 54, 2), 0, 0, '@mareetaph15 @BKNgoid sy lulus CPNS2019 kak hehe', 'Comal - Semarang'], ['updatecpns_com', 'in', datetime.datetime(2020, 11, 25, 13, 59, 3), 0, 0, 'Mohon doanya juga ya, semoga seluruh tim penetapan NIP CPNS Formasi Tahun 2019 diberikan kesehatan 😊… https://t.co/aOEzOkIabm', ''], ['riskiapu', 'in', datetime.datetime(2020, 11, 25, 12, 12, 43), 0, 31, 'RT @abiridwan2173: In the middle of difficulty lies opportunity.\\n\\nFormasi kosong #CPNS2019 dpt diajukan lg tahun 2021 oleh K/L/D.\\n\\nPeluang…', 'Pondokgede, Indonesia'], ['LadimahSukma', 'in', datetime.datetime(2020, 11, 25, 11, 55), 2, 0, 'kawal terus info #bkdkaltim semoga berkas para #pejuangnip aman semua #cpns2019 https://t.co/QJVm2DiMhp', 'Kota Makassar, Sulawesi Selata'], ['Pipipipiii3', 'in', datetime.datetime(2020, 11, 25, 6, 43, 26), 0, 2180, 'RT @p3kcpns: -- THREAD KUMPULAN BUKU CPNS DPF GRATIS --\\n\\nOke kali ini berhubung jelang CPNS 2019, mau kembali berbagi file soal, materi ata…', ''], ['sari_2918', 'in', datetime.datetime(2020, 11, 25, 2, 18, 17), 0, 31, 'RT @abiridwan2173: In the middle of difficulty lies opportunity.\\n\\nFormasi kosong #CPNS2019 dpt diajukan lg tahun 2021 oleh K/L/D.\\n\\nPeluang…', ''], ['resdvil447', 'in', datetime.datetime(2020, 11, 24, 23, 43, 6), 0, 0, 'Ayo, segera siap2 utk guru yg mau ikut PPPK dan CPNS, akan dibuka kembali dg kuota lumayan banyak. #pppk\\n#cpns… https://t.co/8ZbawG9QxR', 'Jawa Timur, Indonesia'], ['aryafep', 'in', datetime.datetime(2020, 11, 24, 16, 52, 39), 0, 31, 'RT @abiridwan2173: In the middle of difficulty lies opportunity.\\n\\nFormasi kosong #CPNS2019 dpt diajukan lg tahun 2021 oleh K/L/D.\\n\\nPeluang…', 'Kota Semarang, Jawa Tengah'], ['EmiaFlorensya', 'in', datetime.datetime(2020, 11, 24, 15, 26, 54), 0, 2180, 'RT @p3kcpns: -- THREAD KUMPULAN BUKU CPNS DPF GRATIS --\\n\\nOke kali ini berhubung jelang CPNS 2019, mau kembali berbagi file soal, materi ata…', 'Sumatera Utara, Indonesia'], ['Irma60936814', 'in', datetime.datetime(2020, 11, 24, 13, 43, 56), 0, 69, 'RT @BKNgoid: #SobatBKN, Mimin mau ingetin buat kalian kalau hari ini adalah batas akhir pemberkasan online #CPNS2019 di portal https://t.co…', ''], ['marsmellow_3', 'in', datetime.datetime(2020, 11, 24, 13, 1, 46), 0, 2180, 'RT @p3kcpns: -- THREAD KUMPULAN BUKU CPNS DPF GRATIS --\\n\\nOke kali ini berhubung jelang CPNS 2019, mau kembali berbagi file soal, materi ata…', 'Taman depan rumah '], ['pengunyahes', 'in', datetime.datetime(2020, 11, 24, 12, 17, 50), 0, 0, '@Ginururu lebih tepatnya kemarin cpns2019 masuk gin', 'Dimana Kamu Mau'], ['Nartiart1', 'in', datetime.datetime(2020, 11, 24, 10, 1, 40), 0, 2180, 'RT @p3kcpns: -- THREAD KUMPULAN BUKU CPNS DPF GRATIS --\\n\\nOke kali ini berhubung jelang CPNS 2019, mau kembali berbagi file soal, materi ata…', ''], ['EmiaFlorensya', 'in', datetime.datetime(2020, 11, 24, 9, 52, 47), 0, 1412, 'RT @adlcerdikiawan: #CPNS2019 Banyak banget yg dm jadi saya share disini ya nderr semoga sukses tes cpns nya🙏🏻\\nMateri dan latsol SKD/UKD \\nh…', 'Sumatera Utara, Indonesia'], ['lampostco', 'in', datetime.datetime(2020, 11, 24, 8, 34, 39), 0, 0, 'Pemerintah Kabupaten Pesawaran masih memprioritaskan untuk formasi kesehatan dan pendidikan pada seleksi Calon Pega… https://t.co/dOZTHc9YNe', 'Lampung, Indonesia'], ['Jajan_melulu', 'in', datetime.datetime(2020, 11, 24, 5, 56, 9), 0, 439, 'RT @hellowooseok: 🍃 Pengalaman tes CPNS Kemenkumham 2018🍃 #CPNS2019 \\n\\nA thread https://t.co/43J6XDKAue', ''], ['ari_014nugroho', 'in', datetime.datetime(2020, 11, 24, 4, 17, 44), 0, 69, 'RT @BKNgoid: #SobatBKN, Mimin mau ingetin buat kalian kalau hari ini adalah batas akhir pemberkasan online #CPNS2019 di portal https://t.co…', 'Jogjakarta-Semarang'], ['cowokedu', 'in', datetime.datetime(2020, 11, 24, 0, 26, 12), 0, 0, 'Hitung mundur, pindah dari Jakarta, utk jadi abdi negara, yang penting masih di Indonesia.\\n\\n#BelaPersatuanBangsa… https://t.co/hP9vIDwKlr', 'Indonesia'], ['AmbokariOctav', 'in', datetime.datetime(2020, 11, 23, 13, 12, 12), 0, 31, 'RT @abiridwan2173: In the middle of difficulty lies opportunity.\\n\\nFormasi kosong #CPNS2019 dpt diajukan lg tahun 2021 oleh K/L/D.\\n\\nPeluang…', '📌Keerom Papua Indonesia'], ['uliahikmah', 'in', datetime.datetime(2020, 11, 23, 12, 8, 7), 0, 31, 'RT @abiridwan2173: In the middle of difficulty lies opportunity.\\n\\nFormasi kosong #CPNS2019 dpt diajukan lg tahun 2021 oleh K/L/D.\\n\\nPeluang…', 'Indonesia'], ['marisaastri', 'in', datetime.datetime(2020, 11, 23, 9, 24, 45), 0, 69, 'RT @BKNgoid: #SobatBKN, Mimin mau ingetin buat kalian kalau hari ini adalah batas akhir pemberkasan online #CPNS2019 di portal https://t.co…', 'heaven'], ['HendiYochanan', 'in', datetime.datetime(2020, 11, 23, 2, 24, 50), 0, 31, 'RT @abiridwan2173: In the middle of difficulty lies opportunity.\\n\\nFormasi kosong #CPNS2019 dpt diajukan lg tahun 2021 oleh K/L/D.\\n\\nPeluang…', ''], ['TornadoSinar', 'in', datetime.datetime(2020, 11, 23, 1, 23, 25), 0, 5, 'RT @kempanrb: Sahabat Muda, 4 orang peserta CPNS Kementerian PANRB yang dinyatakan lulus telah mengundurkan diri.\\n__\\nPejabat Pembina Kepega…', ''], ['amelliajulita', 'in', datetime.datetime(2020, 11, 23, 0, 25, 51), 0, 31, 'RT @abiridwan2173: In the middle of difficulty lies opportunity.\\n\\nFormasi kosong #CPNS2019 dpt diajukan lg tahun 2021 oleh K/L/D.\\n\\nPeluang…', 'Jakarta, Indonesia'], ['Komarud40072693', 'in', datetime.datetime(2020, 11, 22, 13, 57, 11), 0, 69, 'RT @BKNgoid: #SobatBKN, Mimin mau ingetin buat kalian kalau hari ini adalah batas akhir pemberkasan online #CPNS2019 di portal https://t.co…', ''], ['bkn2surabaya', 'in', datetime.datetime(2020, 11, 22, 9, 39, 36), 0, 69, 'RT @BKNgoid: #SobatBKN, Mimin mau ingetin buat kalian kalau hari ini adalah batas akhir pemberkasan online #CPNS2019 di portal https://t.co…', 'Sidoarjo, Surabaya'], ['ronniefss17', 'in', datetime.datetime(2020, 11, 22, 6, 42, 45), 0, 31, 'RT @abiridwan2173: In the middle of difficulty lies opportunity.\\n\\nFormasi kosong #CPNS2019 dpt diajukan lg tahun 2021 oleh K/L/D.\\n\\nPeluang…', 'Kepulauan Riau, Indonesia'], ['ayi1894', 'in', datetime.datetime(2020, 11, 22, 4, 32, 52), 0, 31, 'RT @abiridwan2173: In the middle of difficulty lies opportunity.\\n\\nFormasi kosong #CPNS2019 dpt diajukan lg tahun 2021 oleh K/L/D.\\n\\nPeluang…', 'Sumatera Barat, Indonesia'], ['HendiYochanan', 'in', datetime.datetime(2020, 11, 22, 4, 10, 11), 0, 178, 'RT @BKNgoid: Dalam masa pemberkasan CPNS2019 ini, #SobatBKN g perlu terlalu khwatir dg berkas yg sdh diunggah, apakah sdh memenuhi syarat /…', ''], ['nggii49', 'in', datetime.datetime(2020, 11, 22, 4, 8, 12), 0, 2180, 'RT @p3kcpns: -- THREAD KUMPULAN BUKU CPNS DPF GRATIS --\\n\\nOke kali ini berhubung jelang CPNS 2019, mau kembali berbagi file soal, materi ata…', ''], ['HPrasetyob11', 'in', datetime.datetime(2020, 11, 21, 23, 58, 22), 0, 69, 'RT @BKNgoid: #SobatBKN, Mimin mau ingetin buat kalian kalau hari ini adalah batas akhir pemberkasan online #CPNS2019 di portal https://t.co…', ''], ['Ranis99', 'in', datetime.datetime(2020, 11, 21, 23, 1, 55), 0, 69, 'RT @BKNgoid: #SobatBKN, Mimin mau ingetin buat kalian kalau hari ini adalah batas akhir pemberkasan online #CPNS2019 di portal https://t.co…', ''], ['ApolosDuri', 'in', datetime.datetime(2020, 11, 21, 22, 54, 57), 0, 0, '#LAPORBKN #CPNS2019 Ijin mau tanya, Kok BKD melaporkan kekurangan berkas 1 jam sebelum penutupan pemberkasan?\\nDan k… https://t.co/u5hQLAovxq', 'Papua, Indonesia'], ['rieza_interisti', 'in', datetime.datetime(2020, 11, 21, 22, 26, 50), 0, 69, 'RT @BKNgoid: #SobatBKN, Mimin mau ingetin buat kalian kalau hari ini adalah batas akhir pemberkasan online #CPNS2019 di portal https://t.co…', 'Medan'], ['WiwikAn85883757', 'in', datetime.datetime(2020, 11, 21, 18, 32, 7), 0, 69, 'RT @BKNgoid: #SobatBKN, Mimin mau ingetin buat kalian kalau hari ini adalah batas akhir pemberkasan online #CPNS2019 di portal https://t.co…', ''], ['Bimantara48', 'in', datetime.datetime(2020, 11, 21, 17, 0, 18), 0, 69, 'RT @BKNgoid: #SobatBKN, Mimin mau ingetin buat kalian kalau hari ini adalah batas akhir pemberkasan online #CPNS2019 di portal https://t.co…', 'Surabaya, Indonesia .'], ['Annisakhoriz', 'in', datetime.datetime(2020, 11, 21, 15, 12, 2), 0, 69, 'RT @BKNgoid: #SobatBKN, Mimin mau ingetin buat kalian kalau hari ini adalah batas akhir pemberkasan online #CPNS2019 di portal https://t.co…', ''], ['updatecpns_com', 'in', datetime.datetime(2020, 11, 21, 13, 47, 58), 0, 0, '#SobatBKN, Mimin mau ingetin buat kalian kalau hari ini adalah batas akhir pemberkasan online #CPNS2019 di portal… https://t.co/7uF0ZeNcBf', ''], ['GitaaSS', 'in', datetime.datetime(2020, 11, 21, 13, 26, 12), 0, 69, 'RT @BKNgoid: #SobatBKN, Mimin mau ingetin buat kalian kalau hari ini adalah batas akhir pemberkasan online #CPNS2019 di portal https://t.co…', 'West-central-east ind'], ['Megayan48826771', 'in', datetime.datetime(2020, 11, 21, 12, 27, 28), 0, 69, 'RT @BKNgoid: #SobatBKN, Mimin mau ingetin buat kalian kalau hari ini adalah batas akhir pemberkasan online #CPNS2019 di portal https://t.co…', ''], ['Renol_07', 'in', datetime.datetime(2020, 11, 21, 11, 39, 48), 0, 69, 'RT @BKNgoid: #SobatBKN, Mimin mau ingetin buat kalian kalau hari ini adalah batas akhir pemberkasan online #CPNS2019 di portal https://t.co…', ''], ['_zzzaaa666', 'in', datetime.datetime(2020, 11, 21, 11, 37, 47), 0, 69, 'RT @BKNgoid: #SobatBKN, Mimin mau ingetin buat kalian kalau hari ini adalah batas akhir pemberkasan online #CPNS2019 di portal https://t.co…', 'Yogyakarta, Indonesia'], ['katrimasinaga', 'in', datetime.datetime(2020, 11, 21, 11, 36, 52), 0, 69, 'RT @BKNgoid: #SobatBKN, Mimin mau ingetin buat kalian kalau hari ini adalah batas akhir pemberkasan online #CPNS2019 di portal https://t.co…', 'Jakarta, Indonesia'], ['nmdtrynt', 'in', datetime.datetime(2020, 11, 21, 10, 36, 50), 0, 69, 'RT @BKNgoid: #SobatBKN, Mimin mau ingetin buat kalian kalau hari ini adalah batas akhir pemberkasan online #CPNS2019 di portal https://t.co…', ''], ['eliaabeautyy', 'in', datetime.datetime(2020, 11, 21, 9, 56, 18), 0, 69, 'RT @BKNgoid: #SobatBKN, Mimin mau ingetin buat kalian kalau hari ini adalah batas akhir pemberkasan online #CPNS2019 di portal https://t.co…', 'medan,sumatra utara'], ['wattabi_', 'in', datetime.datetime(2020, 11, 21, 9, 13, 50), 0, 69, 'RT @BKNgoid: #SobatBKN, Mimin mau ingetin buat kalian kalau hari ini adalah batas akhir pemberkasan online #CPNS2019 di portal https://t.co…', 'Kota Surabaya, Jawa Timur'], ['kppn_jayapura', 'in', datetime.datetime(2020, 11, 21, 8, 40, 21), 0, 69, 'RT @BKNgoid: #SobatBKN, Mimin mau ingetin buat kalian kalau hari ini adalah batas akhir pemberkasan online #CPNS2019 di portal https://t.co…', 'Jayapura'], ['Gbigboss2', 'in', datetime.datetime(2020, 11, 21, 7, 22, 56), 0, 69, 'RT @BKNgoid: #SobatBKN, Mimin mau ingetin buat kalian kalau hari ini adalah batas akhir pemberkasan online #CPNS2019 di portal https://t.co…', ''], ['holikkurniawan_', 'in', datetime.datetime(2020, 11, 21, 7, 11, 41), 0, 69, 'RT @BKNgoid: #SobatBKN, Mimin mau ingetin buat kalian kalau hari ini adalah batas akhir pemberkasan online #CPNS2019 di portal https://t.co…', 'Banggai'], ['RendiSa03267539', 'in', datetime.datetime(2020, 11, 21, 6, 52, 29), 0, 69, 'RT @BKNgoid: #SobatBKN, Mimin mau ingetin buat kalian kalau hari ini adalah batas akhir pemberkasan online #CPNS2019 di portal https://t.co…', 'Kalimantan Barat, Indonesia'], ['TornadoSinar', 'in', datetime.datetime(2020, 11, 21, 6, 50, 5), 0, 69, 'RT @BKNgoid: #SobatBKN, Mimin mau ingetin buat kalian kalau hari ini adalah batas akhir pemberkasan online #CPNS2019 di portal https://t.co…', ''], ['Reginaddicts', 'in', datetime.datetime(2020, 11, 21, 6, 18, 24), 0, 69, 'RT @BKNgoid: #SobatBKN, Mimin mau ingetin buat kalian kalau hari ini adalah batas akhir pemberkasan online #CPNS2019 di portal https://t.co…', 'South Sumatra, Indonesia'], ['UtaryCarlina', 'in', datetime.datetime(2020, 11, 21, 6, 15, 25), 0, 69, 'RT @BKNgoid: #SobatBKN, Mimin mau ingetin buat kalian kalau hari ini adalah batas akhir pemberkasan online #CPNS2019 di portal https://t.co…', 'Bandung, Indonesia'], ['thoyibfaisal', 'in', datetime.datetime(2020, 11, 21, 6, 3, 23), 0, 69, 'RT @BKNgoid: #SobatBKN, Mimin mau ingetin buat kalian kalau hari ini adalah batas akhir pemberkasan online #CPNS2019 di portal https://t.co…', 'Banyuwangi, Indonesia'], ['KontanNews', 'in', datetime.datetime(2020, 11, 21, 5, 56, 3), 2, 1, 'Pemberkasan kelar Sabtu (21/11), kapan CPNS 2019 mulai bekerja? https://t.co/BK6Y8JhO5O #CPNS2019', 'Jakarta, Indonesia'], ['liau93', 'in', datetime.datetime(2020, 11, 21, 5, 55, 52), 0, 69, 'RT @BKNgoid: #SobatBKN, Mimin mau ingetin buat kalian kalau hari ini adalah batas akhir pemberkasan online #CPNS2019 di portal https://t.co…', 'Indonesia'], ['Rurur_ID', 'in', datetime.datetime(2020, 11, 21, 5, 54, 43), 0, 69, 'RT @BKNgoid: #SobatBKN, Mimin mau ingetin buat kalian kalau hari ini adalah batas akhir pemberkasan online #CPNS2019 di portal https://t.co…', 'Kota Yogyakarta, Yogyakarta'], ['medlistel_', 'in', datetime.datetime(2020, 11, 21, 5, 49, 51), 0, 69, 'RT @BKNgoid: #SobatBKN, Mimin mau ingetin buat kalian kalau hari ini adalah batas akhir pemberkasan online #CPNS2019 di portal https://t.co…', 'Bengkulu, Indonesia'], ['riceinabowl131', 'in', datetime.datetime(2020, 11, 21, 5, 34, 25), 0, 69, 'RT @BKNgoid: #SobatBKN, Mimin mau ingetin buat kalian kalau hari ini adalah batas akhir pemberkasan online #CPNS2019 di portal https://t.co…', 'Outer Space \\U0001f6f8'], ['agatachristy3', 'in', datetime.datetime(2020, 11, 21, 5, 34, 1), 0, 69, 'RT @BKNgoid: #SobatBKN, Mimin mau ingetin buat kalian kalau hari ini adalah batas akhir pemberkasan online #CPNS2019 di portal https://t.co…', 'Tegal, Jawa Tengah'], ['LuckyEkki', 'in', datetime.datetime(2020, 11, 21, 5, 23, 53), 0, 69, 'RT @BKNgoid: #SobatBKN, Mimin mau ingetin buat kalian kalau hari ini adalah batas akhir pemberkasan online #CPNS2019 di portal https://t.co…', 'Kota Palopo, Sulawesi Selatan'], ['tribunjambiku', 'in', datetime.datetime(2020, 11, 21, 5, 15, 40), 0, 0, 'Kapan CPNS 2019 Mulai Bekerja? Bocoran Pembukaan Pendaftaran CPNS 2021 Sekitar Bulan Maret\\n \\n#CPNS #pembukaancpns… https://t.co/2rnr75QdlP', 'Jambi'], ['andieeeeer', 'in', datetime.datetime(2020, 11, 21, 5, 15, 2), 0, 69, 'RT @BKNgoid: #SobatBKN, Mimin mau ingetin buat kalian kalau hari ini adalah batas akhir pemberkasan online #CPNS2019 di portal https://t.co…', 'ÜT: -5.1371669,119.4782981'], ['stqmhh', 'in', datetime.datetime(2020, 11, 21, 5, 8, 24), 0, 69, 'RT @BKNgoid: #SobatBKN, Mimin mau ingetin buat kalian kalau hari ini adalah batas akhir pemberkasan online #CPNS2019 di portal https://t.co…', 'Banjarmasin'], ['lintangtingtung', 'in', datetime.datetime(2020, 11, 21, 5, 7, 48), 0, 69, 'RT @BKNgoid: #SobatBKN, Mimin mau ingetin buat kalian kalau hari ini adalah batas akhir pemberkasan online #CPNS2019 di portal https://t.co…', 'Surabaya, Indonesia'], ['melukisenjaaa', 'in', datetime.datetime(2020, 11, 21, 5, 3, 3), 0, 69, 'RT @BKNgoid: #SobatBKN, Mimin mau ingetin buat kalian kalau hari ini adalah batas akhir pemberkasan online #CPNS2019 di portal https://t.co…', 'Deep Sea'], ['erikphitoyo1', 'in', datetime.datetime(2020, 11, 21, 5, 2, 48), 0, 69, 'RT @BKNgoid: #SobatBKN, Mimin mau ingetin buat kalian kalau hari ini adalah batas akhir pemberkasan online #CPNS2019 di portal https://t.co…', 'Madiun'], ['SUPRIYA28039536', 'in', datetime.datetime(2020, 11, 21, 4, 55, 39), 0, 69, 'RT @BKNgoid: #SobatBKN, Mimin mau ingetin buat kalian kalau hari ini adalah batas akhir pemberkasan online #CPNS2019 di portal https://t.co…', ''], ['martinyepe2', 'in', datetime.datetime(2020, 11, 21, 4, 45, 41), 0, 69, 'RT @BKNgoid: #SobatBKN, Mimin mau ingetin buat kalian kalau hari ini adalah batas akhir pemberkasan online #CPNS2019 di portal https://t.co…', ''], ['Putrii96', 'in', datetime.datetime(2020, 11, 21, 4, 45, 9), 0, 69, 'RT @BKNgoid: #SobatBKN, Mimin mau ingetin buat kalian kalau hari ini adalah batas akhir pemberkasan online #CPNS2019 di portal https://t.co…', ''], ['mayowiinatasya', 'in', datetime.datetime(2020, 11, 21, 4, 44, 44), 0, 69, 'RT @BKNgoid: #SobatBKN, Mimin mau ingetin buat kalian kalau hari ini adalah batas akhir pemberkasan online #CPNS2019 di portal https://t.co…', ''], ['APENG_23', 'in', datetime.datetime(2020, 11, 21, 4, 43), 0, 69, 'RT @BKNgoid: #SobatBKN, Mimin mau ingetin buat kalian kalau hari ini adalah batas akhir pemberkasan online #CPNS2019 di portal https://t.co…', 'Mataram - Lombok - NTB'], ['rizkadwisvra', 'in', datetime.datetime(2020, 11, 21, 4, 34, 28), 0, 69, 'RT @BKNgoid: #SobatBKN, Mimin mau ingetin buat kalian kalau hari ini adalah batas akhir pemberkasan online #CPNS2019 di portal https://t.co…', 'Medan,Indonesia'], ['hacloudies', 'in', datetime.datetime(2020, 11, 21, 4, 34, 3), 0, 69, 'RT @BKNgoid: #SobatBKN, Mimin mau ingetin buat kalian kalau hari ini adalah batas akhir pemberkasan online #CPNS2019 di portal https://t.co…', 'Sapphire Blue Ocean '], ['faridk1810', 'in', datetime.datetime(2020, 11, 21, 4, 27, 44), 0, 69, 'RT @BKNgoid: #SobatBKN, Mimin mau ingetin buat kalian kalau hari ini adalah batas akhir pemberkasan online #CPNS2019 di portal https://t.co…', 'Purwokerto Selatan, Indonesia'], ['Beny_Hartanto89', 'in', datetime.datetime(2020, 11, 21, 4, 22, 21), 0, 69, 'RT @BKNgoid: #SobatBKN, Mimin mau ingetin buat kalian kalau hari ini adalah batas akhir pemberkasan online #CPNS2019 di portal https://t.co…', 'Bondowoso'], ['yonikaps', 'in', datetime.datetime(2020, 11, 21, 4, 21, 38), 0, 69, 'RT @BKNgoid: #SobatBKN, Mimin mau ingetin buat kalian kalau hari ini adalah batas akhir pemberkasan online #CPNS2019 di portal https://t.co…', ''], ['putribayu_', 'in', datetime.datetime(2020, 11, 21, 4, 20, 23), 0, 69, 'RT @BKNgoid: #SobatBKN, Mimin mau ingetin buat kalian kalau hari ini adalah batas akhir pemberkasan online #CPNS2019 di portal https://t.co…', 'Jawa Barat, Indonesia'], ['candycoco__', 'in', datetime.datetime(2020, 11, 21, 4, 19, 3), 0, 784, 'RT @adlcerdikiawan: #CPNS2019 ayo tetap semangat dan yang mau mulai belajar gue ada banyak soal soal yang mau rep aja🙏🏻 https://t.co/A73k7L…', ''], ['UlfatulGold', 'in', datetime.datetime(2020, 11, 21, 4, 17, 56), 0, 69, 'RT @BKNgoid: #SobatBKN, Mimin mau ingetin buat kalian kalau hari ini adalah batas akhir pemberkasan online #CPNS2019 di portal https://t.co…', 'Indonesia'], ['BKNgoid', 'in', datetime.datetime(2020, 11, 21, 4, 16, 33), 551, 69, '#SobatBKN, Mimin mau ingetin buat kalian kalau hari ini adalah batas akhir pemberkasan online #CPNS2019 di portal… https://t.co/ZNlifAQGKj', 'Jakarta, Indonesia'], ['katrimasinaga', 'in', datetime.datetime(2020, 11, 21, 3, 7, 51), 0, 31, 'RT @abiridwan2173: In the middle of difficulty lies opportunity.\\n\\nFormasi kosong #CPNS2019 dpt diajukan lg tahun 2021 oleh K/L/D.\\n\\nPeluang…', 'Jakarta, Indonesia'], ['jejejejelo', 'in', datetime.datetime(2020, 11, 20, 22, 22, 10), 0, 31, 'RT @abiridwan2173: In the middle of difficulty lies opportunity.\\n\\nFormasi kosong #CPNS2019 dpt diajukan lg tahun 2021 oleh K/L/D.\\n\\nPeluang…', '(+62) '], ['imam_15', 'in', datetime.datetime(2020, 11, 20, 14, 35, 54), 0, 31, 'RT @abiridwan2173: In the middle of difficulty lies opportunity.\\n\\nFormasi kosong #CPNS2019 dpt diajukan lg tahun 2021 oleh K/L/D.\\n\\nPeluang…', 'Sambas Kalimantan Barat'], ['ayudyaane', 'in', datetime.datetime(2020, 11, 20, 11, 3, 19), 0, 31, 'RT @abiridwan2173: In the middle of difficulty lies opportunity.\\n\\nFormasi kosong #CPNS2019 dpt diajukan lg tahun 2021 oleh K/L/D.\\n\\nPeluang…', 'Indonesia'], ['anzacia09', 'in', datetime.datetime(2020, 11, 20, 9, 46, 58), 0, 30, 'RT @abiridwan2173: Top 10 univ asal pelamar #CPNS2019 yg paling banyak lulus:\\n\\n1. UT @UnivTerbuka \\n2. UGM @UGMYogyakarta \\n3. UPI @upi_offic…', 'Sungai Keruh, Indonesia'], ['anzacia09', 'in', datetime.datetime(2020, 11, 20, 9, 46, 54), 0, 33, 'RT @abiridwan2173: Fun fact lulusan seleksi #CPNS2019:\\n\\nJenis Kelamin\\nWanita 60,93%\\nPria 39,07%\\n\\nRentang Usia\\n18-20 1,49% \\n21-25 31,43% \\n26…', 'Sungai Keruh, Indonesia'], ['anzacia09', 'in', datetime.datetime(2020, 11, 20, 9, 43, 38), 0, 31, 'RT @abiridwan2173: In the middle of difficulty lies opportunity.\\n\\nFormasi kosong #CPNS2019 dpt diajukan lg tahun 2021 oleh K/L/D.\\n\\nPeluang…', 'Sungai Keruh, Indonesia'], ['thoyibfaisal', 'en', datetime.datetime(2020, 11, 20, 9, 31, 31), 0, 22, 'RT @abiridwan2173: As of Nov 19, 2020 at 20.00, 98,72% of #CPNS2019 has uploaded their CVs into the system.\\n\\nWhether you got the notif or n…', 'Banyuwangi, Indonesia'], ['Gbigboss2', 'in', datetime.datetime(2020, 11, 20, 9, 29, 37), 0, 31, 'RT @abiridwan2173: In the middle of difficulty lies opportunity.\\n\\nFormasi kosong #CPNS2019 dpt diajukan lg tahun 2021 oleh K/L/D.\\n\\nPeluang…', ''], ['Gbigboss2', 'en', datetime.datetime(2020, 11, 20, 9, 27, 39), 0, 22, 'RT @abiridwan2173: As of Nov 19, 2020 at 20.00, 98,72% of #CPNS2019 has uploaded their CVs into the system.\\n\\nWhether you got the notif or n…', ''], ['OnikSri', 'in', datetime.datetime(2020, 11, 20, 5, 54, 42), 0, 178, 'RT @BKNgoid: Dalam masa pemberkasan CPNS2019 ini, #SobatBKN g perlu terlalu khwatir dg berkas yg sdh diunggah, apakah sdh memenuhi syarat /…', ''], ['FiransyahNahar', 'in', datetime.datetime(2020, 11, 20, 5, 9, 38), 0, 31, 'RT @abiridwan2173: In the middle of difficulty lies opportunity.\\n\\nFormasi kosong #CPNS2019 dpt diajukan lg tahun 2021 oleh K/L/D.\\n\\nPeluang…', 'Kota Makassar, Sulawesi Selata'], ['Rolyadins', 'in', datetime.datetime(2020, 11, 20, 5, 2, 6), 0, 31, 'RT @abiridwan2173: In the middle of difficulty lies opportunity.\\n\\nFormasi kosong #CPNS2019 dpt diajukan lg tahun 2021 oleh K/L/D.\\n\\nPeluang…', ''], ['mofrizal', 'in', datetime.datetime(2020, 11, 20, 4, 56, 11), 0, 22, 'RT @abiridwan2173: Per 16 Nov 2020 pukul 15.00 WIB, 136.957 peserta pemberkasan #CPNS2019 telah unggah DRH.\\n\\nHiruk pikuk pembuatan SKCK, su…', 'Jakarta - Indonesia'], ['abdulone_', 'in', datetime.datetime(2020, 11, 20, 4, 23, 24), 0, 31, 'RT @abiridwan2173: In the middle of difficulty lies opportunity.\\n\\nFormasi kosong #CPNS2019 dpt diajukan lg tahun 2021 oleh K/L/D.\\n\\nPeluang…', ''], ['niasasnia', 'in', datetime.datetime(2020, 11, 20, 3, 55, 2), 0, 31, 'RT @abiridwan2173: In the middle of difficulty lies opportunity.\\n\\nFormasi kosong #CPNS2019 dpt diajukan lg tahun 2021 oleh K/L/D.\\n\\nPeluang…', 'Indonesia'], ['FBilayudha', 'in', datetime.datetime(2020, 11, 20, 3, 35, 14), 0, 31, 'RT @abiridwan2173: In the middle of difficulty lies opportunity.\\n\\nFormasi kosong #CPNS2019 dpt diajukan lg tahun 2021 oleh K/L/D.\\n\\nPeluang…', 'Belitung'], ['elfhap', 'in', datetime.datetime(2020, 11, 20, 3, 34, 45), 0, 31, 'RT @abiridwan2173: In the middle of difficulty lies opportunity.\\n\\nFormasi kosong #CPNS2019 dpt diajukan lg tahun 2021 oleh K/L/D.\\n\\nPeluang…', 'Indonesia'], ['risma13314861', 'in', datetime.datetime(2020, 11, 20, 3, 34, 29), 0, 31, 'RT @abiridwan2173: In the middle of difficulty lies opportunity.\\n\\nFormasi kosong #CPNS2019 dpt diajukan lg tahun 2021 oleh K/L/D.\\n\\nPeluang…', ''], ['aigokamjagiyaa', 'in', datetime.datetime(2020, 11, 20, 3, 29, 41), 0, 31, 'RT @abiridwan2173: In the middle of difficulty lies opportunity.\\n\\nFormasi kosong #CPNS2019 dpt diajukan lg tahun 2021 oleh K/L/D.\\n\\nPeluang…', ''], ['Mas_Hardiyanto', 'in', datetime.datetime(2020, 11, 20, 3, 29, 41), 0, 31, 'RT @abiridwan2173: In the middle of difficulty lies opportunity.\\n\\nFormasi kosong #CPNS2019 dpt diajukan lg tahun 2021 oleh K/L/D.\\n\\nPeluang…', ''], ['abiridwan2173', 'in', datetime.datetime(2020, 11, 20, 3, 28, 55), 105, 31, 'In the middle of difficulty lies opportunity.\\n\\nFormasi kosong #CPNS2019 dpt diajukan lg tahun 2021 oleh K/L/D.\\n\\nPel… https://t.co/BrygPTtneN', 'Jakarta, Indonesia']]\n"
          ],
          "name": "stdout"
        }
      ]
    },
    {
      "cell_type": "code",
      "metadata": {
        "colab": {
          "base_uri": "https://localhost:8080/",
          "height": 419
        },
        "id": "t5w4TxwL5TiN",
        "outputId": "df74bd9a-79cc-4056-a73f-88528df61344"
      },
      "source": [
        "#Mengubah data cuitan ke dalam DataFrame\n",
        "import pandas as pd\n",
        "tweets_pd = pd.DataFrame(tweets_data,\n",
        "                         columns=['screen_name', 'lang', 'created_at', 'fav_count', 'retweet_count', 'text', 'location'])\n",
        "display(tweets_pd)"
      ],
      "execution_count": 40,
      "outputs": [
        {
          "output_type": "display_data",
          "data": {
            "text/html": [
              "<div>\n",
              "<style scoped>\n",
              "    .dataframe tbody tr th:only-of-type {\n",
              "        vertical-align: middle;\n",
              "    }\n",
              "\n",
              "    .dataframe tbody tr th {\n",
              "        vertical-align: top;\n",
              "    }\n",
              "\n",
              "    .dataframe thead th {\n",
              "        text-align: right;\n",
              "    }\n",
              "</style>\n",
              "<table border=\"1\" class=\"dataframe\">\n",
              "  <thead>\n",
              "    <tr style=\"text-align: right;\">\n",
              "      <th></th>\n",
              "      <th>screen_name</th>\n",
              "      <th>lang</th>\n",
              "      <th>created_at</th>\n",
              "      <th>fav_count</th>\n",
              "      <th>retweet_count</th>\n",
              "      <th>text</th>\n",
              "      <th>location</th>\n",
              "    </tr>\n",
              "  </thead>\n",
              "  <tbody>\n",
              "    <tr>\n",
              "      <th>0</th>\n",
              "      <td>MasArdy55351211</td>\n",
              "      <td>in</td>\n",
              "      <td>2020-11-28 12:13:56</td>\n",
              "      <td>0</td>\n",
              "      <td>0</td>\n",
              "      <td>@BKDTegalKab @PemkabTegal @umiazizah60 Progres...</td>\n",
              "      <td></td>\n",
              "    </tr>\n",
              "    <tr>\n",
              "      <th>1</th>\n",
              "      <td>Roy_Ritonga</td>\n",
              "      <td>in</td>\n",
              "      <td>2020-11-28 10:33:07</td>\n",
              "      <td>0</td>\n",
              "      <td>69</td>\n",
              "      <td>RT @BKNgoid: #SobatBKN, Mimin mau ingetin buat...</td>\n",
              "      <td>Medan, Sumatera Utara</td>\n",
              "    </tr>\n",
              "    <tr>\n",
              "      <th>2</th>\n",
              "      <td>zahrafryna</td>\n",
              "      <td>in</td>\n",
              "      <td>2020-11-28 09:11:04</td>\n",
              "      <td>0</td>\n",
              "      <td>2180</td>\n",
              "      <td>RT @p3kcpns: -- THREAD KUMPULAN BUKU CPNS DPF ...</td>\n",
              "      <td>Yogyakarta, Indonesia</td>\n",
              "    </tr>\n",
              "    <tr>\n",
              "      <th>3</th>\n",
              "      <td>p3kcpns</td>\n",
              "      <td>in</td>\n",
              "      <td>2020-11-28 03:57:36</td>\n",
              "      <td>0</td>\n",
              "      <td>2180</td>\n",
              "      <td>RT @p3kcpns: -- THREAD KUMPULAN BUKU CPNS DPF ...</td>\n",
              "      <td>Indihiang, Indonesia</td>\n",
              "    </tr>\n",
              "    <tr>\n",
              "      <th>4</th>\n",
              "      <td>gue_widagdo</td>\n",
              "      <td>in</td>\n",
              "      <td>2020-11-27 22:59:55</td>\n",
              "      <td>1</td>\n",
              "      <td>0</td>\n",
              "      <td>H+10 Alhamdulillah terpantau 100%acc next step...</td>\n",
              "      <td></td>\n",
              "    </tr>\n",
              "    <tr>\n",
              "      <th>...</th>\n",
              "      <td>...</td>\n",
              "      <td>...</td>\n",
              "      <td>...</td>\n",
              "      <td>...</td>\n",
              "      <td>...</td>\n",
              "      <td>...</td>\n",
              "      <td>...</td>\n",
              "    </tr>\n",
              "    <tr>\n",
              "      <th>107</th>\n",
              "      <td>elfhap</td>\n",
              "      <td>in</td>\n",
              "      <td>2020-11-20 03:34:45</td>\n",
              "      <td>0</td>\n",
              "      <td>31</td>\n",
              "      <td>RT @abiridwan2173: In the middle of difficulty...</td>\n",
              "      <td>Indonesia</td>\n",
              "    </tr>\n",
              "    <tr>\n",
              "      <th>108</th>\n",
              "      <td>risma13314861</td>\n",
              "      <td>in</td>\n",
              "      <td>2020-11-20 03:34:29</td>\n",
              "      <td>0</td>\n",
              "      <td>31</td>\n",
              "      <td>RT @abiridwan2173: In the middle of difficulty...</td>\n",
              "      <td></td>\n",
              "    </tr>\n",
              "    <tr>\n",
              "      <th>109</th>\n",
              "      <td>aigokamjagiyaa</td>\n",
              "      <td>in</td>\n",
              "      <td>2020-11-20 03:29:41</td>\n",
              "      <td>0</td>\n",
              "      <td>31</td>\n",
              "      <td>RT @abiridwan2173: In the middle of difficulty...</td>\n",
              "      <td></td>\n",
              "    </tr>\n",
              "    <tr>\n",
              "      <th>110</th>\n",
              "      <td>Mas_Hardiyanto</td>\n",
              "      <td>in</td>\n",
              "      <td>2020-11-20 03:29:41</td>\n",
              "      <td>0</td>\n",
              "      <td>31</td>\n",
              "      <td>RT @abiridwan2173: In the middle of difficulty...</td>\n",
              "      <td></td>\n",
              "    </tr>\n",
              "    <tr>\n",
              "      <th>111</th>\n",
              "      <td>abiridwan2173</td>\n",
              "      <td>in</td>\n",
              "      <td>2020-11-20 03:28:55</td>\n",
              "      <td>105</td>\n",
              "      <td>31</td>\n",
              "      <td>In the middle of difficulty lies opportunity.\\...</td>\n",
              "      <td>Jakarta, Indonesia</td>\n",
              "    </tr>\n",
              "  </tbody>\n",
              "</table>\n",
              "<p>112 rows × 7 columns</p>\n",
              "</div>"
            ],
            "text/plain": [
              "         screen_name  ...               location\n",
              "0    MasArdy55351211  ...                       \n",
              "1        Roy_Ritonga  ...  Medan, Sumatera Utara\n",
              "2         zahrafryna  ...  Yogyakarta, Indonesia\n",
              "3            p3kcpns  ...   Indihiang, Indonesia\n",
              "4        gue_widagdo  ...                       \n",
              "..               ...  ...                    ...\n",
              "107           elfhap  ...              Indonesia\n",
              "108    risma13314861  ...                       \n",
              "109   aigokamjagiyaa  ...                       \n",
              "110   Mas_Hardiyanto  ...                       \n",
              "111    abiridwan2173  ...     Jakarta, Indonesia\n",
              "\n",
              "[112 rows x 7 columns]"
            ]
          },
          "metadata": {
            "tags": []
          }
        }
      ]
    },
    {
      "cell_type": "code",
      "metadata": {
        "colab": {
          "base_uri": "https://localhost:8080/"
        },
        "id": "g8hDqKGH6Fp7",
        "outputId": "e28b0649-81b3-48e9-a14b-56ea33735021"
      },
      "source": [
        " #Mengumpulkan cuitan dengan #SObatBKN\n",
        " tweets_data1 = []\n",
        "api = tweepy.API(auth, wait_on_rate_limit=True)\n",
        "for tweet in tweepy.Cursor(api.search,q=\"SobatBKN\",since=\"2020-10-1\").items(1000):\n",
        "    tweets_data1.append([tweet.author.screen_name,\n",
        "                        tweet.lang,\n",
        "                        tweet.created_at,\n",
        "                        tweet.favorite_count,\n",
        "                        tweet.retweet_count,\n",
        "                        tweet.text,\n",
        "                        tweet.user.location])\n",
        "print(tweets_data1)"
      ],
      "execution_count": 42,
      "outputs": [
        {
          "output_type": "stream",
          "text": [
            "[['Roy_Ritonga', 'in', datetime.datetime(2020, 11, 28, 10, 33, 7), 0, 69, 'RT @BKNgoid: #SobatBKN, Mimin mau ingetin buat kalian kalau hari ini adalah batas akhir pemberkasan online #CPNS2019 di portal https://t.co…', 'Medan, Sumatera Utara'], ['kadek_susani', 'in', datetime.datetime(2020, 11, 27, 14, 41, 14), 0, 300, 'RT @BKNgoid: #SobatBKN, Penetapan TMT Peserta Lulus Seleksi CPNS 2019 Bergantung Usul Masuk Instansi https://t.co/UubdX3JUJN', 'indonesia'], ['updatecpns_com', 'in', datetime.datetime(2020, 11, 27, 13, 41, 51), 1, 0, 'Hai hai #sobatBKN kesayangan gimana kabarnya? Mimin mau nyampein kabar gembira nih buat #sobatBKN yang dari kemaren… https://t.co/0jLQ3aX9Tv', ''], ['updatecpns_com', 'in', datetime.datetime(2020, 11, 27, 13, 40, 43), 2, 0, 'Update Pertek dan Penetapan NIP #CPNS2019.\\nHingga hari ini Jumat (27/11/2020) telah terbit Pertek dan Penetapan NIP… https://t.co/yYYAcMu58Y', ''], ['4dysuryanugraha', 'in', datetime.datetime(2020, 11, 26, 12, 30, 1), 0, 7, 'RT @BKNgoid: Hai #SobatBKN, terkait surat usulan Uji Kompetensi Kenaikan Jenjang Jabatan Fungsional Analis Kepegawaian dan Auditor Kepegawa…', 'Sidoarjo|Jawa Timur|Indonesia'], ['mutmainnahmust_', 'in', datetime.datetime(2020, 11, 26, 4, 1, 59), 0, 7, 'RT @BKNgoid: Hai #SobatBKN, terkait surat usulan Uji Kompetensi Kenaikan Jenjang Jabatan Fungsional Analis Kepegawaian dan Auditor Kepegawa…', 'Kota Makassar, Sulawesi Selata'], ['BKNgoid', 'in', datetime.datetime(2020, 11, 26, 4, 0, 19), 110, 7, 'Hai #SobatBKN, terkait surat usulan Uji Kompetensi Kenaikan Jenjang Jabatan Fungsional Analis Kepegawaian dan Audit… https://t.co/zDiSa5rjzD', 'Jakarta, Indonesia'], ['Irma60936814', 'in', datetime.datetime(2020, 11, 24, 13, 43, 56), 0, 69, 'RT @BKNgoid: #SobatBKN, Mimin mau ingetin buat kalian kalau hari ini adalah batas akhir pemberkasan online #CPNS2019 di portal https://t.co…', ''], ['bayuzigner', 'in', datetime.datetime(2020, 11, 24, 11, 27, 59), 0, 300, 'RT @BKNgoid: #SobatBKN, Penetapan TMT Peserta Lulus Seleksi CPNS 2019 Bergantung Usul Masuk Instansi https://t.co/UubdX3JUJN', 'Instagram.com/bayualdit'], ['ari_014nugroho', 'in', datetime.datetime(2020, 11, 24, 4, 17, 44), 0, 69, 'RT @BKNgoid: #SobatBKN, Mimin mau ingetin buat kalian kalau hari ini adalah batas akhir pemberkasan online #CPNS2019 di portal https://t.co…', 'Jogjakarta-Semarang'], ['mrptrshn', 'in', datetime.datetime(2020, 11, 24, 3, 5, 35), 0, 5, 'RT @BKNgoid: Hai #SobatBKN, Kepala BKN Bima H. Wibisana menyerahkan Pertimbangan Teknis tentang Penugasan PNS di lingkungan BP Batam kepada…', 'Tanjung Pinang City, Indonesia'], ['bankdann', 'in', datetime.datetime(2020, 11, 23, 10, 57, 4), 0, 387, 'RT @BKNgoid: Selamat pagi, keberkahan u/ kita semua. \\n\\nPerlu #SobatBKN tahu, stl berkas #CPNS2018 diterima &amp; diverval oleh BKN, kami akan t…', ''], ['bankdann', 'in', datetime.datetime(2020, 11, 23, 10, 39, 57), 0, 26, 'RT @BKNgoid: #SobatBKN, Ka BKN, Bima Haria Wibisana menandatangani Surat Kepala No. K26-30/V 64-6/99 pd 6/5/2019 ttg tindak lanjut penetapa…', ''], ['eradedenzu', 'in', datetime.datetime(2020, 11, 23, 10, 8, 4), 0, 5, 'RT @BKNgoid: Hai #SobatBKN, Kepala BKN Bima H. Wibisana menyerahkan Pertimbangan Teknis tentang Penugasan PNS di lingkungan BP Batam kepada…', ''], ['marisaastri', 'in', datetime.datetime(2020, 11, 23, 9, 24, 45), 0, 69, 'RT @BKNgoid: #SobatBKN, Mimin mau ingetin buat kalian kalau hari ini adalah batas akhir pemberkasan online #CPNS2019 di portal https://t.co…', 'heaven'], ['BETAWI_KOTA', 'in', datetime.datetime(2020, 11, 23, 6, 43, 6), 0, 5, 'RT @BKNgoid: Hai #SobatBKN, Kepala BKN Bima H. Wibisana menyerahkan Pertimbangan Teknis tentang Penugasan PNS di lingkungan BP Batam kepada…', ''], ['Handiafahru', 'in', datetime.datetime(2020, 11, 23, 6, 42, 51), 0, 5, 'RT @BKNgoid: Hai #SobatBKN, Kepala BKN Bima H. Wibisana menyerahkan Pertimbangan Teknis tentang Penugasan PNS di lingkungan BP Batam kepada…', 'Narmada'], ['BKNgoid', 'in', datetime.datetime(2020, 11, 23, 6, 35, 30), 197, 5, 'Hai #SobatBKN, Kepala BKN Bima H. Wibisana menyerahkan Pertimbangan Teknis tentang Penugasan PNS di lingkungan BP B… https://t.co/8mkMmBre7e', 'Jakarta, Indonesia'], ['Rurur_ID', 'in', datetime.datetime(2020, 11, 23, 2, 58, 4), 0, 66, 'RT @BKNgoid: Inga...Inga...Pascaterima notifikasi dari DocuDigital #SobatBKN hanya diberikan kesempatan satu kali untuk mengunggah ulang ke…', 'Kota Yogyakarta, Yogyakarta'], ['Renzomme', 'in', datetime.datetime(2020, 11, 22, 14, 34, 9), 0, 57, 'RT @BKNgoid: #SobatBKN semua, Pilkada serentak tahun 2020 kian mendekat. Mimin mau ingatkan sejawat ASN agar tetap bersikap NETRAL selama r…', 'Purbalingga, Indonesia'], ['Komarud40072693', 'in', datetime.datetime(2020, 11, 22, 13, 57, 11), 0, 69, 'RT @BKNgoid: #SobatBKN, Mimin mau ingetin buat kalian kalau hari ini adalah batas akhir pemberkasan online #CPNS2019 di portal https://t.co…', ''], ['bkn2surabaya', 'in', datetime.datetime(2020, 11, 22, 9, 39, 36), 0, 69, 'RT @BKNgoid: #SobatBKN, Mimin mau ingetin buat kalian kalau hari ini adalah batas akhir pemberkasan online #CPNS2019 di portal https://t.co…', 'Sidoarjo, Surabaya'], ['HendiYochanan', 'in', datetime.datetime(2020, 11, 22, 4, 10, 11), 0, 178, 'RT @BKNgoid: Dalam masa pemberkasan CPNS2019 ini, #SobatBKN g perlu terlalu khwatir dg berkas yg sdh diunggah, apakah sdh memenuhi syarat /…', ''], ['HPrasetyob11', 'in', datetime.datetime(2020, 11, 21, 23, 58, 22), 0, 69, 'RT @BKNgoid: #SobatBKN, Mimin mau ingetin buat kalian kalau hari ini adalah batas akhir pemberkasan online #CPNS2019 di portal https://t.co…', ''], ['Ranis99', 'in', datetime.datetime(2020, 11, 21, 23, 1, 55), 0, 69, 'RT @BKNgoid: #SobatBKN, Mimin mau ingetin buat kalian kalau hari ini adalah batas akhir pemberkasan online #CPNS2019 di portal https://t.co…', ''], ['rieza_interisti', 'in', datetime.datetime(2020, 11, 21, 22, 26, 50), 0, 69, 'RT @BKNgoid: #SobatBKN, Mimin mau ingetin buat kalian kalau hari ini adalah batas akhir pemberkasan online #CPNS2019 di portal https://t.co…', 'Medan'], ['WiwikAn85883757', 'in', datetime.datetime(2020, 11, 21, 18, 32, 7), 0, 69, 'RT @BKNgoid: #SobatBKN, Mimin mau ingetin buat kalian kalau hari ini adalah batas akhir pemberkasan online #CPNS2019 di portal https://t.co…', ''], ['Bimantara48', 'in', datetime.datetime(2020, 11, 21, 17, 0, 18), 0, 69, 'RT @BKNgoid: #SobatBKN, Mimin mau ingetin buat kalian kalau hari ini adalah batas akhir pemberkasan online #CPNS2019 di portal https://t.co…', 'Surabaya, Indonesia .'], ['RembangBkd', 'in', datetime.datetime(2020, 11, 21, 16, 25, 7), 0, 300, 'RT @BKNgoid: #SobatBKN, Penetapan TMT Peserta Lulus Seleksi CPNS 2019 Bergantung Usul Masuk Instansi https://t.co/UubdX3JUJN', ''], ['Annisakhoriz', 'in', datetime.datetime(2020, 11, 21, 15, 12, 2), 0, 69, 'RT @BKNgoid: #SobatBKN, Mimin mau ingetin buat kalian kalau hari ini adalah batas akhir pemberkasan online #CPNS2019 di portal https://t.co…', ''], ['ardianiputri230', 'in', datetime.datetime(2020, 11, 21, 14, 13, 37), 0, 177, 'RT @BKNgoid: \"Waktu mengajarkan betapa berharganya sebuah kesempatan\" ~SpongeBob \\n\\nSelamat malam #SobatBKN \\n\\nIstirahatkan lelah hari ini\\nBe…', 'Indonesia'], ['updatecpns_com', 'in', datetime.datetime(2020, 11, 21, 13, 47, 58), 0, 0, '#SobatBKN, Mimin mau ingetin buat kalian kalau hari ini adalah batas akhir pemberkasan online #CPNS2019 di portal… https://t.co/7uF0ZeNcBf', ''], ['GitaaSS', 'in', datetime.datetime(2020, 11, 21, 13, 26, 12), 0, 69, 'RT @BKNgoid: #SobatBKN, Mimin mau ingetin buat kalian kalau hari ini adalah batas akhir pemberkasan online #CPNS2019 di portal https://t.co…', 'West-central-east ind'], ['Megayan48826771', 'in', datetime.datetime(2020, 11, 21, 12, 27, 28), 0, 69, 'RT @BKNgoid: #SobatBKN, Mimin mau ingetin buat kalian kalau hari ini adalah batas akhir pemberkasan online #CPNS2019 di portal https://t.co…', ''], ['Renol_07', 'in', datetime.datetime(2020, 11, 21, 11, 39, 48), 0, 69, 'RT @BKNgoid: #SobatBKN, Mimin mau ingetin buat kalian kalau hari ini adalah batas akhir pemberkasan online #CPNS2019 di portal https://t.co…', ''], ['_zzzaaa666', 'in', datetime.datetime(2020, 11, 21, 11, 37, 47), 0, 69, 'RT @BKNgoid: #SobatBKN, Mimin mau ingetin buat kalian kalau hari ini adalah batas akhir pemberkasan online #CPNS2019 di portal https://t.co…', 'Yogyakarta, Indonesia'], ['katrimasinaga', 'in', datetime.datetime(2020, 11, 21, 11, 36, 52), 0, 69, 'RT @BKNgoid: #SobatBKN, Mimin mau ingetin buat kalian kalau hari ini adalah batas akhir pemberkasan online #CPNS2019 di portal https://t.co…', 'Jakarta, Indonesia'], ['nmdtrynt', 'in', datetime.datetime(2020, 11, 21, 10, 36, 50), 0, 69, 'RT @BKNgoid: #SobatBKN, Mimin mau ingetin buat kalian kalau hari ini adalah batas akhir pemberkasan online #CPNS2019 di portal https://t.co…', ''], ['eliaabeautyy', 'in', datetime.datetime(2020, 11, 21, 9, 56, 18), 0, 69, 'RT @BKNgoid: #SobatBKN, Mimin mau ingetin buat kalian kalau hari ini adalah batas akhir pemberkasan online #CPNS2019 di portal https://t.co…', 'medan,sumatra utara'], ['wattabi_', 'in', datetime.datetime(2020, 11, 21, 9, 13, 50), 0, 69, 'RT @BKNgoid: #SobatBKN, Mimin mau ingetin buat kalian kalau hari ini adalah batas akhir pemberkasan online #CPNS2019 di portal https://t.co…', 'Kota Surabaya, Jawa Timur'], ['kppn_jayapura', 'in', datetime.datetime(2020, 11, 21, 8, 40, 21), 0, 69, 'RT @BKNgoid: #SobatBKN, Mimin mau ingetin buat kalian kalau hari ini adalah batas akhir pemberkasan online #CPNS2019 di portal https://t.co…', 'Jayapura'], ['Gbigboss2', 'in', datetime.datetime(2020, 11, 21, 7, 22, 56), 0, 69, 'RT @BKNgoid: #SobatBKN, Mimin mau ingetin buat kalian kalau hari ini adalah batas akhir pemberkasan online #CPNS2019 di portal https://t.co…', ''], ['holikkurniawan_', 'in', datetime.datetime(2020, 11, 21, 7, 11, 41), 0, 69, 'RT @BKNgoid: #SobatBKN, Mimin mau ingetin buat kalian kalau hari ini adalah batas akhir pemberkasan online #CPNS2019 di portal https://t.co…', 'Banggai'], ['RendiSa03267539', 'in', datetime.datetime(2020, 11, 21, 6, 52, 29), 0, 69, 'RT @BKNgoid: #SobatBKN, Mimin mau ingetin buat kalian kalau hari ini adalah batas akhir pemberkasan online #CPNS2019 di portal https://t.co…', 'Kalimantan Barat, Indonesia'], ['TornadoSinar', 'in', datetime.datetime(2020, 11, 21, 6, 50, 5), 0, 69, 'RT @BKNgoid: #SobatBKN, Mimin mau ingetin buat kalian kalau hari ini adalah batas akhir pemberkasan online #CPNS2019 di portal https://t.co…', ''], ['Reginaddicts', 'in', datetime.datetime(2020, 11, 21, 6, 18, 24), 0, 69, 'RT @BKNgoid: #SobatBKN, Mimin mau ingetin buat kalian kalau hari ini adalah batas akhir pemberkasan online #CPNS2019 di portal https://t.co…', 'South Sumatra, Indonesia'], ['UtaryCarlina', 'in', datetime.datetime(2020, 11, 21, 6, 15, 25), 0, 69, 'RT @BKNgoid: #SobatBKN, Mimin mau ingetin buat kalian kalau hari ini adalah batas akhir pemberkasan online #CPNS2019 di portal https://t.co…', 'Bandung, Indonesia'], ['thoyibfaisal', 'in', datetime.datetime(2020, 11, 21, 6, 3, 23), 0, 69, 'RT @BKNgoid: #SobatBKN, Mimin mau ingetin buat kalian kalau hari ini adalah batas akhir pemberkasan online #CPNS2019 di portal https://t.co…', 'Banyuwangi, Indonesia'], ['liau93', 'in', datetime.datetime(2020, 11, 21, 5, 55, 52), 0, 69, 'RT @BKNgoid: #SobatBKN, Mimin mau ingetin buat kalian kalau hari ini adalah batas akhir pemberkasan online #CPNS2019 di portal https://t.co…', 'Indonesia'], ['Rurur_ID', 'in', datetime.datetime(2020, 11, 21, 5, 54, 43), 0, 69, 'RT @BKNgoid: #SobatBKN, Mimin mau ingetin buat kalian kalau hari ini adalah batas akhir pemberkasan online #CPNS2019 di portal https://t.co…', 'Kota Yogyakarta, Yogyakarta'], ['medlistel_', 'in', datetime.datetime(2020, 11, 21, 5, 49, 51), 0, 69, 'RT @BKNgoid: #SobatBKN, Mimin mau ingetin buat kalian kalau hari ini adalah batas akhir pemberkasan online #CPNS2019 di portal https://t.co…', 'Bengkulu, Indonesia'], ['riceinabowl131', 'in', datetime.datetime(2020, 11, 21, 5, 34, 25), 0, 69, 'RT @BKNgoid: #SobatBKN, Mimin mau ingetin buat kalian kalau hari ini adalah batas akhir pemberkasan online #CPNS2019 di portal https://t.co…', 'Outer Space \\U0001f6f8'], ['agatachristy3', 'in', datetime.datetime(2020, 11, 21, 5, 34, 1), 0, 69, 'RT @BKNgoid: #SobatBKN, Mimin mau ingetin buat kalian kalau hari ini adalah batas akhir pemberkasan online #CPNS2019 di portal https://t.co…', 'Tegal, Jawa Tengah'], ['LuckyEkki', 'in', datetime.datetime(2020, 11, 21, 5, 23, 53), 0, 69, 'RT @BKNgoid: #SobatBKN, Mimin mau ingetin buat kalian kalau hari ini adalah batas akhir pemberkasan online #CPNS2019 di portal https://t.co…', 'Kota Palopo, Sulawesi Selatan'], ['andieeeeer', 'in', datetime.datetime(2020, 11, 21, 5, 15, 2), 0, 69, 'RT @BKNgoid: #SobatBKN, Mimin mau ingetin buat kalian kalau hari ini adalah batas akhir pemberkasan online #CPNS2019 di portal https://t.co…', 'ÜT: -5.1371669,119.4782981'], ['stqmhh', 'in', datetime.datetime(2020, 11, 21, 5, 8, 24), 0, 69, 'RT @BKNgoid: #SobatBKN, Mimin mau ingetin buat kalian kalau hari ini adalah batas akhir pemberkasan online #CPNS2019 di portal https://t.co…', 'Banjarmasin'], ['lintangtingtung', 'in', datetime.datetime(2020, 11, 21, 5, 7, 48), 0, 69, 'RT @BKNgoid: #SobatBKN, Mimin mau ingetin buat kalian kalau hari ini adalah batas akhir pemberkasan online #CPNS2019 di portal https://t.co…', 'Surabaya, Indonesia'], ['melukisenjaaa', 'in', datetime.datetime(2020, 11, 21, 5, 3, 3), 0, 69, 'RT @BKNgoid: #SobatBKN, Mimin mau ingetin buat kalian kalau hari ini adalah batas akhir pemberkasan online #CPNS2019 di portal https://t.co…', 'Deep Sea'], ['erikphitoyo1', 'in', datetime.datetime(2020, 11, 21, 5, 2, 48), 0, 69, 'RT @BKNgoid: #SobatBKN, Mimin mau ingetin buat kalian kalau hari ini adalah batas akhir pemberkasan online #CPNS2019 di portal https://t.co…', 'Madiun'], ['SUPRIYA28039536', 'in', datetime.datetime(2020, 11, 21, 4, 55, 39), 0, 69, 'RT @BKNgoid: #SobatBKN, Mimin mau ingetin buat kalian kalau hari ini adalah batas akhir pemberkasan online #CPNS2019 di portal https://t.co…', ''], ['martinyepe2', 'in', datetime.datetime(2020, 11, 21, 4, 45, 41), 0, 69, 'RT @BKNgoid: #SobatBKN, Mimin mau ingetin buat kalian kalau hari ini adalah batas akhir pemberkasan online #CPNS2019 di portal https://t.co…', ''], ['Putrii96', 'in', datetime.datetime(2020, 11, 21, 4, 45, 9), 0, 69, 'RT @BKNgoid: #SobatBKN, Mimin mau ingetin buat kalian kalau hari ini adalah batas akhir pemberkasan online #CPNS2019 di portal https://t.co…', ''], ['mayowiinatasya', 'in', datetime.datetime(2020, 11, 21, 4, 44, 44), 0, 69, 'RT @BKNgoid: #SobatBKN, Mimin mau ingetin buat kalian kalau hari ini adalah batas akhir pemberkasan online #CPNS2019 di portal https://t.co…', ''], ['APENG_23', 'in', datetime.datetime(2020, 11, 21, 4, 43), 0, 69, 'RT @BKNgoid: #SobatBKN, Mimin mau ingetin buat kalian kalau hari ini adalah batas akhir pemberkasan online #CPNS2019 di portal https://t.co…', 'Mataram - Lombok - NTB'], ['rizkadwisvra', 'in', datetime.datetime(2020, 11, 21, 4, 34, 28), 0, 69, 'RT @BKNgoid: #SobatBKN, Mimin mau ingetin buat kalian kalau hari ini adalah batas akhir pemberkasan online #CPNS2019 di portal https://t.co…', 'Medan,Indonesia'], ['hacloudies', 'in', datetime.datetime(2020, 11, 21, 4, 34, 3), 0, 69, 'RT @BKNgoid: #SobatBKN, Mimin mau ingetin buat kalian kalau hari ini adalah batas akhir pemberkasan online #CPNS2019 di portal https://t.co…', 'Sapphire Blue Ocean '], ['faridk1810', 'in', datetime.datetime(2020, 11, 21, 4, 27, 44), 0, 69, 'RT @BKNgoid: #SobatBKN, Mimin mau ingetin buat kalian kalau hari ini adalah batas akhir pemberkasan online #CPNS2019 di portal https://t.co…', 'Purwokerto Selatan, Indonesia'], ['Beny_Hartanto89', 'in', datetime.datetime(2020, 11, 21, 4, 22, 21), 0, 69, 'RT @BKNgoid: #SobatBKN, Mimin mau ingetin buat kalian kalau hari ini adalah batas akhir pemberkasan online #CPNS2019 di portal https://t.co…', 'Bondowoso'], ['yonikaps', 'in', datetime.datetime(2020, 11, 21, 4, 21, 38), 0, 69, 'RT @BKNgoid: #SobatBKN, Mimin mau ingetin buat kalian kalau hari ini adalah batas akhir pemberkasan online #CPNS2019 di portal https://t.co…', ''], ['putribayu_', 'in', datetime.datetime(2020, 11, 21, 4, 20, 23), 0, 69, 'RT @BKNgoid: #SobatBKN, Mimin mau ingetin buat kalian kalau hari ini adalah batas akhir pemberkasan online #CPNS2019 di portal https://t.co…', 'Jawa Barat, Indonesia'], ['UlfatulGold', 'in', datetime.datetime(2020, 11, 21, 4, 17, 56), 0, 69, 'RT @BKNgoid: #SobatBKN, Mimin mau ingetin buat kalian kalau hari ini adalah batas akhir pemberkasan online #CPNS2019 di portal https://t.co…', 'Indonesia'], ['BKNgoid', 'in', datetime.datetime(2020, 11, 21, 4, 16, 33), 551, 69, '#SobatBKN, Mimin mau ingetin buat kalian kalau hari ini adalah batas akhir pemberkasan online #CPNS2019 di portal… https://t.co/ZNlifAQGKj', 'Jakarta, Indonesia'], ['DekiSulkarnain', 'in', datetime.datetime(2020, 11, 20, 19, 34, 10), 0, 66, 'RT @BKNgoid: Inga...Inga...Pascaterima notifikasi dari DocuDigital #SobatBKN hanya diberikan kesempatan satu kali untuk mengunggah ulang ke…', 'Kapuas hulu - kalimantan barat'], ['Diviola1', 'in', datetime.datetime(2020, 11, 20, 15, 0, 21), 0, 300, 'RT @BKNgoid: #SobatBKN, Penetapan TMT Peserta Lulus Seleksi CPNS 2019 Bergantung Usul Masuk Instansi https://t.co/UubdX3JUJN', ''], ['Maulinamakhmul', 'in', datetime.datetime(2020, 11, 20, 15, 0, 11), 0, 66, 'RT @BKNgoid: Inga...Inga...Pascaterima notifikasi dari DocuDigital #SobatBKN hanya diberikan kesempatan satu kali untuk mengunggah ulang ke…', ''], ['BKNgoid', 'in', datetime.datetime(2020, 11, 20, 13, 18, 31), 27, 0, 'Berita mengenai Rapat Monitoring dan Evaluasi Triwulan III dan Perkiraan Capaian Kinerja Triwulan IV Tahun Anggaran… https://t.co/fq6GRl8lbz', 'Jakarta, Indonesia'], ['SUPRIYA28039536', 'in', datetime.datetime(2020, 11, 20, 10, 5, 42), 0, 1, 'RT @bkn2surabaya: Inga...Inga...Pascaterima notifikasi dari DocuDigital #SobatBKN hanya diberikan kesempatan satu kali untuk mengunggah ula…', ''], ['bkn2surabaya', 'in', datetime.datetime(2020, 11, 20, 10, 2, 53), 9, 1, 'Inga...Inga...Pascaterima notifikasi dari DocuDigital #SobatBKN hanya diberikan kesempatan satu kali untuk mengungg… https://t.co/medZcUGtpq', 'Sidoarjo, Surabaya'], ['hartonoan_', 'in', datetime.datetime(2020, 11, 20, 5, 55, 57), 0, 300, 'RT @BKNgoid: #SobatBKN, Penetapan TMT Peserta Lulus Seleksi CPNS 2019 Bergantung Usul Masuk Instansi https://t.co/UubdX3JUJN', ''], ['OnikSri', 'in', datetime.datetime(2020, 11, 20, 5, 54, 42), 0, 178, 'RT @BKNgoid: Dalam masa pemberkasan CPNS2019 ini, #SobatBKN g perlu terlalu khwatir dg berkas yg sdh diunggah, apakah sdh memenuhi syarat /…', ''], ['one_ipin', 'in', datetime.datetime(2020, 11, 20, 3, 55, 43), 0, 66, 'RT @BKNgoid: Inga...Inga...Pascaterima notifikasi dari DocuDigital #SobatBKN hanya diberikan kesempatan satu kali untuk mengunggah ulang ke…', 'Blitar, Jawa Timur']]\n"
          ],
          "name": "stdout"
        }
      ]
    },
    {
      "cell_type": "code",
      "metadata": {
        "colab": {
          "base_uri": "https://localhost:8080/",
          "height": 419
        },
        "id": "TvY8U6s76QMb",
        "outputId": "212ff46e-5dc8-45a2-f117-6760f9aad9c4"
      },
      "source": [
        "#Mengubah data cuitan ke dalam DataFrame\n",
        "import pandas as pd\n",
        "tweets_pd1 = pd.DataFrame(tweets_data1,\n",
        "                         columns=['screen_name', 'lang', 'created_at', 'fav_count', 'retweet_count', 'text', 'location'])\n",
        "display(tweets_pd1)"
      ],
      "execution_count": 43,
      "outputs": [
        {
          "output_type": "display_data",
          "data": {
            "text/html": [
              "<div>\n",
              "<style scoped>\n",
              "    .dataframe tbody tr th:only-of-type {\n",
              "        vertical-align: middle;\n",
              "    }\n",
              "\n",
              "    .dataframe tbody tr th {\n",
              "        vertical-align: top;\n",
              "    }\n",
              "\n",
              "    .dataframe thead th {\n",
              "        text-align: right;\n",
              "    }\n",
              "</style>\n",
              "<table border=\"1\" class=\"dataframe\">\n",
              "  <thead>\n",
              "    <tr style=\"text-align: right;\">\n",
              "      <th></th>\n",
              "      <th>screen_name</th>\n",
              "      <th>lang</th>\n",
              "      <th>created_at</th>\n",
              "      <th>fav_count</th>\n",
              "      <th>retweet_count</th>\n",
              "      <th>text</th>\n",
              "      <th>location</th>\n",
              "    </tr>\n",
              "  </thead>\n",
              "  <tbody>\n",
              "    <tr>\n",
              "      <th>0</th>\n",
              "      <td>Roy_Ritonga</td>\n",
              "      <td>in</td>\n",
              "      <td>2020-11-28 10:33:07</td>\n",
              "      <td>0</td>\n",
              "      <td>69</td>\n",
              "      <td>RT @BKNgoid: #SobatBKN, Mimin mau ingetin buat...</td>\n",
              "      <td>Medan, Sumatera Utara</td>\n",
              "    </tr>\n",
              "    <tr>\n",
              "      <th>1</th>\n",
              "      <td>kadek_susani</td>\n",
              "      <td>in</td>\n",
              "      <td>2020-11-27 14:41:14</td>\n",
              "      <td>0</td>\n",
              "      <td>300</td>\n",
              "      <td>RT @BKNgoid: #SobatBKN, Penetapan TMT Peserta ...</td>\n",
              "      <td>indonesia</td>\n",
              "    </tr>\n",
              "    <tr>\n",
              "      <th>2</th>\n",
              "      <td>updatecpns_com</td>\n",
              "      <td>in</td>\n",
              "      <td>2020-11-27 13:41:51</td>\n",
              "      <td>1</td>\n",
              "      <td>0</td>\n",
              "      <td>Hai hai #sobatBKN kesayangan gimana kabarnya? ...</td>\n",
              "      <td></td>\n",
              "    </tr>\n",
              "    <tr>\n",
              "      <th>3</th>\n",
              "      <td>updatecpns_com</td>\n",
              "      <td>in</td>\n",
              "      <td>2020-11-27 13:40:43</td>\n",
              "      <td>2</td>\n",
              "      <td>0</td>\n",
              "      <td>Update Pertek dan Penetapan NIP #CPNS2019.\\nHi...</td>\n",
              "      <td></td>\n",
              "    </tr>\n",
              "    <tr>\n",
              "      <th>4</th>\n",
              "      <td>4dysuryanugraha</td>\n",
              "      <td>in</td>\n",
              "      <td>2020-11-26 12:30:01</td>\n",
              "      <td>0</td>\n",
              "      <td>7</td>\n",
              "      <td>RT @BKNgoid: Hai #SobatBKN, terkait surat usul...</td>\n",
              "      <td>Sidoarjo|Jawa Timur|Indonesia</td>\n",
              "    </tr>\n",
              "    <tr>\n",
              "      <th>...</th>\n",
              "      <td>...</td>\n",
              "      <td>...</td>\n",
              "      <td>...</td>\n",
              "      <td>...</td>\n",
              "      <td>...</td>\n",
              "      <td>...</td>\n",
              "      <td>...</td>\n",
              "    </tr>\n",
              "    <tr>\n",
              "      <th>76</th>\n",
              "      <td>SUPRIYA28039536</td>\n",
              "      <td>in</td>\n",
              "      <td>2020-11-20 10:05:42</td>\n",
              "      <td>0</td>\n",
              "      <td>1</td>\n",
              "      <td>RT @bkn2surabaya: Inga...Inga...Pascaterima no...</td>\n",
              "      <td></td>\n",
              "    </tr>\n",
              "    <tr>\n",
              "      <th>77</th>\n",
              "      <td>bkn2surabaya</td>\n",
              "      <td>in</td>\n",
              "      <td>2020-11-20 10:02:53</td>\n",
              "      <td>9</td>\n",
              "      <td>1</td>\n",
              "      <td>Inga...Inga...Pascaterima notifikasi dari Docu...</td>\n",
              "      <td>Sidoarjo, Surabaya</td>\n",
              "    </tr>\n",
              "    <tr>\n",
              "      <th>78</th>\n",
              "      <td>hartonoan_</td>\n",
              "      <td>in</td>\n",
              "      <td>2020-11-20 05:55:57</td>\n",
              "      <td>0</td>\n",
              "      <td>300</td>\n",
              "      <td>RT @BKNgoid: #SobatBKN, Penetapan TMT Peserta ...</td>\n",
              "      <td></td>\n",
              "    </tr>\n",
              "    <tr>\n",
              "      <th>79</th>\n",
              "      <td>OnikSri</td>\n",
              "      <td>in</td>\n",
              "      <td>2020-11-20 05:54:42</td>\n",
              "      <td>0</td>\n",
              "      <td>178</td>\n",
              "      <td>RT @BKNgoid: Dalam masa pemberkasan CPNS2019 i...</td>\n",
              "      <td></td>\n",
              "    </tr>\n",
              "    <tr>\n",
              "      <th>80</th>\n",
              "      <td>one_ipin</td>\n",
              "      <td>in</td>\n",
              "      <td>2020-11-20 03:55:43</td>\n",
              "      <td>0</td>\n",
              "      <td>66</td>\n",
              "      <td>RT @BKNgoid: Inga...Inga...Pascaterima notifik...</td>\n",
              "      <td>Blitar, Jawa Timur</td>\n",
              "    </tr>\n",
              "  </tbody>\n",
              "</table>\n",
              "<p>81 rows × 7 columns</p>\n",
              "</div>"
            ],
            "text/plain": [
              "        screen_name  ...                       location\n",
              "0       Roy_Ritonga  ...          Medan, Sumatera Utara\n",
              "1      kadek_susani  ...                      indonesia\n",
              "2    updatecpns_com  ...                               \n",
              "3    updatecpns_com  ...                               \n",
              "4   4dysuryanugraha  ...  Sidoarjo|Jawa Timur|Indonesia\n",
              "..              ...  ...                            ...\n",
              "76  SUPRIYA28039536  ...                               \n",
              "77     bkn2surabaya  ...             Sidoarjo, Surabaya\n",
              "78       hartonoan_  ...                               \n",
              "79          OnikSri  ...                               \n",
              "80         one_ipin  ...             Blitar, Jawa Timur\n",
              "\n",
              "[81 rows x 7 columns]"
            ]
          },
          "metadata": {
            "tags": []
          }
        }
      ]
    },
    {
      "cell_type": "code",
      "metadata": {
        "colab": {
          "base_uri": "https://localhost:8080/"
        },
        "id": "OHnUbeHx5YSi",
        "outputId": "8a3e6c8a-0c15-4e6b-aa69-74afce975d84"
      },
      "source": [
        "#Mengumpulkan cuitan dengan #ASNKiniBeda\n",
        "tweets_data2 = []\n",
        "api = tweepy.API(auth, wait_on_rate_limit=True)\n",
        "for tweet in tweepy.Cursor(api.search,q=\"ASNKiniBeda\",since=\"2020-10-1\").items(1000):\n",
        "    tweets_data2.append([tweet.author.screen_name,\n",
        "                        tweet.lang,\n",
        "                        tweet.created_at,\n",
        "                        tweet.favorite_count,\n",
        "                        tweet.retweet_count,\n",
        "                        tweet.text,\n",
        "                        tweet.user.location])\n",
        "print(tweets_data2)"
      ],
      "execution_count": 44,
      "outputs": [
        {
          "output_type": "stream",
          "text": [
            "[['PratiknaAnanta', 'in', datetime.datetime(2020, 11, 29, 1, 0, 57), 1, 0, 'Kapolres Kulonprogo beserta Staf dan Jajaran mengucapkan Selamat HUT KORPRI ke-49,\\n.\\n#HUTKORPRIKe49\\n#HUTKORPRI… https://t.co/HqkOQuCvoM', ''], ['LendahPolres', 'in', datetime.datetime(2020, 11, 29, 0, 36, 25), 0, 0, 'Kapolres Kulonprogo beserta Staf dan Jajaran mengucapkan Selamat HUT KORPRI ke-49,\\n “Abdi Negara KORPRI berkontribu… https://t.co/0LRJVP82RX', ''], ['Gedeantaragmai1', 'in', datetime.datetime(2020, 11, 29, 0, 23, 23), 1, 0, 'Kapolres Kulonprogo beserta Staf dan Jajaran mengucapkan Selamat HUT KORPRI ke-49,\\n “Abdi Negara KORPRI berkontribu… https://t.co/1KXF4nnZ0U', ''], ['kanimsurakarta', 'in', datetime.datetime(2020, 11, 28, 13, 30, 28), 0, 0, 'Tidak hanya glow up fisik, tapi glow up juga pelayanan petugasnya. Semoga glow up-nya kantor Miska ini bermanfaat b… https://t.co/iENvJenNDm', 'Surakarta, Jawa Tengah'], ['tribunkaltim', 'und', datetime.datetime(2020, 11, 28, 3, 56, 49), 0, 0, 'https://t.co/e9gmsqdna7\\n#gaji #asnkinibeda #PNS', 'Balikpapan, Indonesia'], ['toycrane1', 'in', datetime.datetime(2020, 11, 27, 13, 18, 16), 6, 0, 'Terima kasih banyak dukungan dan doa baik2nya teman2 semua 🙏🙏🙏 semoga tdk ada korban seperti saya di tahun2 berikut… https://t.co/henMis7WdP', ''], ['tribunkaltim', 'und', datetime.datetime(2020, 11, 27, 0, 0, 19), 0, 0, 'https://t.co/W4pNpQ7hLF\\n#pppk #p3k #ASN #asnkinibeda', 'Balikpapan, Indonesia'], ['BPOM_Manokwari', 'in', datetime.datetime(2020, 11, 26, 23, 40, 9), 0, 0, 'Repost : #BPOM_RI\\n#SahabatBPOM, Badan POM selenggarakan Rapat Tinjauan Manajemen (RTM) terhadap implementasi Qualit… https://t.co/5IUFHMB1L7', 'Papua Barat, Indonesia'], ['BPOM_Manokwari', 'in', datetime.datetime(2020, 11, 26, 8, 38, 20), 0, 0, 'Repost : #BPOM_RI\\nPengumuman Seleksi Terbuka Jabatan Kepala Biro Kerja Sama dan Hubungan Masyarakat\\n.\\nInformasi len… https://t.co/7BmJNhki7X', 'Papua Barat, Indonesia'], ['KABUPATENFAKFAK', 'in', datetime.datetime(2020, 11, 25, 14, 2, 33), 0, 1, 'RT @BPOM_Manokwari: Repost : #BPOM_RI\\n#SahabatBPOM, Selamat Hari Guru Nasional!\\n.\\nTerimakasih atas dedikasi para guru yang tak kenal lelah…', 'FAKFAK, WEST PAPUA INDONESIA'], ['dhikanoman', 'en', datetime.datetime(2020, 11, 25, 9, 21, 59), 0, 0, 'November\\n\\n#myjob\\n#mylife\\n#ASNkinibeda \\n#abdinegara https://t.co/DtDgkLTN8o', 'Jakarta Capital Region'], ['BPOM_Manokwari', 'in', datetime.datetime(2020, 11, 25, 7, 3, 56), 0, 1, 'Repost : #BPOM_RI\\n#SahabatBPOM, Selamat Hari Guru Nasional!\\n.\\nTerimakasih atas dedikasi para guru yang tak kenal le… https://t.co/ITxn2TvYa3', 'Papua Barat, Indonesia'], ['BPOM_Manokwari', 'in', datetime.datetime(2020, 11, 25, 7, 2, 3), 0, 0, 'Repost : #BPOM_RI\\n#SahabatBPOM, hingga saat ini belum ada vaksin atau obat yang terbukti dapat mengobati atau mence… https://t.co/8JkSynWjL3', 'Papua Barat, Indonesia'], ['BPOM_Manokwari', 'in', datetime.datetime(2020, 11, 25, 6, 58, 17), 0, 0, 'Repost : #BPOM_RI\\n#SahabatBPOM, mengajarkan protokol kesehatan pada anak, adik, keponakan, sepupu yang masih kecil… https://t.co/mhgUW3S8YS', 'Papua Barat, Indonesia'], ['BPOM_Manokwari', 'in', datetime.datetime(2020, 11, 25, 6, 51, 35), 0, 0, 'Keluarga Besar Balai POM di Manokwari Mengucapkan:\\nSelamat Hari Guru Nasional, 25 November 2020.\\n.\\n#bpomri\\n#Selamat… https://t.co/84op71tm1A', 'Papua Barat, Indonesia'], ['bkpsdm_kota', 'in', datetime.datetime(2020, 11, 24, 13, 14, 32), 0, 0, 'Penyemprotan desinfektan secara berkala pada gedung BKPSDM Kota Palangka Raya oleh tim Damkar sebagai langkah pence… https://t.co/6jgoScXdqj', 'JALAN G.OBOS XI'], ['BPOM_Manokwari', 'in', datetime.datetime(2020, 11, 23, 23, 22), 0, 0, 'Repost : @lokapom.sorong\\nJumat (20/11), Loka POM di Kabupaten Sorong melaksanakan pemeriksaan ke salah satu Sarana… https://t.co/gwGsBqz8Y8', 'Papua Barat, Indonesia'], ['BPOM_Manokwari', 'in', datetime.datetime(2020, 11, 23, 23, 20, 44), 0, 0, 'Repost : @lokapom.sorong\\nJumat (20/11), Loka POM di Kabupaten Sorong melaksanakan pemeriksaan ke Puskesmas Malawei… https://t.co/DAzkwmMFlm', 'Papua Barat, Indonesia'], ['BPOM_Manokwari', 'in', datetime.datetime(2020, 11, 23, 23, 19, 19), 0, 0, 'Repost : @lokapom.sorong\\nKamis (19/11), Loka POM di Kabupaten Sorong melaksanakan pemeriksaan ke salah satu Sarana… https://t.co/vXX2iDtxkT', 'Papua Barat, Indonesia'], ['BPOM_Manokwari', 'in', datetime.datetime(2020, 11, 23, 23, 18, 5), 0, 0, 'Repost : @lokapom.sorong\\nKamis (19/11), Loka POM di Kabupaten Sorong melaksanakan pemeriksaan ke Puskesmas Klasaman… https://t.co/r2UmYbusi6', 'Papua Barat, Indonesia'], ['BPOM_Manokwari', 'in', datetime.datetime(2020, 11, 23, 23, 16, 25), 0, 0, 'Repost : #BPOM_RI\\n#SahabatBPOM, Badan POM sedang menyiapkan Rancangan Peraturan Badan Pengawas Obat dan Makanan (Pe… https://t.co/DZMLfbjm9b', 'Papua Barat, Indonesia'], ['BPOM_Manokwari', 'in', datetime.datetime(2020, 11, 23, 23, 14, 48), 0, 0, 'Repost : #BPOM_RI\\n#SahabatBPOM, berikut penjelasan Badan POM mengenai Keamanan Produk Metformin\\n.\\nSelengkapnya dapa… https://t.co/K1HwhI8pym', 'Papua Barat, Indonesia'], ['BPOM_Manokwari', 'in', datetime.datetime(2020, 11, 23, 23, 13, 1), 0, 0, 'Repost : #BPOM_RI\\n#SahabatBPOM, berikut penjelasan Badan POM mengenai Pencabutan Emergency Use Authorization (EUA)… https://t.co/92yvozYfzo', 'Papua Barat, Indonesia'], ['ajisubekti90', 'in', datetime.datetime(2020, 11, 23, 3, 53, 44), 0, 0, '@BKNgoid\\n@tjahjo_kumolo\\n@riekediahp\\n@kempanrb\\n@abiridwan2173\\n@DPR_RI\\n\\nSilahkan disimak bagi yg memiliki power, semo… https://t.co/bGSpvhSU2g', 'Purwokerto'], ['ajisubekti90', 'in', datetime.datetime(2020, 11, 21, 14, 17, 46), 4, 0, '@BKNgoid Dan hingga hari ini 21/11/2020 tidak ada jawaban dari sanggahan yg saya kirim. @kempanrb @tjahjo_kumolo… https://t.co/Yc36Ll58go', 'Purwokerto'], ['BPOM_Manokwari', 'in', datetime.datetime(2020, 11, 20, 4, 48, 41), 0, 0, 'Masa pandemic cobvid-19 dan New Normal tidak menjadilkan masyarakat patah semangat, banyak bermunculan UMKM pangan.… https://t.co/WbkPsIr1xJ', 'Papua Barat, Indonesia']]\n"
          ],
          "name": "stdout"
        }
      ]
    },
    {
      "cell_type": "code",
      "metadata": {
        "colab": {
          "base_uri": "https://localhost:8080/",
          "height": 1000
        },
        "id": "Vk9ReS_S6yhH",
        "outputId": "1763ccbd-e334-46d4-ea91-f672bd7c47a3"
      },
      "source": [
        "#Mengubah data cuitan ke dalam DataFrame\n",
        "import pandas as pd\n",
        "tweets_pd2 = pd.DataFrame(tweets_data2,\n",
        "                         columns=['screen_name', 'lang', 'created_at', 'fav_count', 'retweet_count', 'text', 'location'])\n",
        "display(tweets_pd2)"
      ],
      "execution_count": 45,
      "outputs": [
        {
          "output_type": "display_data",
          "data": {
            "text/html": [
              "<div>\n",
              "<style scoped>\n",
              "    .dataframe tbody tr th:only-of-type {\n",
              "        vertical-align: middle;\n",
              "    }\n",
              "\n",
              "    .dataframe tbody tr th {\n",
              "        vertical-align: top;\n",
              "    }\n",
              "\n",
              "    .dataframe thead th {\n",
              "        text-align: right;\n",
              "    }\n",
              "</style>\n",
              "<table border=\"1\" class=\"dataframe\">\n",
              "  <thead>\n",
              "    <tr style=\"text-align: right;\">\n",
              "      <th></th>\n",
              "      <th>screen_name</th>\n",
              "      <th>lang</th>\n",
              "      <th>created_at</th>\n",
              "      <th>fav_count</th>\n",
              "      <th>retweet_count</th>\n",
              "      <th>text</th>\n",
              "      <th>location</th>\n",
              "    </tr>\n",
              "  </thead>\n",
              "  <tbody>\n",
              "    <tr>\n",
              "      <th>0</th>\n",
              "      <td>PratiknaAnanta</td>\n",
              "      <td>in</td>\n",
              "      <td>2020-11-29 01:00:57</td>\n",
              "      <td>1</td>\n",
              "      <td>0</td>\n",
              "      <td>Kapolres Kulonprogo beserta Staf dan Jajaran m...</td>\n",
              "      <td></td>\n",
              "    </tr>\n",
              "    <tr>\n",
              "      <th>1</th>\n",
              "      <td>LendahPolres</td>\n",
              "      <td>in</td>\n",
              "      <td>2020-11-29 00:36:25</td>\n",
              "      <td>0</td>\n",
              "      <td>0</td>\n",
              "      <td>Kapolres Kulonprogo beserta Staf dan Jajaran m...</td>\n",
              "      <td></td>\n",
              "    </tr>\n",
              "    <tr>\n",
              "      <th>2</th>\n",
              "      <td>Gedeantaragmai1</td>\n",
              "      <td>in</td>\n",
              "      <td>2020-11-29 00:23:23</td>\n",
              "      <td>1</td>\n",
              "      <td>0</td>\n",
              "      <td>Kapolres Kulonprogo beserta Staf dan Jajaran m...</td>\n",
              "      <td></td>\n",
              "    </tr>\n",
              "    <tr>\n",
              "      <th>3</th>\n",
              "      <td>kanimsurakarta</td>\n",
              "      <td>in</td>\n",
              "      <td>2020-11-28 13:30:28</td>\n",
              "      <td>0</td>\n",
              "      <td>0</td>\n",
              "      <td>Tidak hanya glow up fisik, tapi glow up juga p...</td>\n",
              "      <td>Surakarta, Jawa Tengah</td>\n",
              "    </tr>\n",
              "    <tr>\n",
              "      <th>4</th>\n",
              "      <td>tribunkaltim</td>\n",
              "      <td>und</td>\n",
              "      <td>2020-11-28 03:56:49</td>\n",
              "      <td>0</td>\n",
              "      <td>0</td>\n",
              "      <td>https://t.co/e9gmsqdna7\\n#gaji #asnkinibeda #PNS</td>\n",
              "      <td>Balikpapan, Indonesia</td>\n",
              "    </tr>\n",
              "    <tr>\n",
              "      <th>5</th>\n",
              "      <td>toycrane1</td>\n",
              "      <td>in</td>\n",
              "      <td>2020-11-27 13:18:16</td>\n",
              "      <td>6</td>\n",
              "      <td>0</td>\n",
              "      <td>Terima kasih banyak dukungan dan doa baik2nya ...</td>\n",
              "      <td></td>\n",
              "    </tr>\n",
              "    <tr>\n",
              "      <th>6</th>\n",
              "      <td>tribunkaltim</td>\n",
              "      <td>und</td>\n",
              "      <td>2020-11-27 00:00:19</td>\n",
              "      <td>0</td>\n",
              "      <td>0</td>\n",
              "      <td>https://t.co/W4pNpQ7hLF\\n#pppk #p3k #ASN #asnk...</td>\n",
              "      <td>Balikpapan, Indonesia</td>\n",
              "    </tr>\n",
              "    <tr>\n",
              "      <th>7</th>\n",
              "      <td>BPOM_Manokwari</td>\n",
              "      <td>in</td>\n",
              "      <td>2020-11-26 23:40:09</td>\n",
              "      <td>0</td>\n",
              "      <td>0</td>\n",
              "      <td>Repost : #BPOM_RI\\n#SahabatBPOM, Badan POM sel...</td>\n",
              "      <td>Papua Barat, Indonesia</td>\n",
              "    </tr>\n",
              "    <tr>\n",
              "      <th>8</th>\n",
              "      <td>BPOM_Manokwari</td>\n",
              "      <td>in</td>\n",
              "      <td>2020-11-26 08:38:20</td>\n",
              "      <td>0</td>\n",
              "      <td>0</td>\n",
              "      <td>Repost : #BPOM_RI\\nPengumuman Seleksi Terbuka ...</td>\n",
              "      <td>Papua Barat, Indonesia</td>\n",
              "    </tr>\n",
              "    <tr>\n",
              "      <th>9</th>\n",
              "      <td>KABUPATENFAKFAK</td>\n",
              "      <td>in</td>\n",
              "      <td>2020-11-25 14:02:33</td>\n",
              "      <td>0</td>\n",
              "      <td>1</td>\n",
              "      <td>RT @BPOM_Manokwari: Repost : #BPOM_RI\\n#Sahaba...</td>\n",
              "      <td>FAKFAK, WEST PAPUA INDONESIA</td>\n",
              "    </tr>\n",
              "    <tr>\n",
              "      <th>10</th>\n",
              "      <td>dhikanoman</td>\n",
              "      <td>en</td>\n",
              "      <td>2020-11-25 09:21:59</td>\n",
              "      <td>0</td>\n",
              "      <td>0</td>\n",
              "      <td>November\\n\\n#myjob\\n#mylife\\n#ASNkinibeda \\n#a...</td>\n",
              "      <td>Jakarta Capital Region</td>\n",
              "    </tr>\n",
              "    <tr>\n",
              "      <th>11</th>\n",
              "      <td>BPOM_Manokwari</td>\n",
              "      <td>in</td>\n",
              "      <td>2020-11-25 07:03:56</td>\n",
              "      <td>0</td>\n",
              "      <td>1</td>\n",
              "      <td>Repost : #BPOM_RI\\n#SahabatBPOM, Selamat Hari ...</td>\n",
              "      <td>Papua Barat, Indonesia</td>\n",
              "    </tr>\n",
              "    <tr>\n",
              "      <th>12</th>\n",
              "      <td>BPOM_Manokwari</td>\n",
              "      <td>in</td>\n",
              "      <td>2020-11-25 07:02:03</td>\n",
              "      <td>0</td>\n",
              "      <td>0</td>\n",
              "      <td>Repost : #BPOM_RI\\n#SahabatBPOM, hingga saat i...</td>\n",
              "      <td>Papua Barat, Indonesia</td>\n",
              "    </tr>\n",
              "    <tr>\n",
              "      <th>13</th>\n",
              "      <td>BPOM_Manokwari</td>\n",
              "      <td>in</td>\n",
              "      <td>2020-11-25 06:58:17</td>\n",
              "      <td>0</td>\n",
              "      <td>0</td>\n",
              "      <td>Repost : #BPOM_RI\\n#SahabatBPOM, mengajarkan p...</td>\n",
              "      <td>Papua Barat, Indonesia</td>\n",
              "    </tr>\n",
              "    <tr>\n",
              "      <th>14</th>\n",
              "      <td>BPOM_Manokwari</td>\n",
              "      <td>in</td>\n",
              "      <td>2020-11-25 06:51:35</td>\n",
              "      <td>0</td>\n",
              "      <td>0</td>\n",
              "      <td>Keluarga Besar Balai POM di Manokwari Mengucap...</td>\n",
              "      <td>Papua Barat, Indonesia</td>\n",
              "    </tr>\n",
              "    <tr>\n",
              "      <th>15</th>\n",
              "      <td>bkpsdm_kota</td>\n",
              "      <td>in</td>\n",
              "      <td>2020-11-24 13:14:32</td>\n",
              "      <td>0</td>\n",
              "      <td>0</td>\n",
              "      <td>Penyemprotan desinfektan secara berkala pada g...</td>\n",
              "      <td>JALAN G.OBOS XI</td>\n",
              "    </tr>\n",
              "    <tr>\n",
              "      <th>16</th>\n",
              "      <td>BPOM_Manokwari</td>\n",
              "      <td>in</td>\n",
              "      <td>2020-11-23 23:22:00</td>\n",
              "      <td>0</td>\n",
              "      <td>0</td>\n",
              "      <td>Repost : @lokapom.sorong\\nJumat (20/11), Loka ...</td>\n",
              "      <td>Papua Barat, Indonesia</td>\n",
              "    </tr>\n",
              "    <tr>\n",
              "      <th>17</th>\n",
              "      <td>BPOM_Manokwari</td>\n",
              "      <td>in</td>\n",
              "      <td>2020-11-23 23:20:44</td>\n",
              "      <td>0</td>\n",
              "      <td>0</td>\n",
              "      <td>Repost : @lokapom.sorong\\nJumat (20/11), Loka ...</td>\n",
              "      <td>Papua Barat, Indonesia</td>\n",
              "    </tr>\n",
              "    <tr>\n",
              "      <th>18</th>\n",
              "      <td>BPOM_Manokwari</td>\n",
              "      <td>in</td>\n",
              "      <td>2020-11-23 23:19:19</td>\n",
              "      <td>0</td>\n",
              "      <td>0</td>\n",
              "      <td>Repost : @lokapom.sorong\\nKamis (19/11), Loka ...</td>\n",
              "      <td>Papua Barat, Indonesia</td>\n",
              "    </tr>\n",
              "    <tr>\n",
              "      <th>19</th>\n",
              "      <td>BPOM_Manokwari</td>\n",
              "      <td>in</td>\n",
              "      <td>2020-11-23 23:18:05</td>\n",
              "      <td>0</td>\n",
              "      <td>0</td>\n",
              "      <td>Repost : @lokapom.sorong\\nKamis (19/11), Loka ...</td>\n",
              "      <td>Papua Barat, Indonesia</td>\n",
              "    </tr>\n",
              "    <tr>\n",
              "      <th>20</th>\n",
              "      <td>BPOM_Manokwari</td>\n",
              "      <td>in</td>\n",
              "      <td>2020-11-23 23:16:25</td>\n",
              "      <td>0</td>\n",
              "      <td>0</td>\n",
              "      <td>Repost : #BPOM_RI\\n#SahabatBPOM, Badan POM sed...</td>\n",
              "      <td>Papua Barat, Indonesia</td>\n",
              "    </tr>\n",
              "    <tr>\n",
              "      <th>21</th>\n",
              "      <td>BPOM_Manokwari</td>\n",
              "      <td>in</td>\n",
              "      <td>2020-11-23 23:14:48</td>\n",
              "      <td>0</td>\n",
              "      <td>0</td>\n",
              "      <td>Repost : #BPOM_RI\\n#SahabatBPOM, berikut penje...</td>\n",
              "      <td>Papua Barat, Indonesia</td>\n",
              "    </tr>\n",
              "    <tr>\n",
              "      <th>22</th>\n",
              "      <td>BPOM_Manokwari</td>\n",
              "      <td>in</td>\n",
              "      <td>2020-11-23 23:13:01</td>\n",
              "      <td>0</td>\n",
              "      <td>0</td>\n",
              "      <td>Repost : #BPOM_RI\\n#SahabatBPOM, berikut penje...</td>\n",
              "      <td>Papua Barat, Indonesia</td>\n",
              "    </tr>\n",
              "    <tr>\n",
              "      <th>23</th>\n",
              "      <td>ajisubekti90</td>\n",
              "      <td>in</td>\n",
              "      <td>2020-11-23 03:53:44</td>\n",
              "      <td>0</td>\n",
              "      <td>0</td>\n",
              "      <td>@BKNgoid\\n@tjahjo_kumolo\\n@riekediahp\\n@kempan...</td>\n",
              "      <td>Purwokerto</td>\n",
              "    </tr>\n",
              "    <tr>\n",
              "      <th>24</th>\n",
              "      <td>ajisubekti90</td>\n",
              "      <td>in</td>\n",
              "      <td>2020-11-21 14:17:46</td>\n",
              "      <td>4</td>\n",
              "      <td>0</td>\n",
              "      <td>@BKNgoid Dan hingga hari ini 21/11/2020 tidak ...</td>\n",
              "      <td>Purwokerto</td>\n",
              "    </tr>\n",
              "    <tr>\n",
              "      <th>25</th>\n",
              "      <td>BPOM_Manokwari</td>\n",
              "      <td>in</td>\n",
              "      <td>2020-11-20 04:48:41</td>\n",
              "      <td>0</td>\n",
              "      <td>0</td>\n",
              "      <td>Masa pandemic cobvid-19 dan New Normal tidak m...</td>\n",
              "      <td>Papua Barat, Indonesia</td>\n",
              "    </tr>\n",
              "  </tbody>\n",
              "</table>\n",
              "</div>"
            ],
            "text/plain": [
              "        screen_name  ...                      location\n",
              "0    PratiknaAnanta  ...                              \n",
              "1      LendahPolres  ...                              \n",
              "2   Gedeantaragmai1  ...                              \n",
              "3    kanimsurakarta  ...        Surakarta, Jawa Tengah\n",
              "4      tribunkaltim  ...         Balikpapan, Indonesia\n",
              "5         toycrane1  ...                              \n",
              "6      tribunkaltim  ...         Balikpapan, Indonesia\n",
              "7    BPOM_Manokwari  ...        Papua Barat, Indonesia\n",
              "8    BPOM_Manokwari  ...        Papua Barat, Indonesia\n",
              "9   KABUPATENFAKFAK  ...  FAKFAK, WEST PAPUA INDONESIA\n",
              "10       dhikanoman  ...        Jakarta Capital Region\n",
              "11   BPOM_Manokwari  ...        Papua Barat, Indonesia\n",
              "12   BPOM_Manokwari  ...        Papua Barat, Indonesia\n",
              "13   BPOM_Manokwari  ...        Papua Barat, Indonesia\n",
              "14   BPOM_Manokwari  ...        Papua Barat, Indonesia\n",
              "15      bkpsdm_kota  ...               JALAN G.OBOS XI\n",
              "16   BPOM_Manokwari  ...        Papua Barat, Indonesia\n",
              "17   BPOM_Manokwari  ...        Papua Barat, Indonesia\n",
              "18   BPOM_Manokwari  ...        Papua Barat, Indonesia\n",
              "19   BPOM_Manokwari  ...        Papua Barat, Indonesia\n",
              "20   BPOM_Manokwari  ...        Papua Barat, Indonesia\n",
              "21   BPOM_Manokwari  ...        Papua Barat, Indonesia\n",
              "22   BPOM_Manokwari  ...        Papua Barat, Indonesia\n",
              "23     ajisubekti90  ...                    Purwokerto\n",
              "24     ajisubekti90  ...                    Purwokerto\n",
              "25   BPOM_Manokwari  ...        Papua Barat, Indonesia\n",
              "\n",
              "[26 rows x 7 columns]"
            ]
          },
          "metadata": {
            "tags": []
          }
        }
      ]
    },
    {
      "cell_type": "code",
      "metadata": {
        "id": "edNq3pVs7njZ"
      },
      "source": [
        "bytes_to_write = tweets_pd.to_csv('TagarCPNS2019.csv')"
      ],
      "execution_count": 46,
      "outputs": []
    },
    {
      "cell_type": "code",
      "metadata": {
        "id": "JJTsLo1N9h3J"
      },
      "source": [
        "bytes_to_write = tweets_pd1.to_csv('TagarSobatBKN.csv')"
      ],
      "execution_count": 47,
      "outputs": []
    },
    {
      "cell_type": "code",
      "metadata": {
        "id": "GioBnTiv9n4u"
      },
      "source": [
        "bytes_to_write = tweets_pd2.to_csv('ASNKiniBeda.csv')"
      ],
      "execution_count": 48,
      "outputs": []
    },
    {
      "cell_type": "code",
      "metadata": {
        "id": "9p4JrfZ092j3"
      },
      "source": [
        "data1=pd.read_csv('TagarCPNS2019.csv')\n",
        "#data1.head()\n",
        "\n",
        "data2=pd.read_csv('TagarSobatBKN.csv')\n",
        "#data2.head()\n",
        "\n",
        "data3=pd.read_csv('ASNKiniBeda.csv')\n",
        "#data3.head()\n",
        "\n",
        "data1=pd.DataFrame(data1)\n",
        "data2=pd.DataFrame(data2)\n",
        "data3=pd.DataFrame(data3)"
      ],
      "execution_count": 49,
      "outputs": []
    },
    {
      "cell_type": "code",
      "metadata": {
        "colab": {
          "base_uri": "https://localhost:8080/"
        },
        "id": "_LYRMzF5-Fg9",
        "outputId": "46272068-2514-49a6-c762-d53c2a8592f7"
      },
      "source": [
        "Alldata = pd.concat([data1,data2,data3])\n",
        "Alldata.to_csv('Alldata.csv')\n",
        "Alldata.shape"
      ],
      "execution_count": 51,
      "outputs": [
        {
          "output_type": "execute_result",
          "data": {
            "text/plain": [
              "(219, 8)"
            ]
          },
          "metadata": {
            "tags": []
          },
          "execution_count": 51
        }
      ]
    },
    {
      "cell_type": "code",
      "metadata": {
        "colab": {
          "base_uri": "https://localhost:8080/",
          "height": 306
        },
        "id": "cQtyCBhS9RrH",
        "outputId": "d984ea93-7c9f-4e28-c516-7ff2c0901fd5"
      },
      "source": [
        "df = pd.read_csv('Alldata.csv')\n",
        "df.head()"
      ],
      "execution_count": 122,
      "outputs": [
        {
          "output_type": "execute_result",
          "data": {
            "text/html": [
              "<div>\n",
              "<style scoped>\n",
              "    .dataframe tbody tr th:only-of-type {\n",
              "        vertical-align: middle;\n",
              "    }\n",
              "\n",
              "    .dataframe tbody tr th {\n",
              "        vertical-align: top;\n",
              "    }\n",
              "\n",
              "    .dataframe thead th {\n",
              "        text-align: right;\n",
              "    }\n",
              "</style>\n",
              "<table border=\"1\" class=\"dataframe\">\n",
              "  <thead>\n",
              "    <tr style=\"text-align: right;\">\n",
              "      <th></th>\n",
              "      <th>Unnamed: 0</th>\n",
              "      <th>Unnamed: 0.1</th>\n",
              "      <th>screen_name</th>\n",
              "      <th>lang</th>\n",
              "      <th>created_at</th>\n",
              "      <th>fav_count</th>\n",
              "      <th>retweet_count</th>\n",
              "      <th>text</th>\n",
              "      <th>location</th>\n",
              "    </tr>\n",
              "  </thead>\n",
              "  <tbody>\n",
              "    <tr>\n",
              "      <th>0</th>\n",
              "      <td>0</td>\n",
              "      <td>0</td>\n",
              "      <td>MasArdy55351211</td>\n",
              "      <td>in</td>\n",
              "      <td>2020-11-28 12:13:56</td>\n",
              "      <td>0</td>\n",
              "      <td>0</td>\n",
              "      <td>@BKDTegalKab @PemkabTegal @umiazizah60 Progres...</td>\n",
              "      <td>NaN</td>\n",
              "    </tr>\n",
              "    <tr>\n",
              "      <th>1</th>\n",
              "      <td>1</td>\n",
              "      <td>1</td>\n",
              "      <td>Roy_Ritonga</td>\n",
              "      <td>in</td>\n",
              "      <td>2020-11-28 10:33:07</td>\n",
              "      <td>0</td>\n",
              "      <td>69</td>\n",
              "      <td>RT @BKNgoid: #SobatBKN, Mimin mau ingetin buat...</td>\n",
              "      <td>Medan, Sumatera Utara</td>\n",
              "    </tr>\n",
              "    <tr>\n",
              "      <th>2</th>\n",
              "      <td>2</td>\n",
              "      <td>2</td>\n",
              "      <td>zahrafryna</td>\n",
              "      <td>in</td>\n",
              "      <td>2020-11-28 09:11:04</td>\n",
              "      <td>0</td>\n",
              "      <td>2180</td>\n",
              "      <td>RT @p3kcpns: -- THREAD KUMPULAN BUKU CPNS DPF ...</td>\n",
              "      <td>Yogyakarta, Indonesia</td>\n",
              "    </tr>\n",
              "    <tr>\n",
              "      <th>3</th>\n",
              "      <td>3</td>\n",
              "      <td>3</td>\n",
              "      <td>p3kcpns</td>\n",
              "      <td>in</td>\n",
              "      <td>2020-11-28 03:57:36</td>\n",
              "      <td>0</td>\n",
              "      <td>2180</td>\n",
              "      <td>RT @p3kcpns: -- THREAD KUMPULAN BUKU CPNS DPF ...</td>\n",
              "      <td>Indihiang, Indonesia</td>\n",
              "    </tr>\n",
              "    <tr>\n",
              "      <th>4</th>\n",
              "      <td>4</td>\n",
              "      <td>4</td>\n",
              "      <td>gue_widagdo</td>\n",
              "      <td>in</td>\n",
              "      <td>2020-11-27 22:59:55</td>\n",
              "      <td>1</td>\n",
              "      <td>0</td>\n",
              "      <td>H+10 Alhamdulillah terpantau 100%acc next step...</td>\n",
              "      <td>NaN</td>\n",
              "    </tr>\n",
              "  </tbody>\n",
              "</table>\n",
              "</div>"
            ],
            "text/plain": [
              "   Unnamed: 0  ...               location\n",
              "0           0  ...                    NaN\n",
              "1           1  ...  Medan, Sumatera Utara\n",
              "2           2  ...  Yogyakarta, Indonesia\n",
              "3           3  ...   Indihiang, Indonesia\n",
              "4           4  ...                    NaN\n",
              "\n",
              "[5 rows x 9 columns]"
            ]
          },
          "metadata": {
            "tags": []
          },
          "execution_count": 122
        }
      ]
    },
    {
      "cell_type": "code",
      "metadata": {
        "colab": {
          "base_uri": "https://localhost:8080/",
          "height": 419
        },
        "id": "wdu6X789AhSe",
        "outputId": "38660182-e679-4aca-b88c-4aa4ff291cec"
      },
      "source": [
        "df = df.loc[:, ~df.columns.str.contains('^Unnamed')]\n",
        "df.drop(['lang', 'created_at','fav_count','retweet_count','location'], axis=1)\n"
      ],
      "execution_count": 123,
      "outputs": [
        {
          "output_type": "execute_result",
          "data": {
            "text/html": [
              "<div>\n",
              "<style scoped>\n",
              "    .dataframe tbody tr th:only-of-type {\n",
              "        vertical-align: middle;\n",
              "    }\n",
              "\n",
              "    .dataframe tbody tr th {\n",
              "        vertical-align: top;\n",
              "    }\n",
              "\n",
              "    .dataframe thead th {\n",
              "        text-align: right;\n",
              "    }\n",
              "</style>\n",
              "<table border=\"1\" class=\"dataframe\">\n",
              "  <thead>\n",
              "    <tr style=\"text-align: right;\">\n",
              "      <th></th>\n",
              "      <th>screen_name</th>\n",
              "      <th>text</th>\n",
              "    </tr>\n",
              "  </thead>\n",
              "  <tbody>\n",
              "    <tr>\n",
              "      <th>0</th>\n",
              "      <td>MasArdy55351211</td>\n",
              "      <td>@BKDTegalKab @PemkabTegal @umiazizah60 Progres...</td>\n",
              "    </tr>\n",
              "    <tr>\n",
              "      <th>1</th>\n",
              "      <td>Roy_Ritonga</td>\n",
              "      <td>RT @BKNgoid: #SobatBKN, Mimin mau ingetin buat...</td>\n",
              "    </tr>\n",
              "    <tr>\n",
              "      <th>2</th>\n",
              "      <td>zahrafryna</td>\n",
              "      <td>RT @p3kcpns: -- THREAD KUMPULAN BUKU CPNS DPF ...</td>\n",
              "    </tr>\n",
              "    <tr>\n",
              "      <th>3</th>\n",
              "      <td>p3kcpns</td>\n",
              "      <td>RT @p3kcpns: -- THREAD KUMPULAN BUKU CPNS DPF ...</td>\n",
              "    </tr>\n",
              "    <tr>\n",
              "      <th>4</th>\n",
              "      <td>gue_widagdo</td>\n",
              "      <td>H+10 Alhamdulillah terpantau 100%acc next step...</td>\n",
              "    </tr>\n",
              "    <tr>\n",
              "      <th>...</th>\n",
              "      <td>...</td>\n",
              "      <td>...</td>\n",
              "    </tr>\n",
              "    <tr>\n",
              "      <th>214</th>\n",
              "      <td>BPOM_Manokwari</td>\n",
              "      <td>Repost : #BPOM_RI\\n#SahabatBPOM, berikut penje...</td>\n",
              "    </tr>\n",
              "    <tr>\n",
              "      <th>215</th>\n",
              "      <td>BPOM_Manokwari</td>\n",
              "      <td>Repost : #BPOM_RI\\n#SahabatBPOM, berikut penje...</td>\n",
              "    </tr>\n",
              "    <tr>\n",
              "      <th>216</th>\n",
              "      <td>ajisubekti90</td>\n",
              "      <td>@BKNgoid\\n@tjahjo_kumolo\\n@riekediahp\\n@kempan...</td>\n",
              "    </tr>\n",
              "    <tr>\n",
              "      <th>217</th>\n",
              "      <td>ajisubekti90</td>\n",
              "      <td>@BKNgoid Dan hingga hari ini 21/11/2020 tidak ...</td>\n",
              "    </tr>\n",
              "    <tr>\n",
              "      <th>218</th>\n",
              "      <td>BPOM_Manokwari</td>\n",
              "      <td>Masa pandemic cobvid-19 dan New Normal tidak m...</td>\n",
              "    </tr>\n",
              "  </tbody>\n",
              "</table>\n",
              "<p>219 rows × 2 columns</p>\n",
              "</div>"
            ],
            "text/plain": [
              "         screen_name                                               text\n",
              "0    MasArdy55351211  @BKDTegalKab @PemkabTegal @umiazizah60 Progres...\n",
              "1        Roy_Ritonga  RT @BKNgoid: #SobatBKN, Mimin mau ingetin buat...\n",
              "2         zahrafryna  RT @p3kcpns: -- THREAD KUMPULAN BUKU CPNS DPF ...\n",
              "3            p3kcpns  RT @p3kcpns: -- THREAD KUMPULAN BUKU CPNS DPF ...\n",
              "4        gue_widagdo  H+10 Alhamdulillah terpantau 100%acc next step...\n",
              "..               ...                                                ...\n",
              "214   BPOM_Manokwari  Repost : #BPOM_RI\\n#SahabatBPOM, berikut penje...\n",
              "215   BPOM_Manokwari  Repost : #BPOM_RI\\n#SahabatBPOM, berikut penje...\n",
              "216     ajisubekti90  @BKNgoid\\n@tjahjo_kumolo\\n@riekediahp\\n@kempan...\n",
              "217     ajisubekti90  @BKNgoid Dan hingga hari ini 21/11/2020 tidak ...\n",
              "218   BPOM_Manokwari  Masa pandemic cobvid-19 dan New Normal tidak m...\n",
              "\n",
              "[219 rows x 2 columns]"
            ]
          },
          "metadata": {
            "tags": []
          },
          "execution_count": 123
        }
      ]
    },
    {
      "cell_type": "markdown",
      "metadata": {
        "id": "BUxhz5U69RrH"
      },
      "source": [
        "### Text Classification"
      ]
    },
    {
      "cell_type": "markdown",
      "metadata": {
        "id": "zYZdgAc-9RrH"
      },
      "source": [
        "#### 1. Cleaning text tidak penting"
      ]
    },
    {
      "cell_type": "code",
      "metadata": {
        "colab": {
          "base_uri": "https://localhost:8080/",
          "height": 204
        },
        "id": "0ixS05vT9RrH",
        "outputId": "8c676318-4704-42e6-c39d-2b33c9bf4380"
      },
      "source": [
        "def clean_text(df, text_field):\n",
        "    df[text_field] = df[text_field].str.lower()\n",
        "    df[text_field] = df[text_field].apply(lambda elem: re.sub(r\"(@[A-Za-z0-9]+)|([^0-9A-Za-z \\t])|(\\w+:\\/\\/\\S+)|^rt|http.+?\", \"\", elem))  \n",
        "    return df\n",
        "\n",
        "df = clean_text(df, 'text')\n",
        "df.head()"
      ],
      "execution_count": 124,
      "outputs": [
        {
          "output_type": "execute_result",
          "data": {
            "text/html": [
              "<div>\n",
              "<style scoped>\n",
              "    .dataframe tbody tr th:only-of-type {\n",
              "        vertical-align: middle;\n",
              "    }\n",
              "\n",
              "    .dataframe tbody tr th {\n",
              "        vertical-align: top;\n",
              "    }\n",
              "\n",
              "    .dataframe thead th {\n",
              "        text-align: right;\n",
              "    }\n",
              "</style>\n",
              "<table border=\"1\" class=\"dataframe\">\n",
              "  <thead>\n",
              "    <tr style=\"text-align: right;\">\n",
              "      <th></th>\n",
              "      <th>screen_name</th>\n",
              "      <th>lang</th>\n",
              "      <th>created_at</th>\n",
              "      <th>fav_count</th>\n",
              "      <th>retweet_count</th>\n",
              "      <th>text</th>\n",
              "      <th>location</th>\n",
              "    </tr>\n",
              "  </thead>\n",
              "  <tbody>\n",
              "    <tr>\n",
              "      <th>0</th>\n",
              "      <td>MasArdy55351211</td>\n",
              "      <td>in</td>\n",
              "      <td>2020-11-28 12:13:56</td>\n",
              "      <td>0</td>\n",
              "      <td>0</td>\n",
              "      <td>progres penetapan nip cpns2019 gmna min</td>\n",
              "      <td>NaN</td>\n",
              "    </tr>\n",
              "    <tr>\n",
              "      <th>1</th>\n",
              "      <td>Roy_Ritonga</td>\n",
              "      <td>in</td>\n",
              "      <td>2020-11-28 10:33:07</td>\n",
              "      <td>0</td>\n",
              "      <td>69</td>\n",
              "      <td>sobatbkn mimin mau ingetin buat kalian kalau...</td>\n",
              "      <td>Medan, Sumatera Utara</td>\n",
              "    </tr>\n",
              "    <tr>\n",
              "      <th>2</th>\n",
              "      <td>zahrafryna</td>\n",
              "      <td>in</td>\n",
              "      <td>2020-11-28 09:11:04</td>\n",
              "      <td>0</td>\n",
              "      <td>2180</td>\n",
              "      <td>thread kumpulan buku cpns dpf gratis oke ka...</td>\n",
              "      <td>Yogyakarta, Indonesia</td>\n",
              "    </tr>\n",
              "    <tr>\n",
              "      <th>3</th>\n",
              "      <td>p3kcpns</td>\n",
              "      <td>in</td>\n",
              "      <td>2020-11-28 03:57:36</td>\n",
              "      <td>0</td>\n",
              "      <td>2180</td>\n",
              "      <td>thread kumpulan buku cpns dpf gratis oke ka...</td>\n",
              "      <td>Indihiang, Indonesia</td>\n",
              "    </tr>\n",
              "    <tr>\n",
              "      <th>4</th>\n",
              "      <td>gue_widagdo</td>\n",
              "      <td>in</td>\n",
              "      <td>2020-11-27 22:59:55</td>\n",
              "      <td>1</td>\n",
              "      <td>0</td>\n",
              "      <td>h10 alhamdulillah terpantau 100acc next step b...</td>\n",
              "      <td>NaN</td>\n",
              "    </tr>\n",
              "  </tbody>\n",
              "</table>\n",
              "</div>"
            ],
            "text/plain": [
              "       screen_name  ...               location\n",
              "0  MasArdy55351211  ...                    NaN\n",
              "1      Roy_Ritonga  ...  Medan, Sumatera Utara\n",
              "2       zahrafryna  ...  Yogyakarta, Indonesia\n",
              "3          p3kcpns  ...   Indihiang, Indonesia\n",
              "4      gue_widagdo  ...                    NaN\n",
              "\n",
              "[5 rows x 7 columns]"
            ]
          },
          "metadata": {
            "tags": []
          },
          "execution_count": 124
        }
      ]
    },
    {
      "cell_type": "code",
      "metadata": {
        "id": "UrvO5-ht9RrH"
      },
      "source": [
        "nlp = en_core_web_sm.load()\n",
        "tokenizer = RegexpTokenizer(r'\\w+')\n",
        "lemmatizer = WordNetLemmatizer()\n",
        "stop = set(stopwords.words('english'))\n",
        "punctuation = list(string.punctuation) \n",
        "stop.update(punctuation)\n",
        "w_tokenizer = WhitespaceTokenizer()\n",
        "\n",
        "            \n",
        "def furnished(text):\n",
        "    final_text = []\n",
        "    for i in w_tokenizer.tokenize(text):\n",
        "#     for i in text.split():\n",
        "        if i.lower() not in stop:\n",
        "            word = lemmatizer.lemmatize(i)\n",
        "            final_text.append(word.lower())\n",
        "    return \" \".join(final_text)\n",
        "\n",
        "\n",
        "            \n",
        "df.text = df.text.apply(furnished)"
      ],
      "execution_count": 125,
      "outputs": []
    },
    {
      "cell_type": "code",
      "metadata": {
        "colab": {
          "base_uri": "https://localhost:8080/",
          "height": 204
        },
        "id": "0zXXWFvs9RrH",
        "outputId": "9f323931-35bd-4de9-ff80-216b6f7e335a"
      },
      "source": [
        "df.sample(5)"
      ],
      "execution_count": 126,
      "outputs": [
        {
          "output_type": "execute_result",
          "data": {
            "text/html": [
              "<div>\n",
              "<style scoped>\n",
              "    .dataframe tbody tr th:only-of-type {\n",
              "        vertical-align: middle;\n",
              "    }\n",
              "\n",
              "    .dataframe tbody tr th {\n",
              "        vertical-align: top;\n",
              "    }\n",
              "\n",
              "    .dataframe thead th {\n",
              "        text-align: right;\n",
              "    }\n",
              "</style>\n",
              "<table border=\"1\" class=\"dataframe\">\n",
              "  <thead>\n",
              "    <tr style=\"text-align: right;\">\n",
              "      <th></th>\n",
              "      <th>screen_name</th>\n",
              "      <th>lang</th>\n",
              "      <th>created_at</th>\n",
              "      <th>fav_count</th>\n",
              "      <th>retweet_count</th>\n",
              "      <th>text</th>\n",
              "      <th>location</th>\n",
              "    </tr>\n",
              "  </thead>\n",
              "  <tbody>\n",
              "    <tr>\n",
              "      <th>123</th>\n",
              "      <td>bankdann</td>\n",
              "      <td>in</td>\n",
              "      <td>2020-11-23 10:57:04</td>\n",
              "      <td>0</td>\n",
              "      <td>387</td>\n",
              "      <td>selamat pagi keberkahan u kita semua perlu sob...</td>\n",
              "      <td>NaN</td>\n",
              "    </tr>\n",
              "    <tr>\n",
              "      <th>67</th>\n",
              "      <td>riceinabowl131</td>\n",
              "      <td>in</td>\n",
              "      <td>2020-11-21 05:34:25</td>\n",
              "      <td>0</td>\n",
              "      <td>69</td>\n",
              "      <td>sobatbkn mimin mau ingetin buat kalian kalau h...</td>\n",
              "      <td>Outer Space 🛸</td>\n",
              "    </tr>\n",
              "    <tr>\n",
              "      <th>195</th>\n",
              "      <td>Gedeantaragmai1</td>\n",
              "      <td>in</td>\n",
              "      <td>2020-11-29 00:23:23</td>\n",
              "      <td>1</td>\n",
              "      <td>0</td>\n",
              "      <td>kapolres kulonprogo beserta staf dan jajaran m...</td>\n",
              "      <td>NaN</td>\n",
              "    </tr>\n",
              "    <tr>\n",
              "      <th>72</th>\n",
              "      <td>stqmhh</td>\n",
              "      <td>in</td>\n",
              "      <td>2020-11-21 05:08:24</td>\n",
              "      <td>0</td>\n",
              "      <td>69</td>\n",
              "      <td>sobatbkn mimin mau ingetin buat kalian kalau h...</td>\n",
              "      <td>Banjarmasin</td>\n",
              "    </tr>\n",
              "    <tr>\n",
              "      <th>64</th>\n",
              "      <td>liau93</td>\n",
              "      <td>in</td>\n",
              "      <td>2020-11-21 05:55:52</td>\n",
              "      <td>0</td>\n",
              "      <td>69</td>\n",
              "      <td>sobatbkn mimin mau ingetin buat kalian kalau h...</td>\n",
              "      <td>Indonesia</td>\n",
              "    </tr>\n",
              "  </tbody>\n",
              "</table>\n",
              "</div>"
            ],
            "text/plain": [
              "         screen_name  ...       location\n",
              "123         bankdann  ...            NaN\n",
              "67    riceinabowl131  ...  Outer Space 🛸\n",
              "195  Gedeantaragmai1  ...            NaN\n",
              "72            stqmhh  ...    Banjarmasin\n",
              "64            liau93  ...      Indonesia\n",
              "\n",
              "[5 rows x 7 columns]"
            ]
          },
          "metadata": {
            "tags": []
          },
          "execution_count": 126
        }
      ]
    },
    {
      "cell_type": "markdown",
      "metadata": {
        "id": "8jR6iLBT9RrH"
      },
      "source": [
        "2. Mendefinisikan Kumpulan Kata"
      ]
    },
    {
      "cell_type": "code",
      "metadata": {
        "id": "oLjXx0Aa9RrH"
      },
      "source": [
        "economy_related_words = '''infrastruktur pertanian kapitalisme perdagangan sektor jasa teknologi penawaran ekonomis\n",
        "                          efisiensi industrialisme penghematan penghematan pengurangan nilai debit kredit\n",
        "                         menghemat hemat secara ekonomis\n",
        "                         ekonomi lesu naik belanja melestarikan tren\n",
        "                         penurunan manajemen industri berdampak buruk\n",
        "                            penurunan surplus profesi\n",
        "                         penurunan percepatan sektor bunga keseimbangan stabilitas produktivitas meningkatkan tingkat suku bunga\n",
        "                            mendorong perluasan menstabilkan tingkat pinjaman industri yang berjuang\n",
        "                           defisit memprediksi peningkatan data\n",
        "                          analis ekonom perusahaan ekonomi berbasis pasar investasi bebas hutang\n",
        "                         Metrik nilai tukar menengah savepoint kelangkaan modal bisnis dana pemegang saham perusahaan bank\n",
        "                         aset treasury pariwisata pendapatan kontraksi lapangan kerja meningkatkan deflasi makroekonomi\n",
        "                         Kebangkrutan eksportir hiperinflasi dolar kewirausahaan meningkatkan devaluasi perdagangan pasar\n",
        "                         quicksave deindustrialisasi pasar saham reflation downspin dollarisasi withholder bankroll modal ventura\n",
        "                         reksa dana rencana ekonomi pemberi pinjaman hipotek tingkat pengangguran krisis kredit bank sentral lembaga keuangan\n",
        "                         suku bunga bank bea masuk produksi massal pasar gelap negara berkembang mengembangkan pertumbuhan ekonomi gdp perdagangan barter\n",
        "                         ekonomi penurunan distribusi'''"
      ],
      "execution_count": 127,
      "outputs": []
    },
    {
      "cell_type": "code",
      "metadata": {
        "id": "iDsGMSid9RrH"
      },
      "source": [
        "social_related_words = '''sosialisasi sosial politik yang ramah, suka berteman sosial, sosialisasi politik\n",
        "                        antarpribadi etnis sosial partai kesejahteraan komunitas masyarakat sosialis pembangunan masyarakat\n",
        "                            jaringan manusia sosialisme kolektif perusahaan pribadi konstruktivisme sosial\n",
        "                        relasi akan kewarganegaraan hak sikap kasar socio\n",
        "                        etika sosial ekonomi perkawinan komunal sipil sosial sosial\n",
        "                         serikat kebijakan\n",
        "                        lembaga menghargai jambore organisasi pemerintah\n",
        "                         pesta dukungan keadilan keadilan\n",
        "                         sisi aktivisme psikososial yang tidak sosial\n",
        "                        mensosialisasikan reuni partisipasi demografis distribusi psikologis\n",
        "                        partygoer partyism meriah power jaringan gala perayaan pindah rumah counterparty perang sosial\n",
        "                        asosial ideasional partikularis interaksional'''"
      ],
      "execution_count": 128,
      "outputs": []
    },
    {
      "cell_type": "code",
      "metadata": {
        "id": "iN6--M7Q9RrH"
      },
      "source": [
        "culture_related_words  = '''warisan etnisitas modernitas spiritualitas marxisme budaya material\n",
        "                           ethos kebangsaan humanisme romantisme peradaban tradisionalisme genetika\n",
        "                        Kekerabatan perkawinan hereditas adat membudayakan arkeologi\n",
        "                       pakaian modern viniculture ontogenesis berakar\n",
        "                       akar sejarah masyarakat cicero mempengaruhi geografi sejarah asal rakyat\n",
        "                       Fenomena teleologi perspektif aspek kuno liberalisme saat ini gaya komunitas unik lazim digambarkan\n",
        "                         hari ini asal mula kepercayaan modernitas bergenre suku barbar\n",
        "                       penjajahan budaya organisasi universal peradaban barat strukturalisme budaya\n",
        "                       budaya transkulturasi kafir pagan petani klasik nativisme anarki ungrown kultus filosofis\n",
        "                       Kesadaran bro-culture Islam mengembangkan diaspora kultus setelah berkembangnya relativisme budaya asli\n",
        "                       Epistemologi kosmopolitan mongolian menghayati keberagaman chauvinisme westernisasi materialisme vernakular\n",
        "                       homogenitas otherness holism tusculanae disputationes primitivism superficiality hedonism wacana\n",
        "                       puritanisme modernisme intelektualisme eksklusifitas elitisme kolonialisme\n",
        "                       pantekostalisme paganisme ekspansi nasional kimono pembantu pedesaan\n",
        "                       membudayakan alethophobia nettlebed japanification dongyi clannishness insularity hybridity\n",
        "                       westernisasi keasingan pandangan dunia exclusionism enkulturasi etnosentrisme confucianist vulgarization\n",
        "                       shintoisme westernisme denominasionalisme derasinasi\n",
        "                        kosmologi eurosentrisme, emosi, bohemianisme, teritorialisme\n",
        "                       Filsafat-doktrin etnis minoritas sosial-darwinisme teori evolusi budaya sistem kepercayaan musik rakyat\n",
        "                       rumah seni tradisional karl-marx theorymedia\n",
        "                       museum sejarah seni film-teori mempelajari artefak budaya'''"
      ],
      "execution_count": 129,
      "outputs": []
    },
    {
      "cell_type": "code",
      "metadata": {
        "id": "lrfD7bl59RrH"
      },
      "source": [
        "health_related_words = '''penyakit obesitas organisasi kesehatan dunia kedokteran gizi kebugaran latihan kesejahteraan kesehatan kesehatan masyarakat\n",
        "                     Keperawatan stres keselamatan penelitian kebersihan kesehatan sosial membantu epidemiologi kesehatan kesejahteraan\n",
        "                     perawatan penyakit pendidikan diet medis penyakit menular kesehatan lingkungan rumah sakit kebugaran fisik\n",
        "                     dokter penyedia perawatan kesehatan komunitas yang sehat desain asuransi sanitasi tubuh manusia pasien kesehatan mental\n",
        "                      Medicare pertanian ilmu kesehatan kebugaran kebijakan kesehatan penurunan berat badan terapi fisik psikologi farmasi\n",
        "                     organisme metabolik status gaya hidup manusia tidak sehat vaksinasi optimis tidur kondom alkohol keluarga merokok air\n",
        "                     eudaimonia eudaemonia air house pencegahan genetika keluarga masyarakat miskin membutuhkan pengobatan penyakit menular\n",
        "                     studi perlindungan pengembangan malaria manajemen prioritas pangan kesehatan mental menyediakan administrasi departemen\n",
        "                     Program membantu bantuan pendanaan lingkungan meningkatkan kebutuhan darurat Program sekolah yang terkena penyakit mental swasta\n",
        "                     mengobati penyakit kesuburan penyakit kesuburan perinatal apoteker perilaku bidan\n",
        "                     gerontologi infertilitas rawat inap kebidanan kolesterol perawatan anak dokter anak pediatrik medicaid asma\n",
        "                     pensiun penyakit push-up pendidikan jasmani indeks massa tubuh makan dengan baik alat senam tune up selamat pagi\n",
        "                     mandi tekanan darah rendah serangan jantung klub kesehatan naik sepeda Anda merasa baik eksim urtikaria dermatitis terbakar sinar matahari terlalu banyak kerja\n",
        "                     manufaktur sosiologi medis perlu latihan lari'''"
      ],
      "execution_count": 130,
      "outputs": []
    },
    {
      "cell_type": "markdown",
      "metadata": {
        "id": "9VEJ_1Ob9RrH"
      },
      "source": [
        "#### 3. Preprocessing Kata."
      ]
    },
    {
      "cell_type": "markdown",
      "metadata": {
        "id": "HI8ieO5n9RrH"
      },
      "source": [
        " #### Tokenizing dan menghapus kata "
      ]
    },
    {
      "cell_type": "code",
      "metadata": {
        "id": "miAxh7e89RrH"
      },
      "source": [
        "nlp = en_core_web_sm.load()\n",
        "tokenizer = RegexpTokenizer(r'\\w+')\n",
        "lemmatizer = WordNetLemmatizer()\n",
        "stop = set(stopwords.words('english'))\n",
        "punctuation = list(string.punctuation)\n",
        "stop.update(punctuation)\n",
        "w_tokenizer = WhitespaceTokenizer()\n",
        "\n",
        "# clean the set of words\n",
        "            \n",
        "def furnished(text):\n",
        "    final_text = []\n",
        "    for i in text.split():\n",
        "        if i.lower() not in stop:\n",
        "            word = lemmatizer.lemmatize(i)\n",
        "            final_text.append(word.lower())\n",
        "    return \" \".join(final_text)\n"
      ],
      "execution_count": 132,
      "outputs": []
    },
    {
      "cell_type": "code",
      "metadata": {
        "id": "s_pAQVT99RrH"
      },
      "source": [
        "economy = furnished(economy_related_words)\n",
        "social = furnished(social_related_words)\n",
        "culture = furnished(culture_related_words)\n",
        "health = furnished(health_related_words)"
      ],
      "execution_count": 133,
      "outputs": []
    },
    {
      "cell_type": "markdown",
      "metadata": {
        "id": "lZuR05Vu9RrH"
      },
      "source": [
        "#### Removing duplicates"
      ]
    },
    {
      "cell_type": "code",
      "metadata": {
        "colab": {
          "base_uri": "https://localhost:8080/",
          "height": 137
        },
        "id": "QlqbOuzm9RrH",
        "outputId": "ef1b3f49-d15c-449b-ee77-8259ee362f9b"
      },
      "source": [
        "# delete duplicates\n",
        "string1 = economy\n",
        "words = string1.split()\n",
        "economy = \" \".join(sorted(set(words), key=words.index))\n",
        "economy"
      ],
      "execution_count": 63,
      "outputs": [
        {
          "output_type": "execute_result",
          "data": {
            "application/vnd.google.colaboratory.intrinsic+json": {
              "type": "string"
            },
            "text/plain": [
              "'infrastruktur pertanian kapitalisme perdagangan sektor jasa teknologi penawaran ekonomis efisiensi industrialisme penghematan pengurangan nilai debit kredit menghemat hemat secara ekonomi lesu naik belanja melestarikan tren penurunan manajemen industri berdampak buruk surplus profesi percepatan bunga keseimbangan stabilitas produktivitas meningkatkan tingkat suku mendorong perluasan menstabilkan pinjaman yang berjuang defisit memprediksi peningkatan data analis ekonom perusahaan berbasis pasar investasi bebas hutang metrik tukar menengah savepoint kelangkaan modal bisnis dana pemegang saham bank aset treasury pariwisata pendapatan kontraksi lapangan kerja deflasi makroekonomi kebangkrutan eksportir hiperinflasi dolar kewirausahaan devaluasi quicksave deindustrialisasi reflation downspin dollarisasi withholder bankroll ventura reksa rencana pemberi hipotek pengangguran krisis sentral lembaga keuangan bea masuk produksi massal gelap negara berkembang mengembangkan pertumbuhan gdp barter distribusi'"
            ]
          },
          "metadata": {
            "tags": []
          },
          "execution_count": 63
        }
      ]
    },
    {
      "cell_type": "code",
      "metadata": {
        "colab": {
          "base_uri": "https://localhost:8080/",
          "height": 103
        },
        "id": "2WyPX6VW9RrH",
        "outputId": "a5a9edc4-a1f9-439c-f2b0-554b81fb7303"
      },
      "source": [
        "string1 = social\n",
        "words = string1.split()\n",
        "social = \" \".join(sorted(set(words), key=words.index))\n",
        "social"
      ],
      "execution_count": 64,
      "outputs": [
        {
          "output_type": "execute_result",
          "data": {
            "application/vnd.google.colaboratory.intrinsic+json": {
              "type": "string"
            },
            "text/plain": [
              "'sosialisasi sosial politik yang ramah, suka berteman sosial, antarpribadi etnis partai kesejahteraan komunitas masyarakat sosialis pembangunan jaringan manusia sosialisme kolektif perusahaan pribadi konstruktivisme relasi akan kewarganegaraan hak sikap kasar socio etika ekonomi perkawinan komunal sipil serikat kebijakan lembaga menghargai jambore organisasi pemerintah pesta dukungan keadilan sisi aktivisme psikososial tidak mensosialisasikan reuni partisipasi demografis distribusi psikologis partygoer partyism meriah power gala perayaan pindah rumah counterparty perang asosial ideasional partikularis interaksional'"
            ]
          },
          "metadata": {
            "tags": []
          },
          "execution_count": 64
        }
      ]
    },
    {
      "cell_type": "code",
      "metadata": {
        "colab": {
          "base_uri": "https://localhost:8080/",
          "height": 137
        },
        "id": "NjZWuurR9RrI",
        "outputId": "ebc9884e-cb25-48a7-c014-693445593c9c"
      },
      "source": [
        "string1 = culture\n",
        "words = string1.split()\n",
        "culture = \" \".join(sorted(set(words), key=words.index))\n",
        "culture"
      ],
      "execution_count": 65,
      "outputs": [
        {
          "output_type": "execute_result",
          "data": {
            "application/vnd.google.colaboratory.intrinsic+json": {
              "type": "string"
            },
            "text/plain": [
              "'warisan etnisitas modernitas spiritualitas marxisme budaya material ethos kebangsaan humanisme romantisme peradaban tradisionalisme genetika kekerabatan perkawinan hereditas adat membudayakan arkeologi pakaian modern viniculture ontogenesis berakar akar sejarah masyarakat cicero mempengaruhi geografi asal rakyat fenomena teleologi perspektif aspek kuno liberalisme saat ini gaya komunitas unik lazim digambarkan hari mula kepercayaan bergenre suku barbar penjajahan organisasi universal barat strukturalisme transkulturasi kafir pagan petani klasik nativisme anarki ungrown kultus filosofis kesadaran bro-culture islam mengembangkan diaspora setelah berkembangnya relativisme asli epistemologi kosmopolitan mongolian menghayati keberagaman chauvinisme westernisasi materialisme vernakular homogenitas otherness holism tusculanae disputationes primitivism superficiality hedonism wacana puritanisme modernisme intelektualisme eksklusifitas elitisme kolonialisme pantekostalisme paganisme ekspansi nasional kimono pembantu pedesaan alethophobia nettlebed japanification dongyi clannishness insularity hybridity keasingan pandangan dunia exclusionism enkulturasi etnosentrisme confucianist vulgarization shintoisme westernisme denominasionalisme derasinasi kosmologi eurosentrisme, emosi, bohemianisme, teritorialisme filsafat-doktrin etnis minoritas sosial-darwinisme teori evolusi sistem musik rumah seni tradisional karl-marx theorymedia museum film-teori mempelajari artefak'"
            ]
          },
          "metadata": {
            "tags": []
          },
          "execution_count": 65
        }
      ]
    },
    {
      "cell_type": "code",
      "metadata": {
        "colab": {
          "base_uri": "https://localhost:8080/",
          "height": 137
        },
        "id": "nbIV0ohy9RrI",
        "outputId": "9b885743-6c36-488e-c4c6-b7a4a6ceaffc"
      },
      "source": [
        "string1 = health\n",
        "words = string1.split()\n",
        "health = \" \".join(sorted(set(words), key=words.index))\n",
        "health"
      ],
      "execution_count": 66,
      "outputs": [
        {
          "output_type": "execute_result",
          "data": {
            "application/vnd.google.colaboratory.intrinsic+json": {
              "type": "string"
            },
            "text/plain": [
              "'penyakit obesitas organisasi kesehatan dunia kedokteran gizi kebugaran latihan kesejahteraan masyarakat keperawatan stres keselamatan penelitian kebersihan sosial membantu epidemiologi perawatan pendidikan diet medis menular lingkungan rumah sakit fisik dokter penyedia komunitas yang sehat desain asuransi sanitasi tubuh manusia pasien mental medicare pertanian ilmu kebijakan penurunan berat badan terapi psikologi farmasi organisme metabolik status gaya hidup tidak vaksinasi optimis tidur kondom alkohol keluarga merokok air eudaimonia eudaemonia house pencegahan genetika miskin membutuhkan pengobatan studi perlindungan pengembangan malaria manajemen prioritas pangan menyediakan administrasi departemen program bantuan pendanaan meningkatkan kebutuhan darurat sekolah terkena swasta mengobati kesuburan perinatal apoteker perilaku bidan gerontologi infertilitas rawat inap kebidanan kolesterol anak pediatrik medicaid asma pensiun push-up jasmani indeks massa makan dengan baik alat senam tune selamat pagi mandi tekanan darah rendah serangan jantung klub naik sepeda anda merasa eksim urtikaria dermatitis terbakar sinar matahari terlalu banyak kerja manufaktur sosiologi perlu lari'"
            ]
          },
          "metadata": {
            "tags": []
          },
          "execution_count": 66
        }
      ]
    },
    {
      "cell_type": "markdown",
      "metadata": {
        "id": "JxtUApkC9RrI"
      },
      "source": [
        "#### 4. Vectorizing and Standadization.\n",
        "Necessary if cosine similarity would be used"
      ]
    },
    {
      "cell_type": "code",
      "metadata": {
        "id": "BbD5yoKn9RrI"
      },
      "source": [
        "#TFIDF\n",
        "def get_vectors(*strs):\n",
        "    text = [t for t in strs]\n",
        "    vectorizer = TfidfVectorizer(text)\n",
        "    vectorizer.fit(text)\n",
        "    return vectorizer.transform(text).toarray()"
      ],
      "execution_count": 67,
      "outputs": []
    },
    {
      "cell_type": "code",
      "metadata": {
        "id": "q2gqI6On9RrI"
      },
      "source": [
        "socialvector = get_vectors(social)\n",
        "economic_vector = get_vectors(economy)\n",
        "culture_vector = get_vectors(culture)\n",
        "health_vector = get_vectors(health)"
      ],
      "execution_count": 68,
      "outputs": []
    },
    {
      "cell_type": "code",
      "metadata": {
        "id": "dSa_nr1r9RrI"
      },
      "source": [
        "## Vectorizing the tweets\n",
        "tv=TfidfVectorizer()\n",
        "# tweets_bowl = tweets_bowl.tweets.apply(get_vectors)\n",
        "# tweets_bowl.head()\n",
        "tfidf_tweets =tv.fit_transform(df.text)"
      ],
      "execution_count": 69,
      "outputs": []
    },
    {
      "cell_type": "markdown",
      "metadata": {
        "id": "eTtHbVfl9RrI"
      },
      "source": [
        "### Jaccard Similarity"
      ]
    },
    {
      "cell_type": "code",
      "metadata": {
        "id": "PcaR4K2h9RrI"
      },
      "source": [
        "def jaccard_similarity(query, document):\n",
        "    intersection = set(query).intersection(set(document))\n",
        "    union = set(query).union(set(document))\n",
        "    return len(intersection)/len(union)\n",
        "# jaccard_score(socialvector, economic_vector)\n",
        "\n",
        "#for similarity of 1 and 2 of column1\n",
        "# jaccard_similarity('dog lion a dog','dog is cat')\n",
        "\n",
        "\n",
        "def get_scores(group,tweets):\n",
        "    scores = []\n",
        "    for tweet in tweets:\n",
        "        s = jaccard_similarity(group, tweet)\n",
        "        scores.append(s)\n",
        "    return scores"
      ],
      "execution_count": 70,
      "outputs": []
    },
    {
      "cell_type": "code",
      "metadata": {
        "colab": {
          "base_uri": "https://localhost:8080/"
        },
        "id": "UfVjowkH9RrI",
        "outputId": "f25774f4-0462-418c-fbcf-7918b57ab883"
      },
      "source": [
        "# economic scores\n",
        "e_scores = get_scores(economy, df.text.to_list())\n",
        "e_scores[-10:]"
      ],
      "execution_count": 71,
      "outputs": [
        {
          "output_type": "execute_result",
          "data": {
            "text/plain": [
              "[0.6785714285714286,\n",
              " 0.6785714285714286,\n",
              " 0.6666666666666666,\n",
              " 0.6296296296296297,\n",
              " 0.8,\n",
              " 0.84,\n",
              " 0.8076923076923077,\n",
              " 0.76,\n",
              " 0.6785714285714286,\n",
              " 0.8518518518518519]"
            ]
          },
          "metadata": {
            "tags": []
          },
          "execution_count": 71
        }
      ]
    },
    {
      "cell_type": "code",
      "metadata": {
        "colab": {
          "base_uri": "https://localhost:8080/"
        },
        "id": "6u0hju_h9RrI",
        "outputId": "025c3db9-9712-405d-bc5b-fb002ff79fd0"
      },
      "source": [
        "# social scores\n",
        "s_scores = get_scores(social, df.text.to_list())\n",
        "s_scores[-10:]"
      ],
      "execution_count": 72,
      "outputs": [
        {
          "output_type": "execute_result",
          "data": {
            "text/plain": [
              "[0.6785714285714286,\n",
              " 0.6785714285714286,\n",
              " 0.6666666666666666,\n",
              " 0.6296296296296297,\n",
              " 0.8,\n",
              " 0.84,\n",
              " 0.8076923076923077,\n",
              " 0.76,\n",
              " 0.6785714285714286,\n",
              " 0.8518518518518519]"
            ]
          },
          "metadata": {
            "tags": []
          },
          "execution_count": 72
        }
      ]
    },
    {
      "cell_type": "code",
      "metadata": {
        "colab": {
          "base_uri": "https://localhost:8080/"
        },
        "id": "wsjV1roV9RrI",
        "outputId": "74fdb917-3833-419a-ff01-bfacebcd927c"
      },
      "source": [
        "# culture scores\n",
        "c_scores = get_scores(culture, df.text.to_list())\n",
        "c_scores[-10:]"
      ],
      "execution_count": 73,
      "outputs": [
        {
          "output_type": "execute_result",
          "data": {
            "text/plain": [
              "[0.6129032258064516,\n",
              " 0.6129032258064516,\n",
              " 0.6,\n",
              " 0.5666666666666667,\n",
              " 0.7142857142857143,\n",
              " 0.75,\n",
              " 0.7857142857142857,\n",
              " 0.6785714285714286,\n",
              " 0.6129032258064516,\n",
              " 0.7666666666666667]"
            ]
          },
          "metadata": {
            "tags": []
          },
          "execution_count": 73
        }
      ]
    },
    {
      "cell_type": "code",
      "metadata": {
        "colab": {
          "base_uri": "https://localhost:8080/"
        },
        "id": "Yc0QUG8v9RrI",
        "outputId": "8fcea836-ddc1-420a-dc0d-b076658ef964"
      },
      "source": [
        "# health scores\n",
        "h_scores = get_scores(health, df.text.to_list())\n",
        "h_scores[:6]"
      ],
      "execution_count": 74,
      "outputs": [
        {
          "output_type": "execute_result",
          "data": {
            "text/plain": [
              "[0.43333333333333335,\n",
              " 0.6333333333333333,\n",
              " 0.7,\n",
              " 0.7,\n",
              " 0.6896551724137931,\n",
              " 0.6129032258064516]"
            ]
          },
          "metadata": {
            "tags": []
          },
          "execution_count": 74
        }
      ]
    },
    {
      "cell_type": "code",
      "metadata": {
        "colab": {
          "base_uri": "https://localhost:8080/",
          "height": 669
        },
        "id": "CFZ8wJsP9RrI",
        "outputId": "919e4e8c-f036-4245-fb8e-2ef150450721"
      },
      "source": [
        "data  = {'names':df.screen_name.to_list(), 'economic_score':e_scores,\n",
        "         'social_score': s_scores, 'culture_score':c_scores, 'health_scores':h_scores}\n",
        "scores_df = pd.DataFrame(data)\n",
        "scores_df.head(20)"
      ],
      "execution_count": 75,
      "outputs": [
        {
          "output_type": "execute_result",
          "data": {
            "text/html": [
              "<div>\n",
              "<style scoped>\n",
              "    .dataframe tbody tr th:only-of-type {\n",
              "        vertical-align: middle;\n",
              "    }\n",
              "\n",
              "    .dataframe tbody tr th {\n",
              "        vertical-align: top;\n",
              "    }\n",
              "\n",
              "    .dataframe thead th {\n",
              "        text-align: right;\n",
              "    }\n",
              "</style>\n",
              "<table border=\"1\" class=\"dataframe\">\n",
              "  <thead>\n",
              "    <tr style=\"text-align: right;\">\n",
              "      <th></th>\n",
              "      <th>names</th>\n",
              "      <th>economic_score</th>\n",
              "      <th>social_score</th>\n",
              "      <th>culture_score</th>\n",
              "      <th>health_scores</th>\n",
              "    </tr>\n",
              "  </thead>\n",
              "  <tbody>\n",
              "    <tr>\n",
              "      <th>0</th>\n",
              "      <td>MasArdy55351211</td>\n",
              "      <td>0.448276</td>\n",
              "      <td>0.448276</td>\n",
              "      <td>0.406250</td>\n",
              "      <td>0.433333</td>\n",
              "    </tr>\n",
              "    <tr>\n",
              "      <th>1</th>\n",
              "      <td>Roy_Ritonga</td>\n",
              "      <td>0.655172</td>\n",
              "      <td>0.655172</td>\n",
              "      <td>0.593750</td>\n",
              "      <td>0.633333</td>\n",
              "    </tr>\n",
              "    <tr>\n",
              "      <th>2</th>\n",
              "      <td>zahrafryna</td>\n",
              "      <td>0.724138</td>\n",
              "      <td>0.724138</td>\n",
              "      <td>0.656250</td>\n",
              "      <td>0.700000</td>\n",
              "    </tr>\n",
              "    <tr>\n",
              "      <th>3</th>\n",
              "      <td>p3kcpns</td>\n",
              "      <td>0.724138</td>\n",
              "      <td>0.724138</td>\n",
              "      <td>0.656250</td>\n",
              "      <td>0.700000</td>\n",
              "    </tr>\n",
              "    <tr>\n",
              "      <th>4</th>\n",
              "      <td>gue_widagdo</td>\n",
              "      <td>0.714286</td>\n",
              "      <td>0.714286</td>\n",
              "      <td>0.700000</td>\n",
              "      <td>0.689655</td>\n",
              "    </tr>\n",
              "    <tr>\n",
              "      <th>5</th>\n",
              "      <td>updatecpns_com</td>\n",
              "      <td>0.633333</td>\n",
              "      <td>0.633333</td>\n",
              "      <td>0.575758</td>\n",
              "      <td>0.612903</td>\n",
              "    </tr>\n",
              "    <tr>\n",
              "      <th>6</th>\n",
              "      <td>NarumiPuspa</td>\n",
              "      <td>0.724138</td>\n",
              "      <td>0.724138</td>\n",
              "      <td>0.656250</td>\n",
              "      <td>0.700000</td>\n",
              "    </tr>\n",
              "    <tr>\n",
              "      <th>7</th>\n",
              "      <td>heruedi</td>\n",
              "      <td>0.724138</td>\n",
              "      <td>0.724138</td>\n",
              "      <td>0.656250</td>\n",
              "      <td>0.700000</td>\n",
              "    </tr>\n",
              "    <tr>\n",
              "      <th>8</th>\n",
              "      <td>dicky_febrian22</td>\n",
              "      <td>0.689655</td>\n",
              "      <td>0.689655</td>\n",
              "      <td>0.625000</td>\n",
              "      <td>0.666667</td>\n",
              "    </tr>\n",
              "    <tr>\n",
              "      <th>9</th>\n",
              "      <td>mchaerulumam</td>\n",
              "      <td>0.413793</td>\n",
              "      <td>0.413793</td>\n",
              "      <td>0.375000</td>\n",
              "      <td>0.400000</td>\n",
              "    </tr>\n",
              "    <tr>\n",
              "      <th>10</th>\n",
              "      <td>updatecpns_com</td>\n",
              "      <td>0.758621</td>\n",
              "      <td>0.758621</td>\n",
              "      <td>0.687500</td>\n",
              "      <td>0.733333</td>\n",
              "    </tr>\n",
              "    <tr>\n",
              "      <th>11</th>\n",
              "      <td>riskiapu</td>\n",
              "      <td>0.724138</td>\n",
              "      <td>0.724138</td>\n",
              "      <td>0.656250</td>\n",
              "      <td>0.700000</td>\n",
              "    </tr>\n",
              "    <tr>\n",
              "      <th>12</th>\n",
              "      <td>LadimahSukma</td>\n",
              "      <td>0.724138</td>\n",
              "      <td>0.724138</td>\n",
              "      <td>0.656250</td>\n",
              "      <td>0.700000</td>\n",
              "    </tr>\n",
              "    <tr>\n",
              "      <th>13</th>\n",
              "      <td>Pipipipiii3</td>\n",
              "      <td>0.724138</td>\n",
              "      <td>0.724138</td>\n",
              "      <td>0.656250</td>\n",
              "      <td>0.700000</td>\n",
              "    </tr>\n",
              "    <tr>\n",
              "      <th>14</th>\n",
              "      <td>sari_2918</td>\n",
              "      <td>0.724138</td>\n",
              "      <td>0.724138</td>\n",
              "      <td>0.656250</td>\n",
              "      <td>0.700000</td>\n",
              "    </tr>\n",
              "    <tr>\n",
              "      <th>15</th>\n",
              "      <td>resdvil447</td>\n",
              "      <td>0.730769</td>\n",
              "      <td>0.730769</td>\n",
              "      <td>0.655172</td>\n",
              "      <td>0.703704</td>\n",
              "    </tr>\n",
              "    <tr>\n",
              "      <th>16</th>\n",
              "      <td>aryafep</td>\n",
              "      <td>0.724138</td>\n",
              "      <td>0.724138</td>\n",
              "      <td>0.656250</td>\n",
              "      <td>0.700000</td>\n",
              "    </tr>\n",
              "    <tr>\n",
              "      <th>17</th>\n",
              "      <td>EmiaFlorensya</td>\n",
              "      <td>0.724138</td>\n",
              "      <td>0.724138</td>\n",
              "      <td>0.656250</td>\n",
              "      <td>0.700000</td>\n",
              "    </tr>\n",
              "    <tr>\n",
              "      <th>18</th>\n",
              "      <td>Irma60936814</td>\n",
              "      <td>0.655172</td>\n",
              "      <td>0.655172</td>\n",
              "      <td>0.593750</td>\n",
              "      <td>0.633333</td>\n",
              "    </tr>\n",
              "    <tr>\n",
              "      <th>19</th>\n",
              "      <td>marsmellow_3</td>\n",
              "      <td>0.724138</td>\n",
              "      <td>0.724138</td>\n",
              "      <td>0.656250</td>\n",
              "      <td>0.700000</td>\n",
              "    </tr>\n",
              "  </tbody>\n",
              "</table>\n",
              "</div>"
            ],
            "text/plain": [
              "              names  economic_score  social_score  culture_score  health_scores\n",
              "0   MasArdy55351211        0.448276      0.448276       0.406250       0.433333\n",
              "1       Roy_Ritonga        0.655172      0.655172       0.593750       0.633333\n",
              "2        zahrafryna        0.724138      0.724138       0.656250       0.700000\n",
              "3           p3kcpns        0.724138      0.724138       0.656250       0.700000\n",
              "4       gue_widagdo        0.714286      0.714286       0.700000       0.689655\n",
              "5    updatecpns_com        0.633333      0.633333       0.575758       0.612903\n",
              "6       NarumiPuspa        0.724138      0.724138       0.656250       0.700000\n",
              "7           heruedi        0.724138      0.724138       0.656250       0.700000\n",
              "8   dicky_febrian22        0.689655      0.689655       0.625000       0.666667\n",
              "9      mchaerulumam        0.413793      0.413793       0.375000       0.400000\n",
              "10   updatecpns_com        0.758621      0.758621       0.687500       0.733333\n",
              "11         riskiapu        0.724138      0.724138       0.656250       0.700000\n",
              "12     LadimahSukma        0.724138      0.724138       0.656250       0.700000\n",
              "13      Pipipipiii3        0.724138      0.724138       0.656250       0.700000\n",
              "14        sari_2918        0.724138      0.724138       0.656250       0.700000\n",
              "15       resdvil447        0.730769      0.730769       0.655172       0.703704\n",
              "16          aryafep        0.724138      0.724138       0.656250       0.700000\n",
              "17    EmiaFlorensya        0.724138      0.724138       0.656250       0.700000\n",
              "18     Irma60936814        0.655172      0.655172       0.593750       0.633333\n",
              "19     marsmellow_3        0.724138      0.724138       0.656250       0.700000"
            ]
          },
          "metadata": {
            "tags": []
          },
          "execution_count": 75
        }
      ]
    },
    {
      "cell_type": "markdown",
      "metadata": {
        "id": "LsDJF_eW9RrI"
      },
      "source": [
        "There's a thin line between economy, social and culture."
      ]
    },
    {
      "cell_type": "markdown",
      "metadata": {
        "id": "bmqnuK7T9RrI"
      },
      "source": [
        "Pick out the greatest score out of the 4 scores, where the score is greatest, replace it with 1, the rest 0."
      ]
    },
    {
      "cell_type": "code",
      "metadata": {
        "id": "IIelg0639RrI"
      },
      "source": [
        "'''Actual assigning of classes to the tweets'''\n",
        "\n",
        "def get_clusters(l1, l2, l3, l4):\n",
        "    econ = []\n",
        "    socio = []\n",
        "    cul = []\n",
        "    heal = []\n",
        "    for i, j, k, l in zip(l1, l2, l3, l4):\n",
        "        m = max(i, j, k, l)\n",
        "        if m == i:\n",
        "            econ.append(1)\n",
        "        else:\n",
        "            econ.append(0)\n",
        "        if m == j:\n",
        "            socio.append(1)\n",
        "        else:\n",
        "            socio.append(0)        \n",
        "        if m == k:\n",
        "            cul.append(1)\n",
        "        else:\n",
        "            cul.append(0)  \n",
        "        if m == l:\n",
        "            heal.append(1)\n",
        "        else:\n",
        "            heal.append(0)   \n",
        "            \n",
        "    return econ, socio, cul, heal"
      ],
      "execution_count": 76,
      "outputs": []
    },
    {
      "cell_type": "code",
      "metadata": {
        "id": "brHrCgUM9RrI"
      },
      "source": [
        "l1 = scores_df.economic_score.to_list()\n",
        "l2 = scores_df.social_score.to_list()\n",
        "l3 = scores_df.culture_score.to_list()\n",
        "l4 = scores_df.health_scores.to_list()\n",
        "\n",
        "econ, socio, cul, heal = get_clusters(l1, l2, l3, l4)"
      ],
      "execution_count": 77,
      "outputs": []
    },
    {
      "cell_type": "code",
      "metadata": {
        "colab": {
          "base_uri": "https://localhost:8080/",
          "height": 204
        },
        "id": "sdifJoIw9RrI",
        "outputId": "f82f9063-33dc-4c61-f54e-16fb4fbbd35d"
      },
      "source": [
        "data = {'name': scores_df.names.to_list(), 'economic':econ, 'social':socio, 'culture':cul, 'health': heal}\n",
        "cluster_df = pd.DataFrame(data)\n",
        "cluster_df.head(5)"
      ],
      "execution_count": 78,
      "outputs": [
        {
          "output_type": "execute_result",
          "data": {
            "text/html": [
              "<div>\n",
              "<style scoped>\n",
              "    .dataframe tbody tr th:only-of-type {\n",
              "        vertical-align: middle;\n",
              "    }\n",
              "\n",
              "    .dataframe tbody tr th {\n",
              "        vertical-align: top;\n",
              "    }\n",
              "\n",
              "    .dataframe thead th {\n",
              "        text-align: right;\n",
              "    }\n",
              "</style>\n",
              "<table border=\"1\" class=\"dataframe\">\n",
              "  <thead>\n",
              "    <tr style=\"text-align: right;\">\n",
              "      <th></th>\n",
              "      <th>name</th>\n",
              "      <th>economic</th>\n",
              "      <th>social</th>\n",
              "      <th>culture</th>\n",
              "      <th>health</th>\n",
              "    </tr>\n",
              "  </thead>\n",
              "  <tbody>\n",
              "    <tr>\n",
              "      <th>0</th>\n",
              "      <td>MasArdy55351211</td>\n",
              "      <td>1</td>\n",
              "      <td>1</td>\n",
              "      <td>0</td>\n",
              "      <td>0</td>\n",
              "    </tr>\n",
              "    <tr>\n",
              "      <th>1</th>\n",
              "      <td>Roy_Ritonga</td>\n",
              "      <td>1</td>\n",
              "      <td>1</td>\n",
              "      <td>0</td>\n",
              "      <td>0</td>\n",
              "    </tr>\n",
              "    <tr>\n",
              "      <th>2</th>\n",
              "      <td>zahrafryna</td>\n",
              "      <td>1</td>\n",
              "      <td>1</td>\n",
              "      <td>0</td>\n",
              "      <td>0</td>\n",
              "    </tr>\n",
              "    <tr>\n",
              "      <th>3</th>\n",
              "      <td>p3kcpns</td>\n",
              "      <td>1</td>\n",
              "      <td>1</td>\n",
              "      <td>0</td>\n",
              "      <td>0</td>\n",
              "    </tr>\n",
              "    <tr>\n",
              "      <th>4</th>\n",
              "      <td>gue_widagdo</td>\n",
              "      <td>1</td>\n",
              "      <td>1</td>\n",
              "      <td>0</td>\n",
              "      <td>0</td>\n",
              "    </tr>\n",
              "  </tbody>\n",
              "</table>\n",
              "</div>"
            ],
            "text/plain": [
              "              name  economic  social  culture  health\n",
              "0  MasArdy55351211         1       1        0       0\n",
              "1      Roy_Ritonga         1       1        0       0\n",
              "2       zahrafryna         1       1        0       0\n",
              "3          p3kcpns         1       1        0       0\n",
              "4      gue_widagdo         1       1        0       0"
            ]
          },
          "metadata": {
            "tags": []
          },
          "execution_count": 78
        }
      ]
    },
    {
      "cell_type": "code",
      "metadata": {
        "id": "xcSoBfAt9RrI"
      },
      "source": [
        "a =  cluster_df[['economic', 'social', 'culture', 'health']].sum(axis = 1) > 1\n",
        "c = cluster_df[['economic', 'social', 'culture', 'health']].sum(axis = 1)\n",
        "# b = cluster_df.copy()\n",
        "cluster_df.loc[(a), ['economic','social', 'culture', 'health']] = 1/c"
      ],
      "execution_count": 79,
      "outputs": []
    },
    {
      "cell_type": "code",
      "metadata": {
        "colab": {
          "base_uri": "https://localhost:8080/"
        },
        "id": "mBwjA4Ha9RrI",
        "outputId": "c4ec4db4-74ca-47c8-bc82-ad4889055036"
      },
      "source": [
        "cluster_df.shape"
      ],
      "execution_count": 80,
      "outputs": [
        {
          "output_type": "execute_result",
          "data": {
            "text/plain": [
              "(219, 5)"
            ]
          },
          "metadata": {
            "tags": []
          },
          "execution_count": 80
        }
      ]
    },
    {
      "cell_type": "markdown",
      "metadata": {
        "id": "hEHHvhBF9RrI"
      },
      "source": [
        "### Clustered DF"
      ]
    },
    {
      "cell_type": "code",
      "metadata": {
        "colab": {
          "base_uri": "https://localhost:8080/",
          "height": 252
        },
        "id": "Wzu119a79RrI",
        "outputId": "b9c2b287-6fb4-4f1d-a21d-e824ea3ec5d0"
      },
      "source": [
        "pivot_clusters = cluster_df.groupby(['name']).sum()\n",
        "pivot_clusters['economic'] = pivot_clusters['economic'].astype(int)\n",
        "pivot_clusters['social'] = pivot_clusters['social'].astype(int)\n",
        "pivot_clusters['culture'] = pivot_clusters['culture'].astype(int)\n",
        "pivot_clusters['health'] = pivot_clusters['health'].astype(int)\n",
        "pivot_clusters['total'] = pivot_clusters['health'] + pivot_clusters['culture'] + pivot_clusters['social'] +  pivot_clusters['economic']\n",
        "pivot_clusters.loc[\"Total\"] = pivot_clusters.sum()  #add a totals row\n",
        "print(pivot_clusters.shape)\n",
        "pivot_clusters.tail()"
      ],
      "execution_count": 135,
      "outputs": [
        {
          "output_type": "stream",
          "text": [
            "(130, 5)\n"
          ],
          "name": "stdout"
        },
        {
          "output_type": "execute_result",
          "data": {
            "text/html": [
              "<div>\n",
              "<style scoped>\n",
              "    .dataframe tbody tr th:only-of-type {\n",
              "        vertical-align: middle;\n",
              "    }\n",
              "\n",
              "    .dataframe tbody tr th {\n",
              "        vertical-align: top;\n",
              "    }\n",
              "\n",
              "    .dataframe thead th {\n",
              "        text-align: right;\n",
              "    }\n",
              "</style>\n",
              "<table border=\"1\" class=\"dataframe\">\n",
              "  <thead>\n",
              "    <tr style=\"text-align: right;\">\n",
              "      <th></th>\n",
              "      <th>economic</th>\n",
              "      <th>social</th>\n",
              "      <th>culture</th>\n",
              "      <th>health</th>\n",
              "      <th>total</th>\n",
              "    </tr>\n",
              "    <tr>\n",
              "      <th>name</th>\n",
              "      <th></th>\n",
              "      <th></th>\n",
              "      <th></th>\n",
              "      <th></th>\n",
              "      <th></th>\n",
              "    </tr>\n",
              "  </thead>\n",
              "  <tbody>\n",
              "    <tr>\n",
              "      <th>updatecpns_com</th>\n",
              "      <td>3</td>\n",
              "      <td>3</td>\n",
              "      <td>3</td>\n",
              "      <td>3</td>\n",
              "      <td>12</td>\n",
              "    </tr>\n",
              "    <tr>\n",
              "      <th>wattabi_</th>\n",
              "      <td>1</td>\n",
              "      <td>1</td>\n",
              "      <td>1</td>\n",
              "      <td>1</td>\n",
              "      <td>4</td>\n",
              "    </tr>\n",
              "    <tr>\n",
              "      <th>yonikaps</th>\n",
              "      <td>1</td>\n",
              "      <td>1</td>\n",
              "      <td>1</td>\n",
              "      <td>1</td>\n",
              "      <td>4</td>\n",
              "    </tr>\n",
              "    <tr>\n",
              "      <th>zahrafryna</th>\n",
              "      <td>0</td>\n",
              "      <td>0</td>\n",
              "      <td>0</td>\n",
              "      <td>0</td>\n",
              "      <td>0</td>\n",
              "    </tr>\n",
              "    <tr>\n",
              "      <th>Total</th>\n",
              "      <td>71</td>\n",
              "      <td>70</td>\n",
              "      <td>70</td>\n",
              "      <td>71</td>\n",
              "      <td>282</td>\n",
              "    </tr>\n",
              "  </tbody>\n",
              "</table>\n",
              "</div>"
            ],
            "text/plain": [
              "                economic  social  culture  health  total\n",
              "name                                                    \n",
              "updatecpns_com         3       3        3       3     12\n",
              "wattabi_               1       1        1       1      4\n",
              "yonikaps               1       1        1       1      4\n",
              "zahrafryna             0       0        0       0      0\n",
              "Total                 71      70       70      71    282"
            ]
          },
          "metadata": {
            "tags": []
          },
          "execution_count": 135
        }
      ]
    },
    {
      "cell_type": "markdown",
      "metadata": {
        "id": "_5ENKEuP9RrI"
      },
      "source": [
        "#### Visualisations"
      ]
    },
    {
      "cell_type": "code",
      "metadata": {
        "colab": {
          "base_uri": "https://localhost:8080/",
          "height": 427
        },
        "id": "MKt_jeOx9RrI",
        "outputId": "d851dd26-c52f-4a42-cc55-052b46131b76"
      },
      "source": [
        "\n",
        "fig = plt.figure(figsize =(10, 7)) \n",
        "a = pivot_clusters.drop(['total'], axis = 1)\n",
        "plt.pie(a.loc['Total'], labels = a.columns)\n",
        "plt.title('Visualisasi 4 kategori yang berbeda')\n",
        "plt.show() "
      ],
      "execution_count": 137,
      "outputs": [
        {
          "output_type": "display_data",
          "data": {
            "image/png": "[encoded data removed]",
            "text/plain": [
              "<Figure size 720x504 with 1 Axes>"
            ]
          },
          "metadata": {
            "tags": []
          }
        }
      ]
    },
    {
      "cell_type": "code",
      "metadata": {
        "id": "Gbvd1bd69RrJ",
        "colab": {
          "base_uri": "https://localhost:8080/",
          "height": 786
        },
        "outputId": "99152c83-923f-4efc-ab91-9fc0a3a7ce5b"
      },
      "source": [
        "\n",
        "d = pivot_clusters.sort_values(by = 'total', ascending  = False)\n",
        "e = d.head(12)\n",
        "e.drop(e.head(2).index, inplace=True)\n",
        "\n",
        "plt.figure(figsize=(12,10))\n",
        "sns.barplot(x = e.index, y = e.total)\n",
        "plt.title('Plot yang menampilkan tweet teratas berdasarkan volume tweet')\n",
        "plt.xticks(rotation=45)\n",
        "plt.xlabel('screen names')\n",
        "plt.ylabel('total tweets')"
      ],
      "execution_count": 139,
      "outputs": [
        {
          "output_type": "stream",
          "text": [
            "/usr/local/lib/python3.6/dist-packages/pandas/core/frame.py:4174: SettingWithCopyWarning: \n",
            "A value is trying to be set on a copy of a slice from a DataFrame\n",
            "\n",
            "See the caveats in the documentation: https://pandas.pydata.org/pandas-docs/stable/user_guide/indexing.html#returning-a-view-versus-a-copy\n",
            "  errors=errors,\n"
          ],
          "name": "stderr"
        },
        {
          "output_type": "execute_result",
          "data": {
            "text/plain": [
              "Text(0, 0.5, 'total tweets')"
            ]
          },
          "metadata": {
            "tags": []
          },
          "execution_count": 139
        },
        {
          "output_type": "display_data",
          "data": {
            "image/png": "[encoded data removed]",
            "text/plain": [
              "<Figure size 864x720 with 1 Axes>"
            ]
          },
          "metadata": {
            "tags": [],
            "needs_background": "light"
          }
        }
      ]
    },
    {
      "cell_type": "code",
      "metadata": {
        "id": "CvvWJIeb9RrJ",
        "colab": {
          "base_uri": "https://localhost:8080/",
          "height": 786
        },
        "outputId": "67aeb604-9ad5-4339-d465-404dcf3c6c83"
      },
      "source": [
        "d = pivot_clusters.sort_values(by = 'economic', ascending  = False)\n",
        "e = d.head(11)\n",
        "e.drop(e.head(1).index, inplace=True)\n",
        "\n",
        "plt.figure(figsize=(12,10))\n",
        "sns.barplot(x = e.index, y = e.economic)\n",
        "plt.title('Plot yang menampilkan tweet teratas berdasarkan volume tweet Ekonomi')\n",
        "plt.xticks(rotation=45)\n",
        "plt.xlabel('screen names')\n",
        "plt.ylabel('Ekonomi tweet')"
      ],
      "execution_count": 143,
      "outputs": [
        {
          "output_type": "stream",
          "text": [
            "/usr/local/lib/python3.6/dist-packages/pandas/core/frame.py:4174: SettingWithCopyWarning: \n",
            "A value is trying to be set on a copy of a slice from a DataFrame\n",
            "\n",
            "See the caveats in the documentation: https://pandas.pydata.org/pandas-docs/stable/user_guide/indexing.html#returning-a-view-versus-a-copy\n",
            "  errors=errors,\n"
          ],
          "name": "stderr"
        },
        {
          "output_type": "execute_result",
          "data": {
            "text/plain": [
              "Text(0, 0.5, 'Ekonomi tweet')"
            ]
          },
          "metadata": {
            "tags": []
          },
          "execution_count": 143
        },
        {
          "output_type": "display_data",
          "data": {
            "image/png": "[encoded data removed]",
            "text/plain": [
              "<Figure size 864x720 with 1 Axes>"
            ]
          },
          "metadata": {
            "tags": [],
            "needs_background": "light"
          }
        }
      ]
    },
    {
      "cell_type": "code",
      "metadata": {
        "id": "NLOpTqQw9RrJ",
        "colab": {
          "base_uri": "https://localhost:8080/",
          "height": 786
        },
        "outputId": "53d3c3d5-6ef1-4537-d82f-79342c0dc952"
      },
      "source": [
        "\n",
        "d = pivot_clusters.sort_values(by = 'social', ascending  = False)\n",
        "e = d.head(12)\n",
        "e.drop(e.head(2).index, inplace=True)\n",
        "\n",
        "\n",
        "plt.figure(figsize=(12,10))\n",
        "sns.barplot(x = e.index, y = e.social)\n",
        "plt.title('Plot yang menampilkan tweet teratas berdasarkan volume tweet Sosial')\n",
        "plt.xticks(rotation=45)\n",
        "plt.xlabel('screen names')\n",
        "plt.ylabel('social tweets')"
      ],
      "execution_count": 144,
      "outputs": [
        {
          "output_type": "stream",
          "text": [
            "/usr/local/lib/python3.6/dist-packages/pandas/core/frame.py:4174: SettingWithCopyWarning: \n",
            "A value is trying to be set on a copy of a slice from a DataFrame\n",
            "\n",
            "See the caveats in the documentation: https://pandas.pydata.org/pandas-docs/stable/user_guide/indexing.html#returning-a-view-versus-a-copy\n",
            "  errors=errors,\n"
          ],
          "name": "stderr"
        },
        {
          "output_type": "execute_result",
          "data": {
            "text/plain": [
              "Text(0, 0.5, 'social tweets')"
            ]
          },
          "metadata": {
            "tags": []
          },
          "execution_count": 144
        },
        {
          "output_type": "display_data",
          "data": {
            "image/png": "[encoded data removed]",
            "text/plain": [
              "<Figure size 864x720 with 1 Axes>"
            ]
          },
          "metadata": {
            "tags": [],
            "needs_background": "light"
          }
        }
      ]
    },
    {
      "cell_type": "code",
      "metadata": {
        "id": "0cFjQWk_9RrJ",
        "colab": {
          "base_uri": "https://localhost:8080/",
          "height": 786
        },
        "outputId": "468cac33-65a5-44a0-9768-72ac3e9ce1c4"
      },
      "source": [
        "\n",
        "d = pivot_clusters.sort_values(by = 'culture', ascending  = False)\n",
        "e = d.head(11)\n",
        "e.drop(e.head(1).index, inplace=True)\n",
        "\n",
        "\n",
        "plt.figure(figsize=(12,10))\n",
        "sns.barplot(x = e.index, y = e.culture)\n",
        "plt.title('Plot yang menampilkan tweet teratas berdasarkan volume tweet Budaya')\n",
        "plt.xticks(rotation=45)\n",
        "plt.xlabel('screen names')\n",
        "plt.ylabel('culture tweets')"
      ],
      "execution_count": 145,
      "outputs": [
        {
          "output_type": "stream",
          "text": [
            "/usr/local/lib/python3.6/dist-packages/pandas/core/frame.py:4174: SettingWithCopyWarning: \n",
            "A value is trying to be set on a copy of a slice from a DataFrame\n",
            "\n",
            "See the caveats in the documentation: https://pandas.pydata.org/pandas-docs/stable/user_guide/indexing.html#returning-a-view-versus-a-copy\n",
            "  errors=errors,\n"
          ],
          "name": "stderr"
        },
        {
          "output_type": "execute_result",
          "data": {
            "text/plain": [
              "Text(0, 0.5, 'culture tweets')"
            ]
          },
          "metadata": {
            "tags": []
          },
          "execution_count": 145
        },
        {
          "output_type": "display_data",
          "data": {
            "image/png": "[encoded data removed]",
            "text/plain": [
              "<Figure size 864x720 with 1 Axes>"
            ]
          },
          "metadata": {
            "tags": [],
            "needs_background": "light"
          }
        }
      ]
    },
    {
      "cell_type": "code",
      "metadata": {
        "id": "7ABdGVc59RrJ",
        "colab": {
          "base_uri": "https://localhost:8080/",
          "height": 786
        },
        "outputId": "a3151daf-5a59-4bac-ad31-ce47ecf19521"
      },
      "source": [
        "\n",
        "d = pivot_clusters.sort_values(by = 'health', ascending  = False)\n",
        "e = d.head(12)\n",
        "e.drop(e.head(2).index, inplace=True)\n",
        "\n",
        "\n",
        "plt.figure(figsize=(12,10))\n",
        "sns.barplot(x = e.index, y = e.health)\n",
        "plt.title('Plot yang menampilkan tweet teratas berdasarkan volume tweet Kesehatan')\n",
        "plt.xticks(rotation=45)\n",
        "plt.xlabel('screen names')\n",
        "plt.ylabel('health tweets')"
      ],
      "execution_count": 146,
      "outputs": [
        {
          "output_type": "stream",
          "text": [
            "/usr/local/lib/python3.6/dist-packages/pandas/core/frame.py:4174: SettingWithCopyWarning: \n",
            "A value is trying to be set on a copy of a slice from a DataFrame\n",
            "\n",
            "See the caveats in the documentation: https://pandas.pydata.org/pandas-docs/stable/user_guide/indexing.html#returning-a-view-versus-a-copy\n",
            "  errors=errors,\n"
          ],
          "name": "stderr"
        },
        {
          "output_type": "execute_result",
          "data": {
            "text/plain": [
              "Text(0, 0.5, 'health tweets')"
            ]
          },
          "metadata": {
            "tags": []
          },
          "execution_count": 146
        },
        {
          "output_type": "display_data",
          "data": {
            "image/png": "[encoded data removed]",
            "text/plain": [
              "<Figure size 864x720 with 1 Axes>"
            ]
          },
          "metadata": {
            "tags": [],
            "needs_background": "light"
          }
        }
      ]
    },
    {
      "cell_type": "markdown",
      "metadata": {
        "id": "hYgddDGn9RrJ"
      },
      "source": [
        "#### Distribution test and skewness"
      ]
    },
    {
      "cell_type": "code",
      "metadata": {
        "id": "06YW6K6s9RrJ"
      },
      "source": [
        "from statistics import mean\n",
        "import re\n",
        "from scipy import stats\n",
        "from scipy.stats import skew, norm\n",
        "from scipy.special import boxcox1p\n",
        "from scipy.stats import boxcox_normmax\n",
        "from sklearn.preprocessing import StandardScaler\n"
      ],
      "execution_count": 147,
      "outputs": []
    },
    {
      "cell_type": "code",
      "metadata": {
        "id": "jQ8_aZYQ9RrJ",
        "colab": {
          "base_uri": "https://localhost:8080/"
        },
        "outputId": "2179a838-ccad-4791-d954-295ba467f679"
      },
      "source": [
        "# drop the totals row.\n",
        "print(pivot_clusters.shape)\n",
        "pivot_clusters.drop(pivot_clusters.tail(1).index,inplace=True)\n",
        "print(pivot_clusters.shape)"
      ],
      "execution_count": 148,
      "outputs": [
        {
          "output_type": "stream",
          "text": [
            "(130, 5)\n",
            "(129, 5)\n"
          ],
          "name": "stdout"
        }
      ]
    },
    {
      "cell_type": "code",
      "metadata": {
        "id": "6p6rA3yj9RrJ",
        "colab": {
          "base_uri": "https://localhost:8080/",
          "height": 678
        },
        "outputId": "47c9024b-daf7-462e-f3a7-63dd7c4721bb"
      },
      "source": [
        "# Target variable\n",
        "sns.distplot(pivot_clusters.economic , fit=norm);\n",
        "\n",
        "# Get the fitted parameters used by the function\n",
        "(mu, sigma) = norm.fit(pivot_clusters.economic)\n",
        "print( '\\n mu = {:.2f} and sigma = {:.2f}\\n'.format(mu, sigma))\n",
        "\n",
        "#Now plot the distribution\n",
        "plt.title('Ecocnomy tweets distribution plot')\n",
        "plt.legend(['Normal dist. ($\\mu=$ {:.2f} and $\\sigma=$ {:.2f} )'.format(mu, sigma)],\n",
        "            loc='best')\n",
        "plt.ylabel('Frequency')\n",
        "plt.title('y distribution')\n",
        "\n",
        "#Get also the QQ-plot\n",
        "fig = plt.figure()\n",
        "res = stats.probplot(pivot_clusters.economic, plot=plt)\n",
        "plt.show()\n"
      ],
      "execution_count": 149,
      "outputs": [
        {
          "output_type": "stream",
          "text": [
            "/usr/local/lib/python3.6/dist-packages/seaborn/distributions.py:2551: FutureWarning: `distplot` is a deprecated function and will be removed in a future version. Please adapt your code to use either `displot` (a figure-level function with similar flexibility) or `histplot` (an axes-level function for histograms).\n",
            "  warnings.warn(msg, FutureWarning)\n"
          ],
          "name": "stderr"
        },
        {
          "output_type": "stream",
          "text": [
            "\n",
            " mu = 0.55 and sigma = 0.81\n",
            "\n"
          ],
          "name": "stdout"
        },
        {
          "output_type": "display_data",
          "data": {
            "image/png": "[encoded data removed]",
            "text/plain": [
              "<Figure size 432x288 with 1 Axes>"
            ]
          },
          "metadata": {
            "tags": [],
            "needs_background": "light"
          }
        },
        {
          "output_type": "display_data",
          "data": {
            "image/png": "[encoded data removed]",
            "text/plain": [
              "<Figure size 432x288 with 1 Axes>"
            ]
          },
          "metadata": {
            "tags": [],
            "needs_background": "light"
          }
        }
      ]
    },
    {
      "cell_type": "code",
      "metadata": {
        "id": "D-iZPAx19RrJ",
        "colab": {
          "base_uri": "https://localhost:8080/",
          "height": 678
        },
        "outputId": "a76c3094-c06e-43c5-ae84-23165825a0b3"
      },
      "source": [
        "# Target variable\n",
        "sns.distplot(pivot_clusters.social , fit=norm);\n",
        "\n",
        "# Get the fitted parameters used by the function\n",
        "(mu, sigma) = norm.fit(pivot_clusters.social)\n",
        "print( '\\n mu = {:.2f} and sigma = {:.2f}\\n'.format(mu, sigma))\n",
        "\n",
        "#Now plot the distribution\n",
        "plt.legend(['Normal dist. ($\\mu=$ {:.2f} and $\\sigma=$ {:.2f} )'.format(mu, sigma)],\n",
        "            loc='best')\n",
        "plt.title('Social tweets distribution plot')\n",
        "plt.ylabel('Frequency')\n",
        "plt.title('y distribution')\n",
        "\n",
        "#Get also the QQ-plot\n",
        "fig = plt.figure()\n",
        "res = stats.probplot(pivot_clusters.social, plot=plt)\n",
        "plt.show()\n"
      ],
      "execution_count": 150,
      "outputs": [
        {
          "output_type": "stream",
          "text": [
            "/usr/local/lib/python3.6/dist-packages/seaborn/distributions.py:2551: FutureWarning: `distplot` is a deprecated function and will be removed in a future version. Please adapt your code to use either `displot` (a figure-level function with similar flexibility) or `histplot` (an axes-level function for histograms).\n",
            "  warnings.warn(msg, FutureWarning)\n"
          ],
          "name": "stderr"
        },
        {
          "output_type": "stream",
          "text": [
            "\n",
            " mu = 0.54 and sigma = 0.75\n",
            "\n"
          ],
          "name": "stdout"
        },
        {
          "output_type": "display_data",
          "data": {
            "image/png": "[encoded data removed]",
            "text/plain": [
              "<Figure size 432x288 with 1 Axes>"
            ]
          },
          "metadata": {
            "tags": [],
            "needs_background": "light"
          }
        },
        {
          "output_type": "display_data",
          "data": {
            "image/png": "[encoded data removed]",
            "text/plain": [
              "<Figure size 432x288 with 1 Axes>"
            ]
          },
          "metadata": {
            "tags": [],
            "needs_background": "light"
          }
        }
      ]
    },
    {
      "cell_type": "code",
      "metadata": {
        "id": "3kZTUk2E9RrJ",
        "colab": {
          "base_uri": "https://localhost:8080/",
          "height": 678
        },
        "outputId": "1506b155-7fc3-4811-9d44-0283f7d1fa26"
      },
      "source": [
        "# Target variable\n",
        "sns.distplot(pivot_clusters.culture , fit=norm);\n",
        "\n",
        "# Get the fitted parameters used by the function\n",
        "(mu, sigma) = norm.fit(pivot_clusters.culture)\n",
        "print( '\\n mu = {:.2f} and sigma = {:.2f}\\n'.format(mu, sigma))\n",
        "\n",
        "#Now plot the distribution\n",
        "plt.legend(['Normal dist. ($\\mu=$ {:.2f} and $\\sigma=$ {:.2f} )'.format(mu, sigma)],\n",
        "            loc='best')\n",
        "plt.title('Culture tweets distribution plot')\n",
        "plt.ylabel('Frequency')\n",
        "plt.title('y distribution')\n",
        "\n",
        "#Get also the QQ-plot\n",
        "fig = plt.figure()\n",
        "res = stats.probplot(pivot_clusters.culture, plot=plt)\n",
        "plt.show()\n"
      ],
      "execution_count": 151,
      "outputs": [
        {
          "output_type": "stream",
          "text": [
            "/usr/local/lib/python3.6/dist-packages/seaborn/distributions.py:2551: FutureWarning: `distplot` is a deprecated function and will be removed in a future version. Please adapt your code to use either `displot` (a figure-level function with similar flexibility) or `histplot` (an axes-level function for histograms).\n",
            "  warnings.warn(msg, FutureWarning)\n"
          ],
          "name": "stderr"
        },
        {
          "output_type": "stream",
          "text": [
            "\n",
            " mu = 0.54 and sigma = 0.75\n",
            "\n"
          ],
          "name": "stdout"
        },
        {
          "output_type": "display_data",
          "data": {
            "image/png": "[encoded data removed]",
            "text/plain": [
              "<Figure size 432x288 with 1 Axes>"
            ]
          },
          "metadata": {
            "tags": [],
            "needs_background": "light"
          }
        },
        {
          "output_type": "display_data",
          "data": {
            "image/png": "[encoded data removed]",
            "text/plain": [
              "<Figure size 432x288 with 1 Axes>"
            ]
          },
          "metadata": {
            "tags": [],
            "needs_background": "light"
          }
        }
      ]
    },
    {
      "cell_type": "code",
      "metadata": {
        "id": "_4TJyMc49RrJ",
        "colab": {
          "base_uri": "https://localhost:8080/",
          "height": 678
        },
        "outputId": "43ffce78-a19b-41c0-f436-89fd7d5a89ee"
      },
      "source": [
        "# Target variable\n",
        "sns.distplot(pivot_clusters.health , fit=norm);\n",
        "\n",
        "# Get the fitted parameters used by the function\n",
        "(mu, sigma) = norm.fit(pivot_clusters.health)\n",
        "print( '\\n mu = {:.2f} and sigma = {:.2f}\\n'.format(mu, sigma))\n",
        "\n",
        "#Now plot the distribution\n",
        "plt.legend(['Normal dist. ($\\mu=$ {:.2f} and $\\sigma=$ {:.2f} )'.format(mu, sigma)],\n",
        "            loc='best')\n",
        "plt.title('Health tweets distribution plot')\n",
        "plt.ylabel('Frequency')\n",
        "plt.title('y distribution')\n",
        "\n",
        "#Get also the QQ-plot\n",
        "fig = plt.figure()\n",
        "res = stats.probplot(pivot_clusters.health, plot=plt)\n",
        "plt.show()\n"
      ],
      "execution_count": 152,
      "outputs": [
        {
          "output_type": "stream",
          "text": [
            "/usr/local/lib/python3.6/dist-packages/seaborn/distributions.py:2551: FutureWarning: `distplot` is a deprecated function and will be removed in a future version. Please adapt your code to use either `displot` (a figure-level function with similar flexibility) or `histplot` (an axes-level function for histograms).\n",
            "  warnings.warn(msg, FutureWarning)\n"
          ],
          "name": "stderr"
        },
        {
          "output_type": "stream",
          "text": [
            "\n",
            " mu = 0.55 and sigma = 0.81\n",
            "\n"
          ],
          "name": "stdout"
        },
        {
          "output_type": "display_data",
          "data": {
            "image/png": "[encoded data removed]",
            "text/plain": [
              "<Figure size 432x288 with 1 Axes>"
            ]
          },
          "metadata": {
            "tags": [],
            "needs_background": "light"
          }
        },
        {
          "output_type": "display_data",
          "data": {
            "image/png": "[encoded data removed]",
            "text/plain": [
              "<Figure size 432x288 with 1 Axes>"
            ]
          },
          "metadata": {
            "tags": [],
            "needs_background": "light"
          }
        }
      ]
    },
    {
      "cell_type": "markdown",
      "metadata": {
        "id": "36jsGlpm9RrJ"
      },
      "source": [
        "##  KMeans Clustering."
      ]
    },
    {
      "cell_type": "code",
      "metadata": {
        "id": "QBO8VvcP9RrJ"
      },
      "source": [
        "from sklearn.cluster import KMeans\n"
      ],
      "execution_count": 153,
      "outputs": []
    },
    {
      "cell_type": "markdown",
      "metadata": {
        "id": "6yToUExu9RrJ"
      },
      "source": [
        "### 2D Clusters."
      ]
    },
    {
      "cell_type": "markdown",
      "metadata": {
        "id": "rik-LJux9RrJ"
      },
      "source": [
        "#### * Socio-Economic"
      ]
    },
    {
      "cell_type": "code",
      "metadata": {
        "id": "LtILo6IO9RrJ",
        "colab": {
          "base_uri": "https://localhost:8080/",
          "height": 485
        },
        "outputId": "876ee994-9009-4649-ab3e-77c6eaef4573"
      },
      "source": [
        "# X = pivot_clusters.iloc[:, [0,1]].values\n",
        "X = pivot_clusters[['economic', 'social']].values\n",
        "\n",
        "# Elbow Method\n",
        "from sklearn.cluster import KMeans\n",
        "wcss = []\n",
        "for i in range(1, 11):\n",
        "    kmeans = KMeans(n_clusters=i, init='k-means++', n_init=10, max_iter=300, random_state=0)\n",
        "    kmeans.fit(X)\n",
        "    wcss.append(kmeans.inertia_)\n",
        "plt.plot(range(1,11), wcss)\n",
        "plt.title('Elbow Method')\n",
        "plt.xlabel('Number of Clusters')\n",
        "plt.ylabel('wcss')\n",
        "plt.show()"
      ],
      "execution_count": 96,
      "outputs": [
        {
          "output_type": "stream",
          "text": [
            "/usr/local/lib/python3.6/dist-packages/ipykernel_launcher.py:9: ConvergenceWarning: Number of distinct clusters (5) found smaller than n_clusters (6). Possibly due to duplicate points in X.\n",
            "  if __name__ == '__main__':\n",
            "/usr/local/lib/python3.6/dist-packages/ipykernel_launcher.py:9: ConvergenceWarning: Number of distinct clusters (5) found smaller than n_clusters (7). Possibly due to duplicate points in X.\n",
            "  if __name__ == '__main__':\n",
            "/usr/local/lib/python3.6/dist-packages/ipykernel_launcher.py:9: ConvergenceWarning: Number of distinct clusters (5) found smaller than n_clusters (8). Possibly due to duplicate points in X.\n",
            "  if __name__ == '__main__':\n",
            "/usr/local/lib/python3.6/dist-packages/ipykernel_launcher.py:9: ConvergenceWarning: Number of distinct clusters (5) found smaller than n_clusters (9). Possibly due to duplicate points in X.\n",
            "  if __name__ == '__main__':\n",
            "/usr/local/lib/python3.6/dist-packages/ipykernel_launcher.py:9: ConvergenceWarning: Number of distinct clusters (5) found smaller than n_clusters (10). Possibly due to duplicate points in X.\n",
            "  if __name__ == '__main__':\n"
          ],
          "name": "stderr"
        },
        {
          "output_type": "display_data",
          "data": {
            "image/png": "[encoded data removed]",
            "text/plain": [
              "<Figure size 432x288 with 1 Axes>"
            ]
          },
          "metadata": {
            "tags": [],
            "needs_background": "light"
          }
        }
      ]
    },
    {
      "cell_type": "code",
      "metadata": {
        "id": "i8gWNkoE9RrJ",
        "colab": {
          "base_uri": "https://localhost:8080/",
          "height": 295
        },
        "outputId": "015bb2d2-c62f-4323-cb9f-47abcd794e30"
      },
      "source": [
        "# fitting kmeans to dataset\n",
        "kmeans = KMeans(n_clusters=3, init='k-means++', n_init=10, max_iter=300, random_state=0)\n",
        "Y_kmeans = kmeans.fit_predict(X)\n",
        "\n",
        "# Visualising the clusters\n",
        "plt.scatter(X[Y_kmeans==0, 0], X[Y_kmeans==0, 1], s=100, c='violet', label= 'Cluster 1')\n",
        "plt.scatter(X[Y_kmeans==1, 0], X[Y_kmeans==1, 1], s=100, c='cyan', label= 'Cluster 2')\n",
        "plt.scatter(X[Y_kmeans==2, 0], X[Y_kmeans==2, 1], s=100, c='green', label= 'Cluster 3')\n",
        "# plt.scatter(X[Y_kmeans==3, 0], X[Y_kmeans==3, 1], s=100, c='blue', label= 'Cluster 4')\n",
        "# plt.scatter(X[Y_kmeans==4, 0], X[Y_kmeans==4, 1], s=100, c='magenta', label= 'Cluster 5')\n",
        "plt.scatter(kmeans.cluster_centers_[:, 0], kmeans.cluster_centers_[:, 1], s=100, c='black', label='Centroids' )\n",
        "plt.title('Clusters of tweets in economic and social groups')\n",
        "plt.xlabel('economic tweets')\n",
        "plt.ylabel('social tweets')\n",
        "plt.legend()\n",
        "plt.show()"
      ],
      "execution_count": 97,
      "outputs": [
        {
          "output_type": "display_data",
          "data": {
            "image/png": "[encoded data removed]",
            "text/plain": [
              "<Figure size 432x288 with 1 Axes>"
            ]
          },
          "metadata": {
            "tags": [],
            "needs_background": "light"
          }
        }
      ]
    },
    {
      "cell_type": "markdown",
      "metadata": {
        "id": "n2MtV7sw9RrK"
      },
      "source": [
        "#### * Socio-Culture"
      ]
    },
    {
      "cell_type": "code",
      "metadata": {
        "id": "9aaaijh99RrK",
        "colab": {
          "base_uri": "https://localhost:8080/",
          "height": 485
        },
        "outputId": "aff5ccf1-d93a-4544-e73b-c06b4befeb52"
      },
      "source": [
        "# X = pivot_clusters.iloc[:, [2,3]].values\n",
        "X = pivot_clusters[['social', 'culture']].values\n",
        "\n",
        "# Elbow Method\n",
        "from sklearn.cluster import KMeans\n",
        "wcss = []\n",
        "for i in range(1, 11):\n",
        "    kmeans = KMeans(n_clusters=i, init='k-means++', n_init=10, max_iter=300, random_state=0)\n",
        "    kmeans.fit(X)\n",
        "    wcss.append(kmeans.inertia_)\n",
        "plt.plot(range(1,11), wcss)\n",
        "plt.title('Elbow Method')\n",
        "plt.xlabel('Number of Clusters')\n",
        "plt.ylabel('wcss')\n",
        "plt.show()"
      ],
      "execution_count": 98,
      "outputs": [
        {
          "output_type": "stream",
          "text": [
            "/usr/local/lib/python3.6/dist-packages/ipykernel_launcher.py:9: ConvergenceWarning: Number of distinct clusters (5) found smaller than n_clusters (6). Possibly due to duplicate points in X.\n",
            "  if __name__ == '__main__':\n",
            "/usr/local/lib/python3.6/dist-packages/ipykernel_launcher.py:9: ConvergenceWarning: Number of distinct clusters (5) found smaller than n_clusters (7). Possibly due to duplicate points in X.\n",
            "  if __name__ == '__main__':\n",
            "/usr/local/lib/python3.6/dist-packages/ipykernel_launcher.py:9: ConvergenceWarning: Number of distinct clusters (5) found smaller than n_clusters (8). Possibly due to duplicate points in X.\n",
            "  if __name__ == '__main__':\n",
            "/usr/local/lib/python3.6/dist-packages/ipykernel_launcher.py:9: ConvergenceWarning: Number of distinct clusters (5) found smaller than n_clusters (9). Possibly due to duplicate points in X.\n",
            "  if __name__ == '__main__':\n",
            "/usr/local/lib/python3.6/dist-packages/ipykernel_launcher.py:9: ConvergenceWarning: Number of distinct clusters (5) found smaller than n_clusters (10). Possibly due to duplicate points in X.\n",
            "  if __name__ == '__main__':\n"
          ],
          "name": "stderr"
        },
        {
          "output_type": "display_data",
          "data": {
            "image/png": "[encoded data removed]",
            "text/plain": [
              "<Figure size 432x288 with 1 Axes>"
            ]
          },
          "metadata": {
            "tags": [],
            "needs_background": "light"
          }
        }
      ]
    },
    {
      "cell_type": "code",
      "metadata": {
        "id": "enV0LsIA9RrK",
        "colab": {
          "base_uri": "https://localhost:8080/",
          "height": 295
        },
        "outputId": "a56b5a85-6d49-45c2-ea08-85114a731127"
      },
      "source": [
        "# fitting kmeans to dataset\n",
        "kmeans = KMeans(n_clusters=3, init='k-means++', n_init=10, max_iter=300, random_state=0)\n",
        "Y_kmeans = kmeans.fit_predict(X)\n",
        "\n",
        "# Visualising the clusters\n",
        "plt.scatter(X[Y_kmeans==0, 0], X[Y_kmeans==0, 1], s=100, c='violet', label= 'Cluster 1')\n",
        "plt.scatter(X[Y_kmeans==1, 0], X[Y_kmeans==1, 1], s=100, c='cyan', label= 'Cluster 2')\n",
        "plt.scatter(X[Y_kmeans==2, 0], X[Y_kmeans==2, 1], s=100, c='green', label= 'Cluster 3')\n",
        "# plt.scatter(X[Y_kmeans==3, 0], X[Y_kmeans==3, 1], s=100, c='blue', label= 'Cluster 4')\n",
        "# plt.scatter(X[Y_kmeans==4, 0], X[Y_kmeans==4, 1], s=100, c='magenta', label= 'Cluster 5')\n",
        "# plt.scatter(X[Y_kmeans==5, 0], X[Y_kmeans==5, 1], s=100, c='pink', label= 'Cluster 6')\n",
        "\n",
        "plt.scatter(kmeans.cluster_centers_[:, 0], kmeans.cluster_centers_[:, 1], s=100, c='black', label='Centroids' )\n",
        "plt.title('Clusters of tweets in culture and social groups')\n",
        "plt.xlabel('social tweets')\n",
        "plt.ylabel('culture tweets')\n",
        "plt.legend()\n",
        "plt.show()"
      ],
      "execution_count": 99,
      "outputs": [
        {
          "output_type": "display_data",
          "data": {
            "image/png": "[encoded data removed]",
            "text/plain": [
              "<Figure size 432x288 with 1 Axes>"
            ]
          },
          "metadata": {
            "tags": [],
            "needs_background": "light"
          }
        }
      ]
    },
    {
      "cell_type": "markdown",
      "metadata": {
        "id": "mflEzBAu9RrK"
      },
      "source": [
        "#### * Socio-Health"
      ]
    },
    {
      "cell_type": "code",
      "metadata": {
        "id": "Vv8vvWqO9RrK",
        "colab": {
          "base_uri": "https://localhost:8080/",
          "height": 485
        },
        "outputId": "fe80ca12-0dc3-4563-bc0e-60ef1a0f05f8"
      },
      "source": [
        "# X = pivot_clusters.iloc[:, [2,4]].values\n",
        "X = pivot_clusters[['social', 'health']].values\n",
        "\n",
        "# Elbow Method\n",
        "from sklearn.cluster import KMeans\n",
        "wcss = []\n",
        "for i in range(1, 11):\n",
        "    kmeans = KMeans(n_clusters=i, init='k-means++', n_init=10, max_iter=300, random_state=0)\n",
        "    kmeans.fit(X)\n",
        "    wcss.append(kmeans.inertia_)\n",
        "plt.plot(range(1,11), wcss)\n",
        "plt.title('Elbow Method')\n",
        "plt.xlabel('Number of Clusters')\n",
        "plt.ylabel('wcss')\n",
        "plt.show()\n"
      ],
      "execution_count": 100,
      "outputs": [
        {
          "output_type": "stream",
          "text": [
            "/usr/local/lib/python3.6/dist-packages/ipykernel_launcher.py:9: ConvergenceWarning: Number of distinct clusters (5) found smaller than n_clusters (6). Possibly due to duplicate points in X.\n",
            "  if __name__ == '__main__':\n",
            "/usr/local/lib/python3.6/dist-packages/ipykernel_launcher.py:9: ConvergenceWarning: Number of distinct clusters (5) found smaller than n_clusters (7). Possibly due to duplicate points in X.\n",
            "  if __name__ == '__main__':\n",
            "/usr/local/lib/python3.6/dist-packages/ipykernel_launcher.py:9: ConvergenceWarning: Number of distinct clusters (5) found smaller than n_clusters (8). Possibly due to duplicate points in X.\n",
            "  if __name__ == '__main__':\n",
            "/usr/local/lib/python3.6/dist-packages/ipykernel_launcher.py:9: ConvergenceWarning: Number of distinct clusters (5) found smaller than n_clusters (9). Possibly due to duplicate points in X.\n",
            "  if __name__ == '__main__':\n",
            "/usr/local/lib/python3.6/dist-packages/ipykernel_launcher.py:9: ConvergenceWarning: Number of distinct clusters (5) found smaller than n_clusters (10). Possibly due to duplicate points in X.\n",
            "  if __name__ == '__main__':\n"
          ],
          "name": "stderr"
        },
        {
          "output_type": "display_data",
          "data": {
            "image/png": "[encoded data removed]",
            "text/plain": [
              "<Figure size 432x288 with 1 Axes>"
            ]
          },
          "metadata": {
            "tags": [],
            "needs_background": "light"
          }
        }
      ]
    },
    {
      "cell_type": "code",
      "metadata": {
        "id": "mDACj4il9RrK",
        "colab": {
          "base_uri": "https://localhost:8080/",
          "height": 295
        },
        "outputId": "6fd21c3f-dbee-4480-9ef1-5bfba763e357"
      },
      "source": [
        "# fitting kmeans to dataset\n",
        "kmeans = KMeans(n_clusters=3, init='k-means++', n_init=10, max_iter=300, random_state=0)\n",
        "Y_kmeans = kmeans.fit_predict(X)\n",
        "\n",
        "# Visualising the clusters\n",
        "plt.scatter(X[Y_kmeans==0, 0], X[Y_kmeans==0, 1], s=100, c='violet', label= 'Cluster 1')\n",
        "plt.scatter(X[Y_kmeans==1, 0], X[Y_kmeans==1, 1], s=100, c='cyan', label= 'Cluster 2')\n",
        "plt.scatter(X[Y_kmeans==2, 0], X[Y_kmeans==2, 1], s=100, c='green', label= 'Cluster 3')\n",
        "# plt.scatter(X[Y_kmeans==3, 0], X[Y_kmeans==3, 1], s=100, c='blue', label= 'Cluster 4')\n",
        "# plt.scatter(X[Y_kmeans==4, 0], X[Y_kmeans==4, 1], s=100, c='magenta', label= 'Cluster 5')\n",
        "plt.scatter(kmeans.cluster_centers_[:, 0], kmeans.cluster_centers_[:, 1], s=100, c='black', label='Centroids' )\n",
        "plt.title('Clusters of tweets in health and social groups')\n",
        "plt.xlabel('social tweets')\n",
        "plt.ylabel('health tweets')\n",
        "plt.legend()\n",
        "plt.show()"
      ],
      "execution_count": 101,
      "outputs": [
        {
          "output_type": "display_data",
          "data": {
            "image/png": "[encoded data removed]",
            "text/plain": [
              "<Figure size 432x288 with 1 Axes>"
            ]
          },
          "metadata": {
            "tags": [],
            "needs_background": "light"
          }
        }
      ]
    },
    {
      "cell_type": "markdown",
      "metadata": {
        "id": "Iv-ARyfL9RrK"
      },
      "source": [
        "#### * Economic-health"
      ]
    },
    {
      "cell_type": "code",
      "metadata": {
        "id": "jyxY4Bye9RrK",
        "colab": {
          "base_uri": "https://localhost:8080/",
          "height": 485
        },
        "outputId": "1d53eb25-2447-4524-e532-c6007421cbd7"
      },
      "source": [
        "# X = pivot_clusters.iloc[:, [2,4]].values\n",
        "X = pivot_clusters[['economic', 'health']].values\n",
        "\n",
        "# Elbow Method\n",
        "from sklearn.cluster import KMeans\n",
        "wcss = []\n",
        "for i in range(1, 11):\n",
        "    kmeans = KMeans(n_clusters=i, init='k-means++', n_init=10, max_iter=300, random_state=0)\n",
        "    kmeans.fit(X)\n",
        "    wcss.append(kmeans.inertia_)\n",
        "plt.plot(range(1,11), wcss)\n",
        "plt.title('Elbow Method')\n",
        "plt.xlabel('Number of Clusters')\n",
        "plt.ylabel('wcss')\n",
        "plt.show()\n"
      ],
      "execution_count": 102,
      "outputs": [
        {
          "output_type": "stream",
          "text": [
            "/usr/local/lib/python3.6/dist-packages/ipykernel_launcher.py:9: ConvergenceWarning: Number of distinct clusters (5) found smaller than n_clusters (6). Possibly due to duplicate points in X.\n",
            "  if __name__ == '__main__':\n",
            "/usr/local/lib/python3.6/dist-packages/ipykernel_launcher.py:9: ConvergenceWarning: Number of distinct clusters (5) found smaller than n_clusters (7). Possibly due to duplicate points in X.\n",
            "  if __name__ == '__main__':\n",
            "/usr/local/lib/python3.6/dist-packages/ipykernel_launcher.py:9: ConvergenceWarning: Number of distinct clusters (5) found smaller than n_clusters (8). Possibly due to duplicate points in X.\n",
            "  if __name__ == '__main__':\n",
            "/usr/local/lib/python3.6/dist-packages/ipykernel_launcher.py:9: ConvergenceWarning: Number of distinct clusters (5) found smaller than n_clusters (9). Possibly due to duplicate points in X.\n",
            "  if __name__ == '__main__':\n",
            "/usr/local/lib/python3.6/dist-packages/ipykernel_launcher.py:9: ConvergenceWarning: Number of distinct clusters (5) found smaller than n_clusters (10). Possibly due to duplicate points in X.\n",
            "  if __name__ == '__main__':\n"
          ],
          "name": "stderr"
        },
        {
          "output_type": "display_data",
          "data": {
            "image/png": "[encoded data removed]",
            "text/plain": [
              "<Figure size 432x288 with 1 Axes>"
            ]
          },
          "metadata": {
            "tags": [],
            "needs_background": "light"
          }
        }
      ]
    },
    {
      "cell_type": "code",
      "metadata": {
        "id": "o43wXzz-9RrK",
        "colab": {
          "base_uri": "https://localhost:8080/",
          "height": 295
        },
        "outputId": "bad005af-cedb-42bd-fab7-bbe921bbe31d"
      },
      "source": [
        "# fitting kmeans to dataset\n",
        "kmeans = KMeans(n_clusters=4, init='k-means++', n_init=10, max_iter=300, random_state=0)\n",
        "Y_kmeans = kmeans.fit_predict(X)\n",
        "\n",
        "# Visualising the clusters\n",
        "plt.scatter(X[Y_kmeans==0, 0], X[Y_kmeans==0, 1], s=100, c='violet', label= 'Cluster 1')\n",
        "plt.scatter(X[Y_kmeans==1, 0], X[Y_kmeans==1, 1], s=100, c='cyan', label= 'Cluster 2')\n",
        "plt.scatter(X[Y_kmeans==2, 0], X[Y_kmeans==2, 1], s=100, c='green', label= 'Cluster 3')\n",
        "plt.scatter(X[Y_kmeans==3, 0], X[Y_kmeans==3, 1], s=100, c='blue', label= 'Cluster 4')\n",
        "# plt.scatter(X[Y_kmeans==4, 0], X[Y_kmeans==4, 1], s=100, c='magenta', label= 'Cluster 5')\n",
        "# plt.scatter(X[Y_kmeans==5, 0], X[Y_kmeans==5, 1], s=100, c='pink', label= 'Cluster 6')\n",
        "# plt.scatter(X[Y_kmeans==6, 0], X[Y_kmeans==6, 1], s=100, c='yellow', label= 'Cluster 7')\n",
        "plt.scatter(kmeans.cluster_centers_[:, 0], kmeans.cluster_centers_[:, 1], s=100, c='black', label='Centroids' )\n",
        "plt.title('Clusters of tweets in economic and health groups')\n",
        "plt.xlabel('economic tweets')\n",
        "plt.ylabel('health tweets')\n",
        "plt.legend()\n",
        "plt.show()"
      ],
      "execution_count": 103,
      "outputs": [
        {
          "output_type": "display_data",
          "data": {
            "image/png": "[encoded data removed]",
            "text/plain": [
              "<Figure size 432x288 with 1 Axes>"
            ]
          },
          "metadata": {
            "tags": [],
            "needs_background": "light"
          }
        }
      ]
    },
    {
      "cell_type": "markdown",
      "metadata": {
        "id": "VOOlrRCD9RrK"
      },
      "source": [
        "####  Economic-Culture"
      ]
    },
    {
      "cell_type": "code",
      "metadata": {
        "id": "PqojUzZs9RrK",
        "colab": {
          "base_uri": "https://localhost:8080/",
          "height": 485
        },
        "outputId": "99bd0f9e-f9ac-4b34-ed68-66ad30426b5a"
      },
      "source": [
        "# X = pivot_clusters.iloc[:, [2,4]].values\n",
        "X = pivot_clusters[['economic', 'culture']].values\n",
        "\n",
        "# Elbow Method\n",
        "from sklearn.cluster import KMeans\n",
        "wcss = []\n",
        "for i in range(1, 11):\n",
        "    kmeans = KMeans(n_clusters=i, init='k-means++', n_init=10, max_iter=300, random_state=0)\n",
        "    kmeans.fit(X)\n",
        "    wcss.append(kmeans.inertia_)\n",
        "plt.plot(range(1,11), wcss)\n",
        "plt.title('Elbow Method')\n",
        "plt.xlabel('Number of Clusters')\n",
        "plt.ylabel('wcss')\n",
        "plt.show()\n"
      ],
      "execution_count": 104,
      "outputs": [
        {
          "output_type": "stream",
          "text": [
            "/usr/local/lib/python3.6/dist-packages/ipykernel_launcher.py:9: ConvergenceWarning: Number of distinct clusters (5) found smaller than n_clusters (6). Possibly due to duplicate points in X.\n",
            "  if __name__ == '__main__':\n",
            "/usr/local/lib/python3.6/dist-packages/ipykernel_launcher.py:9: ConvergenceWarning: Number of distinct clusters (5) found smaller than n_clusters (7). Possibly due to duplicate points in X.\n",
            "  if __name__ == '__main__':\n",
            "/usr/local/lib/python3.6/dist-packages/ipykernel_launcher.py:9: ConvergenceWarning: Number of distinct clusters (5) found smaller than n_clusters (8). Possibly due to duplicate points in X.\n",
            "  if __name__ == '__main__':\n",
            "/usr/local/lib/python3.6/dist-packages/ipykernel_launcher.py:9: ConvergenceWarning: Number of distinct clusters (5) found smaller than n_clusters (9). Possibly due to duplicate points in X.\n",
            "  if __name__ == '__main__':\n",
            "/usr/local/lib/python3.6/dist-packages/ipykernel_launcher.py:9: ConvergenceWarning: Number of distinct clusters (5) found smaller than n_clusters (10). Possibly due to duplicate points in X.\n",
            "  if __name__ == '__main__':\n"
          ],
          "name": "stderr"
        },
        {
          "output_type": "display_data",
          "data": {
            "image/png": "[encoded data removed]",
            "text/plain": [
              "<Figure size 432x288 with 1 Axes>"
            ]
          },
          "metadata": {
            "tags": [],
            "needs_background": "light"
          }
        }
      ]
    },
    {
      "cell_type": "code",
      "metadata": {
        "id": "LquIxcL89RrK",
        "colab": {
          "base_uri": "https://localhost:8080/",
          "height": 295
        },
        "outputId": "1c76572b-8f18-4242-adb8-4f4aef12c03a"
      },
      "source": [
        "# fitting kmeans to dataset\n",
        "kmeans = KMeans(n_clusters=4, init='k-means++', n_init=10, max_iter=300, random_state=0)\n",
        "Y_kmeans = kmeans.fit_predict(X)\n",
        "\n",
        "# Visualising the clusters\n",
        "plt.scatter(X[Y_kmeans==0, 0], X[Y_kmeans==0, 1], s=100, c='violet', label= 'Cluster 1')\n",
        "plt.scatter(X[Y_kmeans==1, 0], X[Y_kmeans==1, 1], s=100, c='cyan', label= 'Cluster 2')\n",
        "plt.scatter(X[Y_kmeans==2, 0], X[Y_kmeans==2, 1], s=100, c='green', label= 'Cluster 3')\n",
        "plt.scatter(X[Y_kmeans==3, 0], X[Y_kmeans==3, 1], s=100, c='blue', label= 'Cluster 4')\n",
        "# plt.scatter(X[Y_kmeans==4, 0], X[Y_kmeans==4, 1], s=100, c='magenta', label= 'Cluster 5')\n",
        "# plt.scatter(X[Y_kmeans==5, 0], X[Y_kmeans==5, 1], s=100, c='pink', label= 'Cluster 6')\n",
        "plt.scatter(kmeans.cluster_centers_[:, 0], kmeans.cluster_centers_[:, 1], s=100, c='black', label='Centroids' )\n",
        "plt.title('Clusters of tweets in economic and culture groups')\n",
        "plt.xlabel('economic tweets')\n",
        "plt.ylabel('culture tweets')\n",
        "plt.legend()\n",
        "plt.show()"
      ],
      "execution_count": 105,
      "outputs": [
        {
          "output_type": "display_data",
          "data": {
            "image/png": "[encoded data removed]",
            "text/plain": [
              "<Figure size 432x288 with 1 Axes>"
            ]
          },
          "metadata": {
            "tags": [],
            "needs_background": "light"
          }
        }
      ]
    },
    {
      "cell_type": "markdown",
      "metadata": {
        "id": "TxgrVfow9RrK"
      },
      "source": [
        "### Health-Culture"
      ]
    },
    {
      "cell_type": "code",
      "metadata": {
        "id": "h_9SvE5q9RrK",
        "colab": {
          "base_uri": "https://localhost:8080/",
          "height": 485
        },
        "outputId": "0dcf4726-26de-4a4e-e4b9-7344fcac7c31"
      },
      "source": [
        "# X = pivot_clusters.iloc[:, [2,4]].values\n",
        "X = pivot_clusters[['health', 'culture']].values\n",
        "\n",
        "# Elbow Method\n",
        "from sklearn.cluster import KMeans\n",
        "wcss = []\n",
        "for i in range(1, 11):\n",
        "    kmeans = KMeans(n_clusters=i, init='k-means++', n_init=10, max_iter=300, random_state=0)\n",
        "    kmeans.fit(X)\n",
        "    wcss.append(kmeans.inertia_)\n",
        "plt.plot(range(1,11), wcss)\n",
        "plt.title('Elbow Method')\n",
        "plt.xlabel('Number of Clusters')\n",
        "plt.ylabel('wcss')\n",
        "plt.show()\n"
      ],
      "execution_count": 106,
      "outputs": [
        {
          "output_type": "stream",
          "text": [
            "/usr/local/lib/python3.6/dist-packages/ipykernel_launcher.py:9: ConvergenceWarning: Number of distinct clusters (5) found smaller than n_clusters (6). Possibly due to duplicate points in X.\n",
            "  if __name__ == '__main__':\n",
            "/usr/local/lib/python3.6/dist-packages/ipykernel_launcher.py:9: ConvergenceWarning: Number of distinct clusters (5) found smaller than n_clusters (7). Possibly due to duplicate points in X.\n",
            "  if __name__ == '__main__':\n",
            "/usr/local/lib/python3.6/dist-packages/ipykernel_launcher.py:9: ConvergenceWarning: Number of distinct clusters (5) found smaller than n_clusters (8). Possibly due to duplicate points in X.\n",
            "  if __name__ == '__main__':\n",
            "/usr/local/lib/python3.6/dist-packages/ipykernel_launcher.py:9: ConvergenceWarning: Number of distinct clusters (5) found smaller than n_clusters (9). Possibly due to duplicate points in X.\n",
            "  if __name__ == '__main__':\n",
            "/usr/local/lib/python3.6/dist-packages/ipykernel_launcher.py:9: ConvergenceWarning: Number of distinct clusters (5) found smaller than n_clusters (10). Possibly due to duplicate points in X.\n",
            "  if __name__ == '__main__':\n"
          ],
          "name": "stderr"
        },
        {
          "output_type": "display_data",
          "data": {
            "image/png": "[encoded data removed]",
            "text/plain": [
              "<Figure size 432x288 with 1 Axes>"
            ]
          },
          "metadata": {
            "tags": [],
            "needs_background": "light"
          }
        }
      ]
    },
    {
      "cell_type": "code",
      "metadata": {
        "id": "M6E_ghE09RrK",
        "colab": {
          "base_uri": "https://localhost:8080/",
          "height": 295
        },
        "outputId": "7cebe430-fdc4-4282-c983-adbc1b78e340"
      },
      "source": [
        "# fitting kmeans to dataset\n",
        "kmeans = KMeans(n_clusters=4, init='k-means++', n_init=10, max_iter=300, random_state=0)\n",
        "Y_kmeans = kmeans.fit_predict(X)\n",
        "\n",
        "# Visualising the clusters\n",
        "plt.scatter(X[Y_kmeans==0, 0], X[Y_kmeans==0, 1], s=70, c='violet', label= 'Cluster 1')\n",
        "plt.scatter(X[Y_kmeans==1, 0], X[Y_kmeans==1, 1], s=70, c='cyan', label= 'Cluster 2')\n",
        "plt.scatter(X[Y_kmeans==2, 0], X[Y_kmeans==2, 1], s=70, c='green', label= 'Cluster 3')\n",
        "plt.scatter(X[Y_kmeans==3, 0], X[Y_kmeans==3, 1], s=70, c='blue', label= 'Cluster 4')\n",
        "# plt.scatter(X[Y_kmeans==4, 0], X[Y_kmeans==4, 1], s=70, c='magenta', label= 'Cluster 5')\n",
        "# plt.scatter(X[Y_kmeans==5, 0], X[Y_kmeans==5, 1], s=100, c='pink', label= 'Cluster 6')\n",
        "# plt.scatter(X[Y_kmeans==6, 0], X[Y_kmeans==6, 1], s=100, c='yellow', label= 'Cluster 7')\n",
        "plt.scatter(kmeans.cluster_centers_[:, 0], kmeans.cluster_centers_[:, 1], s=100, c='black', label='Centroids' )\n",
        "plt.title('Clusters of tweets in culture and health groups')\n",
        "plt.xlabel('health tweets')\n",
        "plt.ylabel('culture tweets')\n",
        "plt.legend()\n",
        "plt.show()"
      ],
      "execution_count": 107,
      "outputs": [
        {
          "output_type": "display_data",
          "data": {
            "image/png": "[encoded data removed]",
            "text/plain": [
              "<Figure size 432x288 with 1 Axes>"
            ]
          },
          "metadata": {
            "tags": [],
            "needs_background": "light"
          }
        }
      ]
    },
    {
      "cell_type": "markdown",
      "metadata": {
        "id": "G52oYTb-9RrK"
      },
      "source": [
        "### KMeans with PCA"
      ]
    },
    {
      "cell_type": "code",
      "metadata": {
        "id": "A3y7lxCq9RrK"
      },
      "source": [
        "from sklearn.decomposition import PCA"
      ],
      "execution_count": 108,
      "outputs": []
    },
    {
      "cell_type": "code",
      "metadata": {
        "id": "Bf7So2Rs9RrK",
        "colab": {
          "base_uri": "https://localhost:8080/"
        },
        "outputId": "780c7e26-9397-4d1a-8fa9-c366db9ba573"
      },
      "source": [
        "seg = pivot_clusters.copy()\n",
        "# seg = seg.drop\n",
        "\n",
        "pca = PCA()\n",
        "pca.fit(seg)"
      ],
      "execution_count": 109,
      "outputs": [
        {
          "output_type": "execute_result",
          "data": {
            "text/plain": [
              "PCA(copy=True, iterated_power='auto', n_components=None, random_state=None,\n",
              "    svd_solver='auto', tol=0.0, whiten=False)"
            ]
          },
          "metadata": {
            "tags": []
          },
          "execution_count": 109
        }
      ]
    },
    {
      "cell_type": "code",
      "metadata": {
        "id": "2-LJAuxc9RrK",
        "colab": {
          "base_uri": "https://localhost:8080/"
        },
        "outputId": "f49ee266-f416-4398-a3de-ce5f658b9dc0"
      },
      "source": [
        "pca.explained_variance_ratio_"
      ],
      "execution_count": 110,
      "outputs": [
        {
          "output_type": "execute_result",
          "data": {
            "text/plain": [
              "array([9.99655365e-01, 3.44634693e-04, 2.64579464e-31, 8.29005812e-35,\n",
              "       2.94432045e-35])"
            ]
          },
          "metadata": {
            "tags": []
          },
          "execution_count": 110
        }
      ]
    },
    {
      "cell_type": "code",
      "metadata": {
        "id": "m4zBgbE39RrK",
        "colab": {
          "base_uri": "https://localhost:8080/",
          "height": 405
        },
        "outputId": "963dbdee-37f1-48d5-af19-b381875740d8"
      },
      "source": [
        "plt.figure(figsize = (8,6))\n",
        "plt.plot(range(1,6), pca.explained_variance_ratio_.cumsum(), marker = 'o', linestyle = '--')\n",
        "plt.xlabel('components')\n",
        "plt.ylabel('cummulative explained variance')"
      ],
      "execution_count": 111,
      "outputs": [
        {
          "output_type": "execute_result",
          "data": {
            "text/plain": [
              "Text(0, 0.5, 'cummulative explained variance')"
            ]
          },
          "metadata": {
            "tags": []
          },
          "execution_count": 111
        },
        {
          "output_type": "display_data",
          "data": {
            "image/png": "[encoded data removed]",
            "text/plain": [
              "<Figure size 576x432 with 1 Axes>"
            ]
          },
          "metadata": {
            "tags": [],
            "needs_background": "light"
          }
        }
      ]
    },
    {
      "cell_type": "code",
      "metadata": {
        "id": "aHYux43g9RrL",
        "colab": {
          "base_uri": "https://localhost:8080/"
        },
        "outputId": "fe552f7e-a9aa-4857-f42f-d04ca0028b05"
      },
      "source": [
        "pca = PCA(n_components = 2)\n",
        "pca.fit(seg)"
      ],
      "execution_count": 112,
      "outputs": [
        {
          "output_type": "execute_result",
          "data": {
            "text/plain": [
              "PCA(copy=True, iterated_power='auto', n_components=2, random_state=None,\n",
              "    svd_solver='auto', tol=0.0, whiten=False)"
            ]
          },
          "metadata": {
            "tags": []
          },
          "execution_count": 112
        }
      ]
    },
    {
      "cell_type": "code",
      "metadata": {
        "id": "MU8mkLSI9RrL"
      },
      "source": [
        "scores = pca.transform(seg)"
      ],
      "execution_count": 113,
      "outputs": []
    },
    {
      "cell_type": "code",
      "metadata": {
        "id": "e3oW0kAr9RrL",
        "colab": {
          "base_uri": "https://localhost:8080/",
          "height": 638
        },
        "outputId": "d0d792b2-5c82-49b9-abe1-f8eeedf99c9d"
      },
      "source": [
        "# Elbow Method\n",
        "from sklearn.cluster import KMeans\n",
        "wcss = []\n",
        "for i in range(1, 15):\n",
        "    kmeans = KMeans(n_clusters=i, init='k-means++', n_init=10, max_iter=300, random_state=0)\n",
        "    kmeans.fit(scores)\n",
        "    wcss.append(kmeans.inertia_)\n",
        "plt.plot(range(1,15), wcss)\n",
        "plt.title('Elbow Method')\n",
        "plt.xlabel('KMeans with PCA clustering')\n",
        "plt.ylabel('wcss')"
      ],
      "execution_count": 114,
      "outputs": [
        {
          "output_type": "stream",
          "text": [
            "/usr/local/lib/python3.6/dist-packages/ipykernel_launcher.py:6: ConvergenceWarning: Number of distinct clusters (5) found smaller than n_clusters (6). Possibly due to duplicate points in X.\n",
            "  \n",
            "/usr/local/lib/python3.6/dist-packages/ipykernel_launcher.py:6: ConvergenceWarning: Number of distinct clusters (5) found smaller than n_clusters (7). Possibly due to duplicate points in X.\n",
            "  \n",
            "/usr/local/lib/python3.6/dist-packages/ipykernel_launcher.py:6: ConvergenceWarning: Number of distinct clusters (5) found smaller than n_clusters (8). Possibly due to duplicate points in X.\n",
            "  \n",
            "/usr/local/lib/python3.6/dist-packages/ipykernel_launcher.py:6: ConvergenceWarning: Number of distinct clusters (5) found smaller than n_clusters (9). Possibly due to duplicate points in X.\n",
            "  \n",
            "/usr/local/lib/python3.6/dist-packages/ipykernel_launcher.py:6: ConvergenceWarning: Number of distinct clusters (5) found smaller than n_clusters (10). Possibly due to duplicate points in X.\n",
            "  \n",
            "/usr/local/lib/python3.6/dist-packages/ipykernel_launcher.py:6: ConvergenceWarning: Number of distinct clusters (5) found smaller than n_clusters (11). Possibly due to duplicate points in X.\n",
            "  \n",
            "/usr/local/lib/python3.6/dist-packages/ipykernel_launcher.py:6: ConvergenceWarning: Number of distinct clusters (5) found smaller than n_clusters (12). Possibly due to duplicate points in X.\n",
            "  \n",
            "/usr/local/lib/python3.6/dist-packages/ipykernel_launcher.py:6: ConvergenceWarning: Number of distinct clusters (5) found smaller than n_clusters (13). Possibly due to duplicate points in X.\n",
            "  \n",
            "/usr/local/lib/python3.6/dist-packages/ipykernel_launcher.py:6: ConvergenceWarning: Number of distinct clusters (5) found smaller than n_clusters (14). Possibly due to duplicate points in X.\n",
            "  \n"
          ],
          "name": "stderr"
        },
        {
          "output_type": "execute_result",
          "data": {
            "text/plain": [
              "Text(0, 0.5, 'wcss')"
            ]
          },
          "metadata": {
            "tags": []
          },
          "execution_count": 114
        },
        {
          "output_type": "display_data",
          "data": {
            "image/png": "[encoded data removed]",
            "text/plain": [
              "<Figure size 432x288 with 1 Axes>"
            ]
          },
          "metadata": {
            "tags": [],
            "needs_background": "light"
          }
        }
      ]
    },
    {
      "cell_type": "code",
      "metadata": {
        "id": "pvq4szJS9RrL",
        "colab": {
          "base_uri": "https://localhost:8080/"
        },
        "outputId": "a67fa0ec-32f6-42e2-96ea-8a90f6fd875a"
      },
      "source": [
        "n = 4\n",
        "kmeans_pca = KMeans(n_clusters = n, init = 'k-means++', random_state = 0)\n",
        "kmeans_pca.fit(scores)"
      ],
      "execution_count": 115,
      "outputs": [
        {
          "output_type": "execute_result",
          "data": {
            "text/plain": [
              "KMeans(algorithm='auto', copy_x=True, init='k-means++', max_iter=300,\n",
              "       n_clusters=4, n_init=10, n_jobs=None, precompute_distances='auto',\n",
              "       random_state=0, tol=0.0001, verbose=0)"
            ]
          },
          "metadata": {
            "tags": []
          },
          "execution_count": 115
        }
      ]
    },
    {
      "cell_type": "code",
      "metadata": {
        "id": "sLn4AEYB9RrL"
      },
      "source": [
        "c = pd.concat([seg.reset_index(drop = True), pd.DataFrame(scores)], axis = 1)\n",
        "c.columns.values[-2:] = ['component1', 'component2']\n",
        "c['segment_kmeans_pca'] = kmeans_pca.labels_"
      ],
      "execution_count": 116,
      "outputs": []
    },
    {
      "cell_type": "code",
      "metadata": {
        "id": "fyAKmxVG9RrL",
        "colab": {
          "base_uri": "https://localhost:8080/",
          "height": 204
        },
        "outputId": "7ea70a39-8b91-4325-fbe1-52d5e8869c06"
      },
      "source": [
        "c.tail()"
      ],
      "execution_count": 117,
      "outputs": [
        {
          "output_type": "execute_result",
          "data": {
            "text/html": [
              "<div>\n",
              "<style scoped>\n",
              "    .dataframe tbody tr th:only-of-type {\n",
              "        vertical-align: middle;\n",
              "    }\n",
              "\n",
              "    .dataframe tbody tr th {\n",
              "        vertical-align: top;\n",
              "    }\n",
              "\n",
              "    .dataframe thead th {\n",
              "        text-align: right;\n",
              "    }\n",
              "</style>\n",
              "<table border=\"1\" class=\"dataframe\">\n",
              "  <thead>\n",
              "    <tr style=\"text-align: right;\">\n",
              "      <th></th>\n",
              "      <th>economic</th>\n",
              "      <th>social</th>\n",
              "      <th>culture</th>\n",
              "      <th>health</th>\n",
              "      <th>total</th>\n",
              "      <th>component1</th>\n",
              "      <th>component2</th>\n",
              "      <th>segment_kmeans_pca</th>\n",
              "    </tr>\n",
              "  </thead>\n",
              "  <tbody>\n",
              "    <tr>\n",
              "      <th>124</th>\n",
              "      <td>0</td>\n",
              "      <td>0</td>\n",
              "      <td>0</td>\n",
              "      <td>0</td>\n",
              "      <td>0</td>\n",
              "      <td>-2.443848</td>\n",
              "      <td>0.034121</td>\n",
              "      <td>1</td>\n",
              "    </tr>\n",
              "    <tr>\n",
              "      <th>125</th>\n",
              "      <td>3</td>\n",
              "      <td>3</td>\n",
              "      <td>3</td>\n",
              "      <td>3</td>\n",
              "      <td>12</td>\n",
              "      <td>10.970590</td>\n",
              "      <td>-0.195727</td>\n",
              "      <td>3</td>\n",
              "    </tr>\n",
              "    <tr>\n",
              "      <th>126</th>\n",
              "      <td>1</td>\n",
              "      <td>1</td>\n",
              "      <td>1</td>\n",
              "      <td>1</td>\n",
              "      <td>4</td>\n",
              "      <td>2.027631</td>\n",
              "      <td>-0.042495</td>\n",
              "      <td>0</td>\n",
              "    </tr>\n",
              "    <tr>\n",
              "      <th>127</th>\n",
              "      <td>1</td>\n",
              "      <td>1</td>\n",
              "      <td>1</td>\n",
              "      <td>1</td>\n",
              "      <td>4</td>\n",
              "      <td>2.027631</td>\n",
              "      <td>-0.042495</td>\n",
              "      <td>0</td>\n",
              "    </tr>\n",
              "    <tr>\n",
              "      <th>128</th>\n",
              "      <td>0</td>\n",
              "      <td>0</td>\n",
              "      <td>0</td>\n",
              "      <td>0</td>\n",
              "      <td>0</td>\n",
              "      <td>-2.443848</td>\n",
              "      <td>0.034121</td>\n",
              "      <td>1</td>\n",
              "    </tr>\n",
              "  </tbody>\n",
              "</table>\n",
              "</div>"
            ],
            "text/plain": [
              "     economic  social  culture  ...  component1  component2  segment_kmeans_pca\n",
              "124         0       0        0  ...   -2.443848    0.034121                   1\n",
              "125         3       3        3  ...   10.970590   -0.195727                   3\n",
              "126         1       1        1  ...    2.027631   -0.042495                   0\n",
              "127         1       1        1  ...    2.027631   -0.042495                   0\n",
              "128         0       0        0  ...   -2.443848    0.034121                   1\n",
              "\n",
              "[5 rows x 8 columns]"
            ]
          },
          "metadata": {
            "tags": []
          },
          "execution_count": 117
        }
      ]
    },
    {
      "cell_type": "code",
      "metadata": {
        "id": "aXltt2Gj9RrL",
        "colab": {
          "base_uri": "https://localhost:8080/",
          "height": 530
        },
        "outputId": "b95e67fe-4735-47cf-8840-018499026e93"
      },
      "source": [
        "plt.figure(figsize = (10,8))\n",
        "sns.scatterplot(x = c['component1'], y = c['component2'], hue = c['segment_kmeans_pca'], palette = ['g', 'r', 'b', 'y'])\n",
        "plt.title('Clusters by PCA')"
      ],
      "execution_count": 118,
      "outputs": [
        {
          "output_type": "execute_result",
          "data": {
            "text/plain": [
              "Text(0.5, 1.0, 'Clusters by PCA')"
            ]
          },
          "metadata": {
            "tags": []
          },
          "execution_count": 118
        },
        {
          "output_type": "display_data",
          "data": {
            "image/png": "[encoded data removed]",
            "text/plain": [
              "<Figure size 720x576 with 1 Axes>"
            ]
          },
          "metadata": {
            "tags": [],
            "needs_background": "light"
          }
        }
      ]
    }
  ]
}